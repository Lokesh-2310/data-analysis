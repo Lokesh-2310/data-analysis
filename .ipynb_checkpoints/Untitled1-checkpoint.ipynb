{
 "cells": [
  {
   "cell_type": "code",
   "execution_count": 740,
   "id": "e1be0313",
   "metadata": {},
   "outputs": [],
   "source": [
    "import numpy as np\n",
    "import pandas as pd\n",
    "import seaborn as sns\n",
    "import matplotlib.pyplot as plt\n",
    "import plotly.express as px"
   ]
  },
  {
   "cell_type": "code",
   "execution_count": 2,
   "id": "67a2ff0e",
   "metadata": {},
   "outputs": [],
   "source": [
    "phones=pd.read_csv('smartphones.csv')"
   ]
  },
  {
   "cell_type": "code",
   "execution_count": 3,
   "id": "e6c98448",
   "metadata": {},
   "outputs": [
    {
     "data": {
      "text/html": [
       "<div>\n",
       "<style scoped>\n",
       "    .dataframe tbody tr th:only-of-type {\n",
       "        vertical-align: middle;\n",
       "    }\n",
       "\n",
       "    .dataframe tbody tr th {\n",
       "        vertical-align: top;\n",
       "    }\n",
       "\n",
       "    .dataframe thead th {\n",
       "        text-align: right;\n",
       "    }\n",
       "</style>\n",
       "<table border=\"1\" class=\"dataframe\">\n",
       "  <thead>\n",
       "    <tr style=\"text-align: right;\">\n",
       "      <th></th>\n",
       "      <th>brand_name</th>\n",
       "      <th>model</th>\n",
       "      <th>price</th>\n",
       "      <th>avg_rating</th>\n",
       "      <th>5G_or_not</th>\n",
       "      <th>processor_brand</th>\n",
       "      <th>num_cores</th>\n",
       "      <th>processor_speed</th>\n",
       "      <th>battery_capacity</th>\n",
       "      <th>fast_charging_available</th>\n",
       "      <th>...</th>\n",
       "      <th>internal_memory</th>\n",
       "      <th>screen_size</th>\n",
       "      <th>refresh_rate</th>\n",
       "      <th>num_rear_cameras</th>\n",
       "      <th>os</th>\n",
       "      <th>primary_camera_rear</th>\n",
       "      <th>primary_camera_front</th>\n",
       "      <th>extended_memory_available</th>\n",
       "      <th>resolution_height</th>\n",
       "      <th>resolution_width</th>\n",
       "    </tr>\n",
       "  </thead>\n",
       "  <tbody>\n",
       "    <tr>\n",
       "      <th>0</th>\n",
       "      <td>apple</td>\n",
       "      <td>Apple iPhone 11</td>\n",
       "      <td>38999</td>\n",
       "      <td>7.3</td>\n",
       "      <td>0</td>\n",
       "      <td>bionic</td>\n",
       "      <td>6.0</td>\n",
       "      <td>2.65</td>\n",
       "      <td>3110.0</td>\n",
       "      <td>0</td>\n",
       "      <td>...</td>\n",
       "      <td>64</td>\n",
       "      <td>6.1</td>\n",
       "      <td>60</td>\n",
       "      <td>2</td>\n",
       "      <td>ios</td>\n",
       "      <td>12.0</td>\n",
       "      <td>12.0</td>\n",
       "      <td>0</td>\n",
       "      <td>1792</td>\n",
       "      <td>828</td>\n",
       "    </tr>\n",
       "    <tr>\n",
       "      <th>1</th>\n",
       "      <td>apple</td>\n",
       "      <td>Apple iPhone 11 (128GB)</td>\n",
       "      <td>46999</td>\n",
       "      <td>7.5</td>\n",
       "      <td>0</td>\n",
       "      <td>bionic</td>\n",
       "      <td>6.0</td>\n",
       "      <td>2.65</td>\n",
       "      <td>3110.0</td>\n",
       "      <td>0</td>\n",
       "      <td>...</td>\n",
       "      <td>128</td>\n",
       "      <td>6.1</td>\n",
       "      <td>60</td>\n",
       "      <td>2</td>\n",
       "      <td>ios</td>\n",
       "      <td>12.0</td>\n",
       "      <td>12.0</td>\n",
       "      <td>0</td>\n",
       "      <td>1792</td>\n",
       "      <td>828</td>\n",
       "    </tr>\n",
       "    <tr>\n",
       "      <th>2</th>\n",
       "      <td>apple</td>\n",
       "      <td>Apple iPhone 11 Pro Max</td>\n",
       "      <td>109900</td>\n",
       "      <td>7.7</td>\n",
       "      <td>0</td>\n",
       "      <td>bionic</td>\n",
       "      <td>6.0</td>\n",
       "      <td>2.65</td>\n",
       "      <td>3500.0</td>\n",
       "      <td>1</td>\n",
       "      <td>...</td>\n",
       "      <td>64</td>\n",
       "      <td>6.5</td>\n",
       "      <td>60</td>\n",
       "      <td>3</td>\n",
       "      <td>ios</td>\n",
       "      <td>12.0</td>\n",
       "      <td>12.0</td>\n",
       "      <td>0</td>\n",
       "      <td>2688</td>\n",
       "      <td>1242</td>\n",
       "    </tr>\n",
       "    <tr>\n",
       "      <th>3</th>\n",
       "      <td>apple</td>\n",
       "      <td>Apple iPhone 12</td>\n",
       "      <td>51999</td>\n",
       "      <td>7.4</td>\n",
       "      <td>1</td>\n",
       "      <td>bionic</td>\n",
       "      <td>6.0</td>\n",
       "      <td>3.10</td>\n",
       "      <td>NaN</td>\n",
       "      <td>0</td>\n",
       "      <td>...</td>\n",
       "      <td>64</td>\n",
       "      <td>6.1</td>\n",
       "      <td>60</td>\n",
       "      <td>2</td>\n",
       "      <td>ios</td>\n",
       "      <td>12.0</td>\n",
       "      <td>12.0</td>\n",
       "      <td>0</td>\n",
       "      <td>2532</td>\n",
       "      <td>1170</td>\n",
       "    </tr>\n",
       "    <tr>\n",
       "      <th>4</th>\n",
       "      <td>apple</td>\n",
       "      <td>Apple iPhone 12 (128GB)</td>\n",
       "      <td>55999</td>\n",
       "      <td>7.5</td>\n",
       "      <td>1</td>\n",
       "      <td>bionic</td>\n",
       "      <td>6.0</td>\n",
       "      <td>3.10</td>\n",
       "      <td>NaN</td>\n",
       "      <td>0</td>\n",
       "      <td>...</td>\n",
       "      <td>128</td>\n",
       "      <td>6.1</td>\n",
       "      <td>60</td>\n",
       "      <td>2</td>\n",
       "      <td>ios</td>\n",
       "      <td>12.0</td>\n",
       "      <td>12.0</td>\n",
       "      <td>0</td>\n",
       "      <td>2532</td>\n",
       "      <td>1170</td>\n",
       "    </tr>\n",
       "  </tbody>\n",
       "</table>\n",
       "<p>5 rows × 22 columns</p>\n",
       "</div>"
      ],
      "text/plain": [
       "  brand_name                    model   price  avg_rating  5G_or_not   \n",
       "0      apple          Apple iPhone 11   38999         7.3          0  \\\n",
       "1      apple  Apple iPhone 11 (128GB)   46999         7.5          0   \n",
       "2      apple  Apple iPhone 11 Pro Max  109900         7.7          0   \n",
       "3      apple          Apple iPhone 12   51999         7.4          1   \n",
       "4      apple  Apple iPhone 12 (128GB)   55999         7.5          1   \n",
       "\n",
       "  processor_brand  num_cores  processor_speed  battery_capacity   \n",
       "0          bionic        6.0             2.65            3110.0  \\\n",
       "1          bionic        6.0             2.65            3110.0   \n",
       "2          bionic        6.0             2.65            3500.0   \n",
       "3          bionic        6.0             3.10               NaN   \n",
       "4          bionic        6.0             3.10               NaN   \n",
       "\n",
       "   fast_charging_available  ...  internal_memory  screen_size  refresh_rate   \n",
       "0                        0  ...               64          6.1            60  \\\n",
       "1                        0  ...              128          6.1            60   \n",
       "2                        1  ...               64          6.5            60   \n",
       "3                        0  ...               64          6.1            60   \n",
       "4                        0  ...              128          6.1            60   \n",
       "\n",
       "   num_rear_cameras   os  primary_camera_rear primary_camera_front   \n",
       "0                 2  ios                 12.0                 12.0  \\\n",
       "1                 2  ios                 12.0                 12.0   \n",
       "2                 3  ios                 12.0                 12.0   \n",
       "3                 2  ios                 12.0                 12.0   \n",
       "4                 2  ios                 12.0                 12.0   \n",
       "\n",
       "   extended_memory_available  resolution_height  resolution_width  \n",
       "0                          0               1792               828  \n",
       "1                          0               1792               828  \n",
       "2                          0               2688              1242  \n",
       "3                          0               2532              1170  \n",
       "4                          0               2532              1170  \n",
       "\n",
       "[5 rows x 22 columns]"
      ]
     },
     "execution_count": 3,
     "metadata": {},
     "output_type": "execute_result"
    }
   ],
   "source": [
    "phones.head()"
   ]
  },
  {
   "cell_type": "code",
   "execution_count": 4,
   "id": "3c8354fd",
   "metadata": {},
   "outputs": [
    {
     "data": {
      "text/html": [
       "<div>\n",
       "<style scoped>\n",
       "    .dataframe tbody tr th:only-of-type {\n",
       "        vertical-align: middle;\n",
       "    }\n",
       "\n",
       "    .dataframe tbody tr th {\n",
       "        vertical-align: top;\n",
       "    }\n",
       "\n",
       "    .dataframe thead th {\n",
       "        text-align: right;\n",
       "    }\n",
       "</style>\n",
       "<table border=\"1\" class=\"dataframe\">\n",
       "  <thead>\n",
       "    <tr style=\"text-align: right;\">\n",
       "      <th></th>\n",
       "      <th>brand_name</th>\n",
       "      <th>model</th>\n",
       "      <th>price</th>\n",
       "      <th>avg_rating</th>\n",
       "      <th>5G_or_not</th>\n",
       "      <th>processor_brand</th>\n",
       "      <th>num_cores</th>\n",
       "      <th>processor_speed</th>\n",
       "      <th>battery_capacity</th>\n",
       "      <th>fast_charging_available</th>\n",
       "      <th>...</th>\n",
       "      <th>internal_memory</th>\n",
       "      <th>screen_size</th>\n",
       "      <th>refresh_rate</th>\n",
       "      <th>num_rear_cameras</th>\n",
       "      <th>os</th>\n",
       "      <th>primary_camera_rear</th>\n",
       "      <th>primary_camera_front</th>\n",
       "      <th>extended_memory_available</th>\n",
       "      <th>resolution_height</th>\n",
       "      <th>resolution_width</th>\n",
       "    </tr>\n",
       "  </thead>\n",
       "  <tbody>\n",
       "    <tr>\n",
       "      <th>975</th>\n",
       "      <td>xiaomi</td>\n",
       "      <td>Xiaomi Redmi Note 9 Pro</td>\n",
       "      <td>13999</td>\n",
       "      <td>7.5</td>\n",
       "      <td>0</td>\n",
       "      <td>snapdragon</td>\n",
       "      <td>8.0</td>\n",
       "      <td>2.3</td>\n",
       "      <td>5020.0</td>\n",
       "      <td>1</td>\n",
       "      <td>...</td>\n",
       "      <td>64</td>\n",
       "      <td>6.67</td>\n",
       "      <td>60</td>\n",
       "      <td>4</td>\n",
       "      <td>android</td>\n",
       "      <td>48.0</td>\n",
       "      <td>16.0</td>\n",
       "      <td>1</td>\n",
       "      <td>2400</td>\n",
       "      <td>1080</td>\n",
       "    </tr>\n",
       "    <tr>\n",
       "      <th>976</th>\n",
       "      <td>xiaomi</td>\n",
       "      <td>Xiaomi Redmi Note 9 Pro (4GB RAM + 128GB)</td>\n",
       "      <td>14439</td>\n",
       "      <td>7.7</td>\n",
       "      <td>0</td>\n",
       "      <td>snapdragon</td>\n",
       "      <td>8.0</td>\n",
       "      <td>2.3</td>\n",
       "      <td>5020.0</td>\n",
       "      <td>1</td>\n",
       "      <td>...</td>\n",
       "      <td>128</td>\n",
       "      <td>6.67</td>\n",
       "      <td>60</td>\n",
       "      <td>4</td>\n",
       "      <td>android</td>\n",
       "      <td>48.0</td>\n",
       "      <td>16.0</td>\n",
       "      <td>1</td>\n",
       "      <td>2400</td>\n",
       "      <td>1080</td>\n",
       "    </tr>\n",
       "    <tr>\n",
       "      <th>977</th>\n",
       "      <td>xiaomi</td>\n",
       "      <td>Xiaomi Redmi Note 9 Pro Max</td>\n",
       "      <td>16490</td>\n",
       "      <td>8.0</td>\n",
       "      <td>0</td>\n",
       "      <td>snapdragon</td>\n",
       "      <td>8.0</td>\n",
       "      <td>2.3</td>\n",
       "      <td>5020.0</td>\n",
       "      <td>1</td>\n",
       "      <td>...</td>\n",
       "      <td>64</td>\n",
       "      <td>6.67</td>\n",
       "      <td>60</td>\n",
       "      <td>4</td>\n",
       "      <td>android</td>\n",
       "      <td>64.0</td>\n",
       "      <td>32.0</td>\n",
       "      <td>1</td>\n",
       "      <td>2400</td>\n",
       "      <td>1080</td>\n",
       "    </tr>\n",
       "    <tr>\n",
       "      <th>978</th>\n",
       "      <td>zte</td>\n",
       "      <td>ZTE Axon 30S</td>\n",
       "      <td>19999</td>\n",
       "      <td>8.2</td>\n",
       "      <td>1</td>\n",
       "      <td>snapdragon</td>\n",
       "      <td>8.0</td>\n",
       "      <td>3.2</td>\n",
       "      <td>4200.0</td>\n",
       "      <td>1</td>\n",
       "      <td>...</td>\n",
       "      <td>128</td>\n",
       "      <td>6.90</td>\n",
       "      <td>120</td>\n",
       "      <td>4</td>\n",
       "      <td>android</td>\n",
       "      <td>50.0</td>\n",
       "      <td>16.0</td>\n",
       "      <td>1</td>\n",
       "      <td>2460</td>\n",
       "      <td>1080</td>\n",
       "    </tr>\n",
       "    <tr>\n",
       "      <th>979</th>\n",
       "      <td>zte</td>\n",
       "      <td>ZTE Axon 40 Ultra 5G</td>\n",
       "      <td>61990</td>\n",
       "      <td>8.9</td>\n",
       "      <td>1</td>\n",
       "      <td>snapdragon</td>\n",
       "      <td>8.0</td>\n",
       "      <td>3.0</td>\n",
       "      <td>5000.0</td>\n",
       "      <td>1</td>\n",
       "      <td>...</td>\n",
       "      <td>128</td>\n",
       "      <td>6.80</td>\n",
       "      <td>120</td>\n",
       "      <td>3</td>\n",
       "      <td>android</td>\n",
       "      <td>64.0</td>\n",
       "      <td>16.0</td>\n",
       "      <td>0</td>\n",
       "      <td>2480</td>\n",
       "      <td>1116</td>\n",
       "    </tr>\n",
       "  </tbody>\n",
       "</table>\n",
       "<p>5 rows × 22 columns</p>\n",
       "</div>"
      ],
      "text/plain": [
       "    brand_name                                      model  price  avg_rating   \n",
       "975     xiaomi                    Xiaomi Redmi Note 9 Pro  13999         7.5  \\\n",
       "976     xiaomi  Xiaomi Redmi Note 9 Pro (4GB RAM + 128GB)  14439         7.7   \n",
       "977     xiaomi                Xiaomi Redmi Note 9 Pro Max  16490         8.0   \n",
       "978        zte                               ZTE Axon 30S  19999         8.2   \n",
       "979        zte                       ZTE Axon 40 Ultra 5G  61990         8.9   \n",
       "\n",
       "     5G_or_not processor_brand  num_cores  processor_speed  battery_capacity   \n",
       "975          0      snapdragon        8.0              2.3            5020.0  \\\n",
       "976          0      snapdragon        8.0              2.3            5020.0   \n",
       "977          0      snapdragon        8.0              2.3            5020.0   \n",
       "978          1      snapdragon        8.0              3.2            4200.0   \n",
       "979          1      snapdragon        8.0              3.0            5000.0   \n",
       "\n",
       "     fast_charging_available  ...  internal_memory  screen_size  refresh_rate   \n",
       "975                        1  ...               64         6.67            60  \\\n",
       "976                        1  ...              128         6.67            60   \n",
       "977                        1  ...               64         6.67            60   \n",
       "978                        1  ...              128         6.90           120   \n",
       "979                        1  ...              128         6.80           120   \n",
       "\n",
       "     num_rear_cameras       os  primary_camera_rear primary_camera_front   \n",
       "975                 4  android                 48.0                 16.0  \\\n",
       "976                 4  android                 48.0                 16.0   \n",
       "977                 4  android                 64.0                 32.0   \n",
       "978                 4  android                 50.0                 16.0   \n",
       "979                 3  android                 64.0                 16.0   \n",
       "\n",
       "     extended_memory_available  resolution_height  resolution_width  \n",
       "975                          1               2400              1080  \n",
       "976                          1               2400              1080  \n",
       "977                          1               2400              1080  \n",
       "978                          1               2460              1080  \n",
       "979                          0               2480              1116  \n",
       "\n",
       "[5 rows x 22 columns]"
      ]
     },
     "execution_count": 4,
     "metadata": {},
     "output_type": "execute_result"
    }
   ],
   "source": [
    "phones.tail()"
   ]
  },
  {
   "cell_type": "code",
   "execution_count": 5,
   "id": "e29aa4e0",
   "metadata": {},
   "outputs": [
    {
     "data": {
      "text/html": [
       "<div>\n",
       "<style scoped>\n",
       "    .dataframe tbody tr th:only-of-type {\n",
       "        vertical-align: middle;\n",
       "    }\n",
       "\n",
       "    .dataframe tbody tr th {\n",
       "        vertical-align: top;\n",
       "    }\n",
       "\n",
       "    .dataframe thead th {\n",
       "        text-align: right;\n",
       "    }\n",
       "</style>\n",
       "<table border=\"1\" class=\"dataframe\">\n",
       "  <thead>\n",
       "    <tr style=\"text-align: right;\">\n",
       "      <th></th>\n",
       "      <th>brand_name</th>\n",
       "      <th>model</th>\n",
       "      <th>price</th>\n",
       "      <th>avg_rating</th>\n",
       "      <th>5G_or_not</th>\n",
       "      <th>processor_brand</th>\n",
       "      <th>num_cores</th>\n",
       "      <th>processor_speed</th>\n",
       "      <th>battery_capacity</th>\n",
       "      <th>fast_charging_available</th>\n",
       "      <th>...</th>\n",
       "      <th>internal_memory</th>\n",
       "      <th>screen_size</th>\n",
       "      <th>refresh_rate</th>\n",
       "      <th>num_rear_cameras</th>\n",
       "      <th>os</th>\n",
       "      <th>primary_camera_rear</th>\n",
       "      <th>primary_camera_front</th>\n",
       "      <th>extended_memory_available</th>\n",
       "      <th>resolution_height</th>\n",
       "      <th>resolution_width</th>\n",
       "    </tr>\n",
       "  </thead>\n",
       "  <tbody>\n",
       "    <tr>\n",
       "      <th>479</th>\n",
       "      <td>realme</td>\n",
       "      <td>Realme 9 5G SE (8GB RAM + 128GB)</td>\n",
       "      <td>22998</td>\n",
       "      <td>8.2</td>\n",
       "      <td>1</td>\n",
       "      <td>snapdragon</td>\n",
       "      <td>8.0</td>\n",
       "      <td>2.4</td>\n",
       "      <td>5000.0</td>\n",
       "      <td>1</td>\n",
       "      <td>...</td>\n",
       "      <td>128</td>\n",
       "      <td>6.60</td>\n",
       "      <td>144</td>\n",
       "      <td>3</td>\n",
       "      <td>android</td>\n",
       "      <td>48.0</td>\n",
       "      <td>16.0</td>\n",
       "      <td>1</td>\n",
       "      <td>2412</td>\n",
       "      <td>1080</td>\n",
       "    </tr>\n",
       "    <tr>\n",
       "      <th>886</th>\n",
       "      <td>xiaomi</td>\n",
       "      <td>Xiaomi Redmi 10A (6GB RAM + 128GB)</td>\n",
       "      <td>10850</td>\n",
       "      <td>7.0</td>\n",
       "      <td>0</td>\n",
       "      <td>helio</td>\n",
       "      <td>8.0</td>\n",
       "      <td>2.0</td>\n",
       "      <td>5000.0</td>\n",
       "      <td>0</td>\n",
       "      <td>...</td>\n",
       "      <td>128</td>\n",
       "      <td>6.53</td>\n",
       "      <td>60</td>\n",
       "      <td>1</td>\n",
       "      <td>android</td>\n",
       "      <td>13.0</td>\n",
       "      <td>5.0</td>\n",
       "      <td>1</td>\n",
       "      <td>1600</td>\n",
       "      <td>720</td>\n",
       "    </tr>\n",
       "    <tr>\n",
       "      <th>962</th>\n",
       "      <td>xiaomi</td>\n",
       "      <td>Xiaomi Redmi Note 12 Pro 5G</td>\n",
       "      <td>24762</td>\n",
       "      <td>7.9</td>\n",
       "      <td>1</td>\n",
       "      <td>dimensity</td>\n",
       "      <td>8.0</td>\n",
       "      <td>2.6</td>\n",
       "      <td>5000.0</td>\n",
       "      <td>1</td>\n",
       "      <td>...</td>\n",
       "      <td>128</td>\n",
       "      <td>6.67</td>\n",
       "      <td>120</td>\n",
       "      <td>3</td>\n",
       "      <td>android</td>\n",
       "      <td>50.0</td>\n",
       "      <td>16.0</td>\n",
       "      <td>0</td>\n",
       "      <td>2400</td>\n",
       "      <td>1080</td>\n",
       "    </tr>\n",
       "    <tr>\n",
       "      <th>230</th>\n",
       "      <td>motorola</td>\n",
       "      <td>Motorola Moto G31 (6GB RAM+ 128GB)</td>\n",
       "      <td>11999</td>\n",
       "      <td>7.8</td>\n",
       "      <td>0</td>\n",
       "      <td>helio</td>\n",
       "      <td>8.0</td>\n",
       "      <td>2.0</td>\n",
       "      <td>5000.0</td>\n",
       "      <td>1</td>\n",
       "      <td>...</td>\n",
       "      <td>128</td>\n",
       "      <td>6.47</td>\n",
       "      <td>60</td>\n",
       "      <td>3</td>\n",
       "      <td>android</td>\n",
       "      <td>50.0</td>\n",
       "      <td>13.0</td>\n",
       "      <td>1</td>\n",
       "      <td>2400</td>\n",
       "      <td>1080</td>\n",
       "    </tr>\n",
       "    <tr>\n",
       "      <th>38</th>\n",
       "      <td>apple</td>\n",
       "      <td>Apple iPhone 15 Pro Max</td>\n",
       "      <td>142990</td>\n",
       "      <td>7.9</td>\n",
       "      <td>1</td>\n",
       "      <td>bionic</td>\n",
       "      <td>NaN</td>\n",
       "      <td>NaN</td>\n",
       "      <td>4352.0</td>\n",
       "      <td>1</td>\n",
       "      <td>...</td>\n",
       "      <td>256</td>\n",
       "      <td>6.68</td>\n",
       "      <td>120</td>\n",
       "      <td>3</td>\n",
       "      <td>ios</td>\n",
       "      <td>50.0</td>\n",
       "      <td>12.0</td>\n",
       "      <td>0</td>\n",
       "      <td>2778</td>\n",
       "      <td>1284</td>\n",
       "    </tr>\n",
       "    <tr>\n",
       "      <th>600</th>\n",
       "      <td>samsung</td>\n",
       "      <td>Samsung Galaxy A54 5G</td>\n",
       "      <td>34999</td>\n",
       "      <td>7.6</td>\n",
       "      <td>1</td>\n",
       "      <td>exynos</td>\n",
       "      <td>8.0</td>\n",
       "      <td>NaN</td>\n",
       "      <td>5000.0</td>\n",
       "      <td>1</td>\n",
       "      <td>...</td>\n",
       "      <td>128</td>\n",
       "      <td>6.40</td>\n",
       "      <td>120</td>\n",
       "      <td>3</td>\n",
       "      <td>android</td>\n",
       "      <td>50.0</td>\n",
       "      <td>32.0</td>\n",
       "      <td>1</td>\n",
       "      <td>2400</td>\n",
       "      <td>1080</td>\n",
       "    </tr>\n",
       "    <tr>\n",
       "      <th>377</th>\n",
       "      <td>oppo</td>\n",
       "      <td>Oppo Find X6 Pro</td>\n",
       "      <td>77990</td>\n",
       "      <td>NaN</td>\n",
       "      <td>1</td>\n",
       "      <td>snapdragon</td>\n",
       "      <td>8.0</td>\n",
       "      <td>3.2</td>\n",
       "      <td>4700.0</td>\n",
       "      <td>1</td>\n",
       "      <td>...</td>\n",
       "      <td>256</td>\n",
       "      <td>6.78</td>\n",
       "      <td>120</td>\n",
       "      <td>3</td>\n",
       "      <td>android</td>\n",
       "      <td>50.0</td>\n",
       "      <td>32.0</td>\n",
       "      <td>0</td>\n",
       "      <td>2400</td>\n",
       "      <td>1080</td>\n",
       "    </tr>\n",
       "    <tr>\n",
       "      <th>965</th>\n",
       "      <td>xiaomi</td>\n",
       "      <td>Xiaomi Redmi Note 12 Pro Plus (12GB RAM + 256GB)</td>\n",
       "      <td>32999</td>\n",
       "      <td>8.7</td>\n",
       "      <td>1</td>\n",
       "      <td>dimensity</td>\n",
       "      <td>8.0</td>\n",
       "      <td>2.6</td>\n",
       "      <td>4980.0</td>\n",
       "      <td>1</td>\n",
       "      <td>...</td>\n",
       "      <td>256</td>\n",
       "      <td>6.67</td>\n",
       "      <td>120</td>\n",
       "      <td>3</td>\n",
       "      <td>android</td>\n",
       "      <td>200.0</td>\n",
       "      <td>16.0</td>\n",
       "      <td>0</td>\n",
       "      <td>2400</td>\n",
       "      <td>1080</td>\n",
       "    </tr>\n",
       "    <tr>\n",
       "      <th>197</th>\n",
       "      <td>lg</td>\n",
       "      <td>LG Wing 5G</td>\n",
       "      <td>54999</td>\n",
       "      <td>8.9</td>\n",
       "      <td>1</td>\n",
       "      <td>snapdragon</td>\n",
       "      <td>8.0</td>\n",
       "      <td>2.4</td>\n",
       "      <td>4000.0</td>\n",
       "      <td>1</td>\n",
       "      <td>...</td>\n",
       "      <td>128</td>\n",
       "      <td>6.80</td>\n",
       "      <td>60</td>\n",
       "      <td>3</td>\n",
       "      <td>NaN</td>\n",
       "      <td>64.0</td>\n",
       "      <td>32.0</td>\n",
       "      <td>0</td>\n",
       "      <td>2460</td>\n",
       "      <td>1080</td>\n",
       "    </tr>\n",
       "    <tr>\n",
       "      <th>907</th>\n",
       "      <td>xiaomi</td>\n",
       "      <td>Xiaomi Redmi A1 Plus</td>\n",
       "      <td>7289</td>\n",
       "      <td>6.0</td>\n",
       "      <td>0</td>\n",
       "      <td>helio</td>\n",
       "      <td>4.0</td>\n",
       "      <td>2.0</td>\n",
       "      <td>5000.0</td>\n",
       "      <td>1</td>\n",
       "      <td>...</td>\n",
       "      <td>32</td>\n",
       "      <td>6.52</td>\n",
       "      <td>60</td>\n",
       "      <td>2</td>\n",
       "      <td>android</td>\n",
       "      <td>8.0</td>\n",
       "      <td>5.0</td>\n",
       "      <td>1</td>\n",
       "      <td>1600</td>\n",
       "      <td>720</td>\n",
       "    </tr>\n",
       "  </tbody>\n",
       "</table>\n",
       "<p>10 rows × 22 columns</p>\n",
       "</div>"
      ],
      "text/plain": [
       "    brand_name                                             model   price   \n",
       "479     realme                  Realme 9 5G SE (8GB RAM + 128GB)   22998  \\\n",
       "886     xiaomi                Xiaomi Redmi 10A (6GB RAM + 128GB)   10850   \n",
       "962     xiaomi                       Xiaomi Redmi Note 12 Pro 5G   24762   \n",
       "230   motorola                Motorola Moto G31 (6GB RAM+ 128GB)   11999   \n",
       "38       apple                           Apple iPhone 15 Pro Max  142990   \n",
       "600    samsung                             Samsung Galaxy A54 5G   34999   \n",
       "377       oppo                                  Oppo Find X6 Pro   77990   \n",
       "965     xiaomi  Xiaomi Redmi Note 12 Pro Plus (12GB RAM + 256GB)   32999   \n",
       "197         lg                                        LG Wing 5G   54999   \n",
       "907     xiaomi                              Xiaomi Redmi A1 Plus    7289   \n",
       "\n",
       "     avg_rating  5G_or_not processor_brand  num_cores  processor_speed   \n",
       "479         8.2          1      snapdragon        8.0              2.4  \\\n",
       "886         7.0          0           helio        8.0              2.0   \n",
       "962         7.9          1       dimensity        8.0              2.6   \n",
       "230         7.8          0           helio        8.0              2.0   \n",
       "38          7.9          1          bionic        NaN              NaN   \n",
       "600         7.6          1          exynos        8.0              NaN   \n",
       "377         NaN          1      snapdragon        8.0              3.2   \n",
       "965         8.7          1       dimensity        8.0              2.6   \n",
       "197         8.9          1      snapdragon        8.0              2.4   \n",
       "907         6.0          0           helio        4.0              2.0   \n",
       "\n",
       "     battery_capacity  fast_charging_available  ...  internal_memory   \n",
       "479            5000.0                        1  ...              128  \\\n",
       "886            5000.0                        0  ...              128   \n",
       "962            5000.0                        1  ...              128   \n",
       "230            5000.0                        1  ...              128   \n",
       "38             4352.0                        1  ...              256   \n",
       "600            5000.0                        1  ...              128   \n",
       "377            4700.0                        1  ...              256   \n",
       "965            4980.0                        1  ...              256   \n",
       "197            4000.0                        1  ...              128   \n",
       "907            5000.0                        1  ...               32   \n",
       "\n",
       "     screen_size  refresh_rate  num_rear_cameras       os   \n",
       "479         6.60           144                 3  android  \\\n",
       "886         6.53            60                 1  android   \n",
       "962         6.67           120                 3  android   \n",
       "230         6.47            60                 3  android   \n",
       "38          6.68           120                 3      ios   \n",
       "600         6.40           120                 3  android   \n",
       "377         6.78           120                 3  android   \n",
       "965         6.67           120                 3  android   \n",
       "197         6.80            60                 3      NaN   \n",
       "907         6.52            60                 2  android   \n",
       "\n",
       "     primary_camera_rear primary_camera_front  extended_memory_available   \n",
       "479                 48.0                 16.0                          1  \\\n",
       "886                 13.0                  5.0                          1   \n",
       "962                 50.0                 16.0                          0   \n",
       "230                 50.0                 13.0                          1   \n",
       "38                  50.0                 12.0                          0   \n",
       "600                 50.0                 32.0                          1   \n",
       "377                 50.0                 32.0                          0   \n",
       "965                200.0                 16.0                          0   \n",
       "197                 64.0                 32.0                          0   \n",
       "907                  8.0                  5.0                          1   \n",
       "\n",
       "     resolution_height  resolution_width  \n",
       "479               2412              1080  \n",
       "886               1600               720  \n",
       "962               2400              1080  \n",
       "230               2400              1080  \n",
       "38                2778              1284  \n",
       "600               2400              1080  \n",
       "377               2400              1080  \n",
       "965               2400              1080  \n",
       "197               2460              1080  \n",
       "907               1600               720  \n",
       "\n",
       "[10 rows x 22 columns]"
      ]
     },
     "execution_count": 5,
     "metadata": {},
     "output_type": "execute_result"
    }
   ],
   "source": [
    "phones.sample(10)"
   ]
  },
  {
   "cell_type": "code",
   "execution_count": 726,
   "id": "69aee10f",
   "metadata": {},
   "outputs": [
    {
     "data": {
      "text/plain": [
       "fast_charging    209\n",
       "dtype: int64"
      ]
     },
     "execution_count": 726,
     "metadata": {},
     "output_type": "execute_result"
    }
   ],
   "source": [
    "sum_null=phones.isnull().sum()\n",
    "sum_null[sum_null!=0]"
   ]
  },
  {
   "cell_type": "code",
   "execution_count": 727,
   "id": "edaa8d92",
   "metadata": {},
   "outputs": [],
   "source": [
    "per_null=(phones.isnull().sum()/phones.shape[0])*100"
   ]
  },
  {
   "cell_type": "code",
   "execution_count": 728,
   "id": "53caff48",
   "metadata": {},
   "outputs": [
    {
     "data": {
      "text/plain": [
       "fast_charging    21.479959\n",
       "dtype: float64"
      ]
     },
     "execution_count": 728,
     "metadata": {},
     "output_type": "execute_result"
    }
   ],
   "source": [
    "per_null[per_null!=0]"
   ]
  },
  {
   "cell_type": "code",
   "execution_count": 18,
   "id": "44cc140f",
   "metadata": {},
   "outputs": [],
   "source": [
    "# LET'S FOCUS ON NULL VALUES!"
   ]
  },
  {
   "cell_type": "code",
   "execution_count": 26,
   "id": "99f7f945",
   "metadata": {},
   "outputs": [],
   "source": [
    "# PRIMARY CAMERA FRONT\n",
    "row_index=phones[phones['primary_camera_front'].isnull()].index"
   ]
  },
  {
   "cell_type": "code",
   "execution_count": 23,
   "id": "89ddbd10",
   "metadata": {},
   "outputs": [],
   "source": [
    "phones.at[410,'primary_camera_front']=20"
   ]
  },
  {
   "cell_type": "code",
   "execution_count": 29,
   "id": "f493acaa",
   "metadata": {},
   "outputs": [],
   "source": [
    "phones=phones.drop(index=row_index)"
   ]
  },
  {
   "cell_type": "code",
   "execution_count": 30,
   "id": "cd5c8c85",
   "metadata": {},
   "outputs": [
    {
     "data": {
      "text/html": [
       "<div>\n",
       "<style scoped>\n",
       "    .dataframe tbody tr th:only-of-type {\n",
       "        vertical-align: middle;\n",
       "    }\n",
       "\n",
       "    .dataframe tbody tr th {\n",
       "        vertical-align: top;\n",
       "    }\n",
       "\n",
       "    .dataframe thead th {\n",
       "        text-align: right;\n",
       "    }\n",
       "</style>\n",
       "<table border=\"1\" class=\"dataframe\">\n",
       "  <thead>\n",
       "    <tr style=\"text-align: right;\">\n",
       "      <th></th>\n",
       "      <th>brand_name</th>\n",
       "      <th>model</th>\n",
       "      <th>price</th>\n",
       "      <th>avg_rating</th>\n",
       "      <th>5G_or_not</th>\n",
       "      <th>processor_brand</th>\n",
       "      <th>num_cores</th>\n",
       "      <th>processor_speed</th>\n",
       "      <th>battery_capacity</th>\n",
       "      <th>fast_charging_available</th>\n",
       "      <th>...</th>\n",
       "      <th>internal_memory</th>\n",
       "      <th>screen_size</th>\n",
       "      <th>refresh_rate</th>\n",
       "      <th>num_rear_cameras</th>\n",
       "      <th>os</th>\n",
       "      <th>primary_camera_rear</th>\n",
       "      <th>primary_camera_front</th>\n",
       "      <th>extended_memory_available</th>\n",
       "      <th>resolution_height</th>\n",
       "      <th>resolution_width</th>\n",
       "    </tr>\n",
       "  </thead>\n",
       "  <tbody>\n",
       "  </tbody>\n",
       "</table>\n",
       "<p>0 rows × 22 columns</p>\n",
       "</div>"
      ],
      "text/plain": [
       "Empty DataFrame\n",
       "Columns: [brand_name, model, price, avg_rating, 5G_or_not, processor_brand, num_cores, processor_speed, battery_capacity, fast_charging_available, fast_charging, ram_capacity, internal_memory, screen_size, refresh_rate, num_rear_cameras, os, primary_camera_rear, primary_camera_front, extended_memory_available, resolution_height, resolution_width]\n",
       "Index: []\n",
       "\n",
       "[0 rows x 22 columns]"
      ]
     },
     "execution_count": 30,
     "metadata": {},
     "output_type": "execute_result"
    }
   ],
   "source": [
    "phones[phones['primary_camera_front'].isnull()]"
   ]
  },
  {
   "cell_type": "code",
   "execution_count": 45,
   "id": "3820efb1",
   "metadata": {},
   "outputs": [],
   "source": [
    "row_index=phones[(phones['num_cores'].isnull()) & (phones['brand_name']=='apple')].index"
   ]
  },
  {
   "cell_type": "code",
   "execution_count": 44,
   "id": "66c038f3",
   "metadata": {},
   "outputs": [],
   "source": [
    "phones.loc[row_index,'num_cores']=6"
   ]
  },
  {
   "cell_type": "code",
   "execution_count": 46,
   "id": "6230bea8",
   "metadata": {},
   "outputs": [
    {
     "data": {
      "text/html": [
       "<div>\n",
       "<style scoped>\n",
       "    .dataframe tbody tr th:only-of-type {\n",
       "        vertical-align: middle;\n",
       "    }\n",
       "\n",
       "    .dataframe tbody tr th {\n",
       "        vertical-align: top;\n",
       "    }\n",
       "\n",
       "    .dataframe thead th {\n",
       "        text-align: right;\n",
       "    }\n",
       "</style>\n",
       "<table border=\"1\" class=\"dataframe\">\n",
       "  <thead>\n",
       "    <tr style=\"text-align: right;\">\n",
       "      <th></th>\n",
       "      <th>brand_name</th>\n",
       "      <th>model</th>\n",
       "      <th>price</th>\n",
       "      <th>avg_rating</th>\n",
       "      <th>5G_or_not</th>\n",
       "      <th>processor_brand</th>\n",
       "      <th>num_cores</th>\n",
       "      <th>processor_speed</th>\n",
       "      <th>battery_capacity</th>\n",
       "      <th>fast_charging_available</th>\n",
       "      <th>...</th>\n",
       "      <th>internal_memory</th>\n",
       "      <th>screen_size</th>\n",
       "      <th>refresh_rate</th>\n",
       "      <th>num_rear_cameras</th>\n",
       "      <th>os</th>\n",
       "      <th>primary_camera_rear</th>\n",
       "      <th>primary_camera_front</th>\n",
       "      <th>extended_memory_available</th>\n",
       "      <th>resolution_height</th>\n",
       "      <th>resolution_width</th>\n",
       "    </tr>\n",
       "  </thead>\n",
       "  <tbody>\n",
       "  </tbody>\n",
       "</table>\n",
       "<p>0 rows × 22 columns</p>\n",
       "</div>"
      ],
      "text/plain": [
       "Empty DataFrame\n",
       "Columns: [brand_name, model, price, avg_rating, 5G_or_not, processor_brand, num_cores, processor_speed, battery_capacity, fast_charging_available, fast_charging, ram_capacity, internal_memory, screen_size, refresh_rate, num_rear_cameras, os, primary_camera_rear, primary_camera_front, extended_memory_available, resolution_height, resolution_width]\n",
       "Index: []\n",
       "\n",
       "[0 rows x 22 columns]"
      ]
     },
     "execution_count": 46,
     "metadata": {},
     "output_type": "execute_result"
    }
   ],
   "source": [
    "phones[(phones['num_cores'].isnull()) & (phones['brand_name']=='apple')]"
   ]
  },
  {
   "cell_type": "code",
   "execution_count": 50,
   "id": "7f69c4d0",
   "metadata": {},
   "outputs": [
    {
     "data": {
      "text/html": [
       "<div>\n",
       "<style scoped>\n",
       "    .dataframe tbody tr th:only-of-type {\n",
       "        vertical-align: middle;\n",
       "    }\n",
       "\n",
       "    .dataframe tbody tr th {\n",
       "        vertical-align: top;\n",
       "    }\n",
       "\n",
       "    .dataframe thead th {\n",
       "        text-align: right;\n",
       "    }\n",
       "</style>\n",
       "<table border=\"1\" class=\"dataframe\">\n",
       "  <thead>\n",
       "    <tr style=\"text-align: right;\">\n",
       "      <th></th>\n",
       "      <th>brand_name</th>\n",
       "      <th>model</th>\n",
       "      <th>price</th>\n",
       "      <th>avg_rating</th>\n",
       "      <th>5G_or_not</th>\n",
       "      <th>processor_brand</th>\n",
       "      <th>num_cores</th>\n",
       "      <th>processor_speed</th>\n",
       "      <th>battery_capacity</th>\n",
       "      <th>fast_charging_available</th>\n",
       "      <th>...</th>\n",
       "      <th>internal_memory</th>\n",
       "      <th>screen_size</th>\n",
       "      <th>refresh_rate</th>\n",
       "      <th>num_rear_cameras</th>\n",
       "      <th>os</th>\n",
       "      <th>primary_camera_rear</th>\n",
       "      <th>primary_camera_front</th>\n",
       "      <th>extended_memory_available</th>\n",
       "      <th>resolution_height</th>\n",
       "      <th>resolution_width</th>\n",
       "    </tr>\n",
       "  </thead>\n",
       "  <tbody>\n",
       "  </tbody>\n",
       "</table>\n",
       "<p>0 rows × 22 columns</p>\n",
       "</div>"
      ],
      "text/plain": [
       "Empty DataFrame\n",
       "Columns: [brand_name, model, price, avg_rating, 5G_or_not, processor_brand, num_cores, processor_speed, battery_capacity, fast_charging_available, fast_charging, ram_capacity, internal_memory, screen_size, refresh_rate, num_rear_cameras, os, primary_camera_rear, primary_camera_front, extended_memory_available, resolution_height, resolution_width]\n",
       "Index: []\n",
       "\n",
       "[0 rows x 22 columns]"
      ]
     },
     "execution_count": 50,
     "metadata": {},
     "output_type": "execute_result"
    }
   ],
   "source": [
    "phones[phones['num_cores'].isnull()]"
   ]
  },
  {
   "cell_type": "code",
   "execution_count": 49,
   "id": "7623b743",
   "metadata": {},
   "outputs": [],
   "source": [
    "phones.at[265,'num_cores']=8"
   ]
  },
  {
   "cell_type": "code",
   "execution_count": 64,
   "id": "54fc3479",
   "metadata": {},
   "outputs": [
    {
     "data": {
      "text/html": [
       "<div>\n",
       "<style scoped>\n",
       "    .dataframe tbody tr th:only-of-type {\n",
       "        vertical-align: middle;\n",
       "    }\n",
       "\n",
       "    .dataframe tbody tr th {\n",
       "        vertical-align: top;\n",
       "    }\n",
       "\n",
       "    .dataframe thead th {\n",
       "        text-align: right;\n",
       "    }\n",
       "</style>\n",
       "<table border=\"1\" class=\"dataframe\">\n",
       "  <thead>\n",
       "    <tr style=\"text-align: right;\">\n",
       "      <th></th>\n",
       "      <th>brand_name</th>\n",
       "      <th>model</th>\n",
       "      <th>price</th>\n",
       "      <th>avg_rating</th>\n",
       "      <th>5G_or_not</th>\n",
       "      <th>processor_brand</th>\n",
       "      <th>num_cores</th>\n",
       "      <th>processor_speed</th>\n",
       "      <th>battery_capacity</th>\n",
       "      <th>fast_charging_available</th>\n",
       "      <th>...</th>\n",
       "      <th>internal_memory</th>\n",
       "      <th>screen_size</th>\n",
       "      <th>refresh_rate</th>\n",
       "      <th>num_rear_cameras</th>\n",
       "      <th>os</th>\n",
       "      <th>primary_camera_rear</th>\n",
       "      <th>primary_camera_front</th>\n",
       "      <th>extended_memory_available</th>\n",
       "      <th>resolution_height</th>\n",
       "      <th>resolution_width</th>\n",
       "    </tr>\n",
       "  </thead>\n",
       "  <tbody>\n",
       "  </tbody>\n",
       "</table>\n",
       "<p>0 rows × 22 columns</p>\n",
       "</div>"
      ],
      "text/plain": [
       "Empty DataFrame\n",
       "Columns: [brand_name, model, price, avg_rating, 5G_or_not, processor_brand, num_cores, processor_speed, battery_capacity, fast_charging_available, fast_charging, ram_capacity, internal_memory, screen_size, refresh_rate, num_rear_cameras, os, primary_camera_rear, primary_camera_front, extended_memory_available, resolution_height, resolution_width]\n",
       "Index: []\n",
       "\n",
       "[0 rows x 22 columns]"
      ]
     },
     "execution_count": 64,
     "metadata": {},
     "output_type": "execute_result"
    }
   ],
   "source": [
    "phones[phones['battery_capacity'].isnull()]"
   ]
  },
  {
   "cell_type": "code",
   "execution_count": null,
   "id": "aa9bff22",
   "metadata": {},
   "outputs": [],
   "source": [
    "3274,2018,3240"
   ]
  },
  {
   "cell_type": "code",
   "execution_count": 57,
   "id": "4a771cec",
   "metadata": {},
   "outputs": [],
   "source": [
    "phones.loc[[3,4,5],'battery_capacity']=2815"
   ]
  },
  {
   "cell_type": "code",
   "execution_count": 59,
   "id": "06154e67",
   "metadata": {},
   "outputs": [],
   "source": [
    "phones.loc[[6,7,8],'battery_capacity']=2227"
   ]
  },
  {
   "cell_type": "code",
   "execution_count": 61,
   "id": "21f949fd",
   "metadata": {},
   "outputs": [],
   "source": [
    "phones.loc[[9,10],'battery_capacity']=2815"
   ]
  },
  {
   "cell_type": "code",
   "execution_count": 63,
   "id": "e3eabc48",
   "metadata": {},
   "outputs": [],
   "source": [
    "phones.loc[[37,43,44],'battery_capacity']=[3274,2018,3240]"
   ]
  },
  {
   "cell_type": "code",
   "execution_count": 113,
   "id": "805882ef",
   "metadata": {},
   "outputs": [
    {
     "data": {
      "text/html": [
       "<div>\n",
       "<style scoped>\n",
       "    .dataframe tbody tr th:only-of-type {\n",
       "        vertical-align: middle;\n",
       "    }\n",
       "\n",
       "    .dataframe tbody tr th {\n",
       "        vertical-align: top;\n",
       "    }\n",
       "\n",
       "    .dataframe thead th {\n",
       "        text-align: right;\n",
       "    }\n",
       "</style>\n",
       "<table border=\"1\" class=\"dataframe\">\n",
       "  <thead>\n",
       "    <tr style=\"text-align: right;\">\n",
       "      <th></th>\n",
       "      <th>brand_name</th>\n",
       "      <th>model</th>\n",
       "      <th>price</th>\n",
       "      <th>avg_rating</th>\n",
       "      <th>5G_or_not</th>\n",
       "      <th>processor_brand</th>\n",
       "      <th>num_cores</th>\n",
       "      <th>processor_speed</th>\n",
       "      <th>battery_capacity</th>\n",
       "      <th>fast_charging_available</th>\n",
       "      <th>...</th>\n",
       "      <th>internal_memory</th>\n",
       "      <th>screen_size</th>\n",
       "      <th>refresh_rate</th>\n",
       "      <th>num_rear_cameras</th>\n",
       "      <th>os</th>\n",
       "      <th>primary_camera_rear</th>\n",
       "      <th>primary_camera_front</th>\n",
       "      <th>extended_memory_available</th>\n",
       "      <th>resolution_height</th>\n",
       "      <th>resolution_width</th>\n",
       "    </tr>\n",
       "  </thead>\n",
       "  <tbody>\n",
       "  </tbody>\n",
       "</table>\n",
       "<p>0 rows × 22 columns</p>\n",
       "</div>"
      ],
      "text/plain": [
       "Empty DataFrame\n",
       "Columns: [brand_name, model, price, avg_rating, 5G_or_not, processor_brand, num_cores, processor_speed, battery_capacity, fast_charging_available, fast_charging, ram_capacity, internal_memory, screen_size, refresh_rate, num_rear_cameras, os, primary_camera_rear, primary_camera_front, extended_memory_available, resolution_height, resolution_width]\n",
       "Index: []\n",
       "\n",
       "[0 rows x 22 columns]"
      ]
     },
     "execution_count": 113,
     "metadata": {},
     "output_type": "execute_result"
    }
   ],
   "source": [
    "phones[phones['os'].isnull()]"
   ]
  },
  {
   "cell_type": "code",
   "execution_count": 109,
   "id": "1b3da709",
   "metadata": {},
   "outputs": [
    {
     "data": {
      "text/plain": [
       "array(['android', nan], dtype=object)"
      ]
     },
     "execution_count": 109,
     "metadata": {},
     "output_type": "execute_result"
    }
   ],
   "source": [
    "phones[phones['brand_name']=='oukitel']['os'].unique()"
   ]
  },
  {
   "cell_type": "code",
   "execution_count": 110,
   "id": "3fc8f58c",
   "metadata": {},
   "outputs": [],
   "source": [
    "row_index=phones[(phones['brand_name']=='oukitel') & (phones['os'].isnull())].index"
   ]
  },
  {
   "cell_type": "code",
   "execution_count": 111,
   "id": "18dddc32",
   "metadata": {},
   "outputs": [
    {
     "data": {
      "text/plain": [
       "Index([410], dtype='int64')"
      ]
     },
     "execution_count": 111,
     "metadata": {},
     "output_type": "execute_result"
    }
   ],
   "source": [
    "row_index"
   ]
  },
  {
   "cell_type": "code",
   "execution_count": 112,
   "id": "b591c747",
   "metadata": {},
   "outputs": [],
   "source": [
    "phones.loc[row_index,'os']='android'"
   ]
  },
  {
   "cell_type": "code",
   "execution_count": 123,
   "id": "7a7defc3",
   "metadata": {},
   "outputs": [
    {
     "data": {
      "text/plain": [
       "array(['bionic', 'fusion', 'snapdragon', 'dimensity', 'helio', 'tiger',\n",
       "       'google', 'kirin', nan, 'spreadtrum', 'unisoc', 'mediatek',\n",
       "       'exynos'], dtype=object)"
      ]
     },
     "execution_count": 123,
     "metadata": {},
     "output_type": "execute_result"
    }
   ],
   "source": [
    "phones['processor_brand'].unique()"
   ]
  },
  {
   "cell_type": "code",
   "execution_count": 122,
   "id": "9886484d",
   "metadata": {},
   "outputs": [
    {
     "data": {
      "text/html": [
       "<div>\n",
       "<style scoped>\n",
       "    .dataframe tbody tr th:only-of-type {\n",
       "        vertical-align: middle;\n",
       "    }\n",
       "\n",
       "    .dataframe tbody tr th {\n",
       "        vertical-align: top;\n",
       "    }\n",
       "\n",
       "    .dataframe thead th {\n",
       "        text-align: right;\n",
       "    }\n",
       "</style>\n",
       "<table border=\"1\" class=\"dataframe\">\n",
       "  <thead>\n",
       "    <tr style=\"text-align: right;\">\n",
       "      <th></th>\n",
       "      <th>brand_name</th>\n",
       "      <th>model</th>\n",
       "      <th>price</th>\n",
       "      <th>avg_rating</th>\n",
       "      <th>5G_or_not</th>\n",
       "      <th>processor_brand</th>\n",
       "      <th>num_cores</th>\n",
       "      <th>processor_speed</th>\n",
       "      <th>battery_capacity</th>\n",
       "      <th>fast_charging_available</th>\n",
       "      <th>...</th>\n",
       "      <th>internal_memory</th>\n",
       "      <th>screen_size</th>\n",
       "      <th>refresh_rate</th>\n",
       "      <th>num_rear_cameras</th>\n",
       "      <th>os</th>\n",
       "      <th>primary_camera_rear</th>\n",
       "      <th>primary_camera_front</th>\n",
       "      <th>extended_memory_available</th>\n",
       "      <th>resolution_height</th>\n",
       "      <th>resolution_width</th>\n",
       "    </tr>\n",
       "  </thead>\n",
       "  <tbody>\n",
       "    <tr>\n",
       "      <th>172</th>\n",
       "      <td>itel</td>\n",
       "      <td>Itel A24 Pro</td>\n",
       "      <td>5990</td>\n",
       "      <td>NaN</td>\n",
       "      <td>0</td>\n",
       "      <td>unisoc</td>\n",
       "      <td>4.0</td>\n",
       "      <td>1.4</td>\n",
       "      <td>3020.0</td>\n",
       "      <td>0</td>\n",
       "      <td>...</td>\n",
       "      <td>32</td>\n",
       "      <td>5.00</td>\n",
       "      <td>60</td>\n",
       "      <td>1</td>\n",
       "      <td>android</td>\n",
       "      <td>2.0</td>\n",
       "      <td>0.0</td>\n",
       "      <td>1</td>\n",
       "      <td>480</td>\n",
       "      <td>854</td>\n",
       "    </tr>\n",
       "    <tr>\n",
       "      <th>175</th>\n",
       "      <td>itel</td>\n",
       "      <td>itel S16</td>\n",
       "      <td>5990</td>\n",
       "      <td>NaN</td>\n",
       "      <td>0</td>\n",
       "      <td>unisoc</td>\n",
       "      <td>4.0</td>\n",
       "      <td>1.3</td>\n",
       "      <td>4000.0</td>\n",
       "      <td>0</td>\n",
       "      <td>...</td>\n",
       "      <td>16</td>\n",
       "      <td>6.50</td>\n",
       "      <td>60</td>\n",
       "      <td>3</td>\n",
       "      <td>android</td>\n",
       "      <td>8.0</td>\n",
       "      <td>8.0</td>\n",
       "      <td>1</td>\n",
       "      <td>720</td>\n",
       "      <td>1600</td>\n",
       "    </tr>\n",
       "    <tr>\n",
       "      <th>177</th>\n",
       "      <td>itel</td>\n",
       "      <td>itel Vision 1 (3GB RAM + 32GB)</td>\n",
       "      <td>5890</td>\n",
       "      <td>NaN</td>\n",
       "      <td>0</td>\n",
       "      <td>unisoc</td>\n",
       "      <td>8.0</td>\n",
       "      <td>1.6</td>\n",
       "      <td>4000.0</td>\n",
       "      <td>0</td>\n",
       "      <td>...</td>\n",
       "      <td>32</td>\n",
       "      <td>6.09</td>\n",
       "      <td>60</td>\n",
       "      <td>2</td>\n",
       "      <td>android</td>\n",
       "      <td>8.0</td>\n",
       "      <td>5.0</td>\n",
       "      <td>1</td>\n",
       "      <td>720</td>\n",
       "      <td>1520</td>\n",
       "    </tr>\n",
       "    <tr>\n",
       "      <th>178</th>\n",
       "      <td>itel</td>\n",
       "      <td>itel Vision 3</td>\n",
       "      <td>6699</td>\n",
       "      <td>6.1</td>\n",
       "      <td>0</td>\n",
       "      <td>unisoc</td>\n",
       "      <td>8.0</td>\n",
       "      <td>1.6</td>\n",
       "      <td>5000.0</td>\n",
       "      <td>1</td>\n",
       "      <td>...</td>\n",
       "      <td>64</td>\n",
       "      <td>6.60</td>\n",
       "      <td>60</td>\n",
       "      <td>2</td>\n",
       "      <td>android</td>\n",
       "      <td>8.0</td>\n",
       "      <td>5.0</td>\n",
       "      <td>1</td>\n",
       "      <td>720</td>\n",
       "      <td>1612</td>\n",
       "    </tr>\n",
       "    <tr>\n",
       "      <th>179</th>\n",
       "      <td>itel</td>\n",
       "      <td>itel Vision 3 (2GB RAM + 32GB)</td>\n",
       "      <td>5785</td>\n",
       "      <td>NaN</td>\n",
       "      <td>0</td>\n",
       "      <td>unisoc</td>\n",
       "      <td>8.0</td>\n",
       "      <td>1.6</td>\n",
       "      <td>5000.0</td>\n",
       "      <td>1</td>\n",
       "      <td>...</td>\n",
       "      <td>32</td>\n",
       "      <td>6.60</td>\n",
       "      <td>60</td>\n",
       "      <td>2</td>\n",
       "      <td>android</td>\n",
       "      <td>8.0</td>\n",
       "      <td>5.0</td>\n",
       "      <td>1</td>\n",
       "      <td>720</td>\n",
       "      <td>1612</td>\n",
       "    </tr>\n",
       "    <tr>\n",
       "      <th>194</th>\n",
       "      <td>letv</td>\n",
       "      <td>Letv Y2 Pro</td>\n",
       "      <td>6999</td>\n",
       "      <td>NaN</td>\n",
       "      <td>0</td>\n",
       "      <td>unisoc</td>\n",
       "      <td>8.0</td>\n",
       "      <td>NaN</td>\n",
       "      <td>4000.0</td>\n",
       "      <td>0</td>\n",
       "      <td>...</td>\n",
       "      <td>32</td>\n",
       "      <td>6.50</td>\n",
       "      <td>60</td>\n",
       "      <td>3</td>\n",
       "      <td>android</td>\n",
       "      <td>13.0</td>\n",
       "      <td>8.0</td>\n",
       "      <td>0</td>\n",
       "      <td>1560</td>\n",
       "      <td>720</td>\n",
       "    </tr>\n",
       "    <tr>\n",
       "      <th>200</th>\n",
       "      <td>micromax</td>\n",
       "      <td>Micromax IN 2B</td>\n",
       "      <td>6999</td>\n",
       "      <td>6.6</td>\n",
       "      <td>0</td>\n",
       "      <td>unisoc</td>\n",
       "      <td>8.0</td>\n",
       "      <td>1.8</td>\n",
       "      <td>5000.0</td>\n",
       "      <td>0</td>\n",
       "      <td>...</td>\n",
       "      <td>64</td>\n",
       "      <td>6.52</td>\n",
       "      <td>60</td>\n",
       "      <td>2</td>\n",
       "      <td>android</td>\n",
       "      <td>13.0</td>\n",
       "      <td>5.0</td>\n",
       "      <td>1</td>\n",
       "      <td>1600</td>\n",
       "      <td>720</td>\n",
       "    </tr>\n",
       "    <tr>\n",
       "      <th>201</th>\n",
       "      <td>micromax</td>\n",
       "      <td>Micromax IN 2B (6GB RAM + 64GB)</td>\n",
       "      <td>7790</td>\n",
       "      <td>6.8</td>\n",
       "      <td>0</td>\n",
       "      <td>unisoc</td>\n",
       "      <td>8.0</td>\n",
       "      <td>1.8</td>\n",
       "      <td>5000.0</td>\n",
       "      <td>0</td>\n",
       "      <td>...</td>\n",
       "      <td>64</td>\n",
       "      <td>6.52</td>\n",
       "      <td>60</td>\n",
       "      <td>2</td>\n",
       "      <td>android</td>\n",
       "      <td>13.0</td>\n",
       "      <td>5.0</td>\n",
       "      <td>1</td>\n",
       "      <td>1600</td>\n",
       "      <td>720</td>\n",
       "    </tr>\n",
       "    <tr>\n",
       "      <th>255</th>\n",
       "      <td>nokia</td>\n",
       "      <td>Nokia C01 Plus</td>\n",
       "      <td>5249</td>\n",
       "      <td>NaN</td>\n",
       "      <td>0</td>\n",
       "      <td>unisoc</td>\n",
       "      <td>8.0</td>\n",
       "      <td>1.6</td>\n",
       "      <td>3000.0</td>\n",
       "      <td>0</td>\n",
       "      <td>...</td>\n",
       "      <td>16</td>\n",
       "      <td>5.45</td>\n",
       "      <td>60</td>\n",
       "      <td>1</td>\n",
       "      <td>android</td>\n",
       "      <td>5.0</td>\n",
       "      <td>5.0</td>\n",
       "      <td>1</td>\n",
       "      <td>1440</td>\n",
       "      <td>720</td>\n",
       "    </tr>\n",
       "    <tr>\n",
       "      <th>256</th>\n",
       "      <td>nokia</td>\n",
       "      <td>Nokia C21 Plus (4GB RAM + 64GB)</td>\n",
       "      <td>8999</td>\n",
       "      <td>6.4</td>\n",
       "      <td>0</td>\n",
       "      <td>unisoc</td>\n",
       "      <td>8.0</td>\n",
       "      <td>1.6</td>\n",
       "      <td>5050.0</td>\n",
       "      <td>0</td>\n",
       "      <td>...</td>\n",
       "      <td>64</td>\n",
       "      <td>6.52</td>\n",
       "      <td>60</td>\n",
       "      <td>2</td>\n",
       "      <td>android</td>\n",
       "      <td>13.0</td>\n",
       "      <td>5.0</td>\n",
       "      <td>1</td>\n",
       "      <td>1600</td>\n",
       "      <td>720</td>\n",
       "    </tr>\n",
       "    <tr>\n",
       "      <th>257</th>\n",
       "      <td>nokia</td>\n",
       "      <td>Nokia C31</td>\n",
       "      <td>9499</td>\n",
       "      <td>6.2</td>\n",
       "      <td>0</td>\n",
       "      <td>unisoc</td>\n",
       "      <td>8.0</td>\n",
       "      <td>1.6</td>\n",
       "      <td>5050.0</td>\n",
       "      <td>1</td>\n",
       "      <td>...</td>\n",
       "      <td>32</td>\n",
       "      <td>6.74</td>\n",
       "      <td>60</td>\n",
       "      <td>3</td>\n",
       "      <td>android</td>\n",
       "      <td>13.0</td>\n",
       "      <td>5.0</td>\n",
       "      <td>1</td>\n",
       "      <td>1600</td>\n",
       "      <td>720</td>\n",
       "    </tr>\n",
       "    <tr>\n",
       "      <th>258</th>\n",
       "      <td>nokia</td>\n",
       "      <td>Nokia G11 Plus</td>\n",
       "      <td>10499</td>\n",
       "      <td>7.0</td>\n",
       "      <td>0</td>\n",
       "      <td>unisoc</td>\n",
       "      <td>8.0</td>\n",
       "      <td>1.6</td>\n",
       "      <td>5000.0</td>\n",
       "      <td>1</td>\n",
       "      <td>...</td>\n",
       "      <td>64</td>\n",
       "      <td>6.52</td>\n",
       "      <td>90</td>\n",
       "      <td>2</td>\n",
       "      <td>android</td>\n",
       "      <td>50.0</td>\n",
       "      <td>8.0</td>\n",
       "      <td>1</td>\n",
       "      <td>1600</td>\n",
       "      <td>720</td>\n",
       "    </tr>\n",
       "    <tr>\n",
       "      <th>259</th>\n",
       "      <td>nokia</td>\n",
       "      <td>Nokia G21</td>\n",
       "      <td>11999</td>\n",
       "      <td>7.1</td>\n",
       "      <td>0</td>\n",
       "      <td>unisoc</td>\n",
       "      <td>8.0</td>\n",
       "      <td>1.6</td>\n",
       "      <td>5050.0</td>\n",
       "      <td>1</td>\n",
       "      <td>...</td>\n",
       "      <td>64</td>\n",
       "      <td>6.50</td>\n",
       "      <td>90</td>\n",
       "      <td>3</td>\n",
       "      <td>android</td>\n",
       "      <td>50.0</td>\n",
       "      <td>8.0</td>\n",
       "      <td>1</td>\n",
       "      <td>1600</td>\n",
       "      <td>720</td>\n",
       "    </tr>\n",
       "    <tr>\n",
       "      <th>260</th>\n",
       "      <td>nokia</td>\n",
       "      <td>Nokia G21 (6GB RAM + 128GB)</td>\n",
       "      <td>13499</td>\n",
       "      <td>7.5</td>\n",
       "      <td>0</td>\n",
       "      <td>unisoc</td>\n",
       "      <td>8.0</td>\n",
       "      <td>1.6</td>\n",
       "      <td>5050.0</td>\n",
       "      <td>1</td>\n",
       "      <td>...</td>\n",
       "      <td>128</td>\n",
       "      <td>6.50</td>\n",
       "      <td>90</td>\n",
       "      <td>3</td>\n",
       "      <td>android</td>\n",
       "      <td>50.0</td>\n",
       "      <td>8.0</td>\n",
       "      <td>1</td>\n",
       "      <td>1600</td>\n",
       "      <td>720</td>\n",
       "    </tr>\n",
       "    <tr>\n",
       "      <th>492</th>\n",
       "      <td>realme</td>\n",
       "      <td>Realme C11 2021</td>\n",
       "      <td>6499</td>\n",
       "      <td>6.1</td>\n",
       "      <td>0</td>\n",
       "      <td>unisoc</td>\n",
       "      <td>8.0</td>\n",
       "      <td>1.6</td>\n",
       "      <td>5000.0</td>\n",
       "      <td>0</td>\n",
       "      <td>...</td>\n",
       "      <td>32</td>\n",
       "      <td>6.52</td>\n",
       "      <td>60</td>\n",
       "      <td>1</td>\n",
       "      <td>android</td>\n",
       "      <td>8.0</td>\n",
       "      <td>5.0</td>\n",
       "      <td>1</td>\n",
       "      <td>1600</td>\n",
       "      <td>720</td>\n",
       "    </tr>\n",
       "    <tr>\n",
       "      <th>493</th>\n",
       "      <td>realme</td>\n",
       "      <td>Realme C11 2021 (4GB RAM + 64GB)</td>\n",
       "      <td>7749</td>\n",
       "      <td>6.1</td>\n",
       "      <td>0</td>\n",
       "      <td>unisoc</td>\n",
       "      <td>8.0</td>\n",
       "      <td>1.6</td>\n",
       "      <td>5000.0</td>\n",
       "      <td>0</td>\n",
       "      <td>...</td>\n",
       "      <td>64</td>\n",
       "      <td>6.52</td>\n",
       "      <td>60</td>\n",
       "      <td>1</td>\n",
       "      <td>android</td>\n",
       "      <td>8.0</td>\n",
       "      <td>5.0</td>\n",
       "      <td>1</td>\n",
       "      <td>1600</td>\n",
       "      <td>720</td>\n",
       "    </tr>\n",
       "    <tr>\n",
       "      <th>495</th>\n",
       "      <td>realme</td>\n",
       "      <td>Realme C21Y</td>\n",
       "      <td>6999</td>\n",
       "      <td>6.2</td>\n",
       "      <td>0</td>\n",
       "      <td>unisoc</td>\n",
       "      <td>8.0</td>\n",
       "      <td>1.8</td>\n",
       "      <td>5000.0</td>\n",
       "      <td>0</td>\n",
       "      <td>...</td>\n",
       "      <td>32</td>\n",
       "      <td>6.50</td>\n",
       "      <td>60</td>\n",
       "      <td>3</td>\n",
       "      <td>android</td>\n",
       "      <td>13.0</td>\n",
       "      <td>5.0</td>\n",
       "      <td>1</td>\n",
       "      <td>1600</td>\n",
       "      <td>720</td>\n",
       "    </tr>\n",
       "    <tr>\n",
       "      <th>500</th>\n",
       "      <td>realme</td>\n",
       "      <td>Realme C30s</td>\n",
       "      <td>7145</td>\n",
       "      <td>NaN</td>\n",
       "      <td>0</td>\n",
       "      <td>unisoc</td>\n",
       "      <td>8.0</td>\n",
       "      <td>1.6</td>\n",
       "      <td>5000.0</td>\n",
       "      <td>1</td>\n",
       "      <td>...</td>\n",
       "      <td>32</td>\n",
       "      <td>6.50</td>\n",
       "      <td>60</td>\n",
       "      <td>1</td>\n",
       "      <td>android</td>\n",
       "      <td>8.0</td>\n",
       "      <td>5.0</td>\n",
       "      <td>1</td>\n",
       "      <td>1600</td>\n",
       "      <td>720</td>\n",
       "    </tr>\n",
       "    <tr>\n",
       "      <th>501</th>\n",
       "      <td>realme</td>\n",
       "      <td>Realme C30s (4GB RAM + 64GB)</td>\n",
       "      <td>8990</td>\n",
       "      <td>6.2</td>\n",
       "      <td>0</td>\n",
       "      <td>unisoc</td>\n",
       "      <td>8.0</td>\n",
       "      <td>1.6</td>\n",
       "      <td>5000.0</td>\n",
       "      <td>1</td>\n",
       "      <td>...</td>\n",
       "      <td>64</td>\n",
       "      <td>6.50</td>\n",
       "      <td>60</td>\n",
       "      <td>1</td>\n",
       "      <td>android</td>\n",
       "      <td>8.0</td>\n",
       "      <td>5.0</td>\n",
       "      <td>1</td>\n",
       "      <td>1600</td>\n",
       "      <td>720</td>\n",
       "    </tr>\n",
       "    <tr>\n",
       "      <th>505</th>\n",
       "      <td>realme</td>\n",
       "      <td>Realme C33</td>\n",
       "      <td>8950</td>\n",
       "      <td>6.4</td>\n",
       "      <td>0</td>\n",
       "      <td>unisoc</td>\n",
       "      <td>8.0</td>\n",
       "      <td>1.8</td>\n",
       "      <td>5000.0</td>\n",
       "      <td>0</td>\n",
       "      <td>...</td>\n",
       "      <td>32</td>\n",
       "      <td>6.50</td>\n",
       "      <td>60</td>\n",
       "      <td>2</td>\n",
       "      <td>android</td>\n",
       "      <td>50.0</td>\n",
       "      <td>5.0</td>\n",
       "      <td>1</td>\n",
       "      <td>1600</td>\n",
       "      <td>720</td>\n",
       "    </tr>\n",
       "    <tr>\n",
       "      <th>506</th>\n",
       "      <td>realme</td>\n",
       "      <td>Realme C33 (4GB RAM + 64GB)</td>\n",
       "      <td>9999</td>\n",
       "      <td>6.7</td>\n",
       "      <td>0</td>\n",
       "      <td>unisoc</td>\n",
       "      <td>8.0</td>\n",
       "      <td>1.8</td>\n",
       "      <td>5000.0</td>\n",
       "      <td>0</td>\n",
       "      <td>...</td>\n",
       "      <td>64</td>\n",
       "      <td>6.50</td>\n",
       "      <td>60</td>\n",
       "      <td>2</td>\n",
       "      <td>android</td>\n",
       "      <td>50.0</td>\n",
       "      <td>5.0</td>\n",
       "      <td>1</td>\n",
       "      <td>1600</td>\n",
       "      <td>720</td>\n",
       "    </tr>\n",
       "    <tr>\n",
       "      <th>538</th>\n",
       "      <td>realme</td>\n",
       "      <td>Realme Narzo 50i</td>\n",
       "      <td>6490</td>\n",
       "      <td>NaN</td>\n",
       "      <td>0</td>\n",
       "      <td>unisoc</td>\n",
       "      <td>8.0</td>\n",
       "      <td>1.6</td>\n",
       "      <td>5000.0</td>\n",
       "      <td>0</td>\n",
       "      <td>...</td>\n",
       "      <td>32</td>\n",
       "      <td>6.50</td>\n",
       "      <td>60</td>\n",
       "      <td>1</td>\n",
       "      <td>android</td>\n",
       "      <td>8.0</td>\n",
       "      <td>5.0</td>\n",
       "      <td>1</td>\n",
       "      <td>1600</td>\n",
       "      <td>720</td>\n",
       "    </tr>\n",
       "    <tr>\n",
       "      <th>539</th>\n",
       "      <td>realme</td>\n",
       "      <td>Realme Narzo 50i (4GB RAM + 64GB)</td>\n",
       "      <td>8999</td>\n",
       "      <td>6.2</td>\n",
       "      <td>0</td>\n",
       "      <td>unisoc</td>\n",
       "      <td>8.0</td>\n",
       "      <td>1.6</td>\n",
       "      <td>5000.0</td>\n",
       "      <td>0</td>\n",
       "      <td>...</td>\n",
       "      <td>64</td>\n",
       "      <td>6.50</td>\n",
       "      <td>60</td>\n",
       "      <td>1</td>\n",
       "      <td>android</td>\n",
       "      <td>8.0</td>\n",
       "      <td>5.0</td>\n",
       "      <td>1</td>\n",
       "      <td>1600</td>\n",
       "      <td>720</td>\n",
       "    </tr>\n",
       "    <tr>\n",
       "      <th>556</th>\n",
       "      <td>samsung</td>\n",
       "      <td>Samsung Galaxy A03</td>\n",
       "      <td>7249</td>\n",
       "      <td>6.6</td>\n",
       "      <td>0</td>\n",
       "      <td>unisoc</td>\n",
       "      <td>8.0</td>\n",
       "      <td>1.6</td>\n",
       "      <td>5000.0</td>\n",
       "      <td>1</td>\n",
       "      <td>...</td>\n",
       "      <td>32</td>\n",
       "      <td>6.50</td>\n",
       "      <td>60</td>\n",
       "      <td>2</td>\n",
       "      <td>android</td>\n",
       "      <td>48.0</td>\n",
       "      <td>5.0</td>\n",
       "      <td>1</td>\n",
       "      <td>1560</td>\n",
       "      <td>720</td>\n",
       "    </tr>\n",
       "    <tr>\n",
       "      <th>557</th>\n",
       "      <td>samsung</td>\n",
       "      <td>Samsung Galaxy A03 (4GB RAM + 64GB)</td>\n",
       "      <td>11499</td>\n",
       "      <td>6.9</td>\n",
       "      <td>0</td>\n",
       "      <td>unisoc</td>\n",
       "      <td>8.0</td>\n",
       "      <td>1.6</td>\n",
       "      <td>5000.0</td>\n",
       "      <td>1</td>\n",
       "      <td>...</td>\n",
       "      <td>64</td>\n",
       "      <td>6.50</td>\n",
       "      <td>60</td>\n",
       "      <td>2</td>\n",
       "      <td>android</td>\n",
       "      <td>48.0</td>\n",
       "      <td>5.0</td>\n",
       "      <td>1</td>\n",
       "      <td>1560</td>\n",
       "      <td>720</td>\n",
       "    </tr>\n",
       "    <tr>\n",
       "      <th>558</th>\n",
       "      <td>samsung</td>\n",
       "      <td>Samsung Galaxy A03 Core</td>\n",
       "      <td>6499</td>\n",
       "      <td>NaN</td>\n",
       "      <td>0</td>\n",
       "      <td>unisoc</td>\n",
       "      <td>4.0</td>\n",
       "      <td>1.6</td>\n",
       "      <td>5000.0</td>\n",
       "      <td>0</td>\n",
       "      <td>...</td>\n",
       "      <td>32</td>\n",
       "      <td>6.50</td>\n",
       "      <td>60</td>\n",
       "      <td>1</td>\n",
       "      <td>android</td>\n",
       "      <td>8.0</td>\n",
       "      <td>5.0</td>\n",
       "      <td>1</td>\n",
       "      <td>1600</td>\n",
       "      <td>720</td>\n",
       "    </tr>\n",
       "    <tr>\n",
       "      <th>721</th>\n",
       "      <td>tecno</td>\n",
       "      <td>Tecno Spark 8C</td>\n",
       "      <td>7399</td>\n",
       "      <td>6.2</td>\n",
       "      <td>0</td>\n",
       "      <td>unisoc</td>\n",
       "      <td>8.0</td>\n",
       "      <td>2.0</td>\n",
       "      <td>5000.0</td>\n",
       "      <td>0</td>\n",
       "      <td>...</td>\n",
       "      <td>64</td>\n",
       "      <td>6.60</td>\n",
       "      <td>90</td>\n",
       "      <td>2</td>\n",
       "      <td>android</td>\n",
       "      <td>13.0</td>\n",
       "      <td>8.0</td>\n",
       "      <td>1</td>\n",
       "      <td>1612</td>\n",
       "      <td>720</td>\n",
       "    </tr>\n",
       "    <tr>\n",
       "      <th>722</th>\n",
       "      <td>tecno</td>\n",
       "      <td>Tecno Spark 8C (4GB RAM + 64GB)</td>\n",
       "      <td>8890</td>\n",
       "      <td>6.3</td>\n",
       "      <td>0</td>\n",
       "      <td>unisoc</td>\n",
       "      <td>8.0</td>\n",
       "      <td>2.0</td>\n",
       "      <td>5000.0</td>\n",
       "      <td>0</td>\n",
       "      <td>...</td>\n",
       "      <td>64</td>\n",
       "      <td>6.60</td>\n",
       "      <td>90</td>\n",
       "      <td>2</td>\n",
       "      <td>android</td>\n",
       "      <td>13.0</td>\n",
       "      <td>8.0</td>\n",
       "      <td>1</td>\n",
       "      <td>1612</td>\n",
       "      <td>720</td>\n",
       "    </tr>\n",
       "  </tbody>\n",
       "</table>\n",
       "<p>28 rows × 22 columns</p>\n",
       "</div>"
      ],
      "text/plain": [
       "    brand_name                                model  price  avg_rating   \n",
       "172       itel                         Itel A24 Pro   5990         NaN  \\\n",
       "175       itel                             itel S16   5990         NaN   \n",
       "177       itel       itel Vision 1 (3GB RAM + 32GB)   5890         NaN   \n",
       "178       itel                        itel Vision 3   6699         6.1   \n",
       "179       itel       itel Vision 3 (2GB RAM + 32GB)   5785         NaN   \n",
       "194       letv                          Letv Y2 Pro   6999         NaN   \n",
       "200   micromax                       Micromax IN 2B   6999         6.6   \n",
       "201   micromax      Micromax IN 2B (6GB RAM + 64GB)   7790         6.8   \n",
       "255      nokia                       Nokia C01 Plus   5249         NaN   \n",
       "256      nokia      Nokia C21 Plus (4GB RAM + 64GB)   8999         6.4   \n",
       "257      nokia                            Nokia C31   9499         6.2   \n",
       "258      nokia                       Nokia G11 Plus  10499         7.0   \n",
       "259      nokia                            Nokia G21  11999         7.1   \n",
       "260      nokia          Nokia G21 (6GB RAM + 128GB)  13499         7.5   \n",
       "492     realme                      Realme C11 2021   6499         6.1   \n",
       "493     realme     Realme C11 2021 (4GB RAM + 64GB)   7749         6.1   \n",
       "495     realme                          Realme C21Y   6999         6.2   \n",
       "500     realme                          Realme C30s   7145         NaN   \n",
       "501     realme         Realme C30s (4GB RAM + 64GB)   8990         6.2   \n",
       "505     realme                           Realme C33   8950         6.4   \n",
       "506     realme          Realme C33 (4GB RAM + 64GB)   9999         6.7   \n",
       "538     realme                     Realme Narzo 50i   6490         NaN   \n",
       "539     realme    Realme Narzo 50i (4GB RAM + 64GB)   8999         6.2   \n",
       "556    samsung                   Samsung Galaxy A03   7249         6.6   \n",
       "557    samsung  Samsung Galaxy A03 (4GB RAM + 64GB)  11499         6.9   \n",
       "558    samsung              Samsung Galaxy A03 Core   6499         NaN   \n",
       "721      tecno                       Tecno Spark 8C   7399         6.2   \n",
       "722      tecno      Tecno Spark 8C (4GB RAM + 64GB)   8890         6.3   \n",
       "\n",
       "     5G_or_not processor_brand  num_cores  processor_speed  battery_capacity   \n",
       "172          0          unisoc        4.0              1.4            3020.0  \\\n",
       "175          0          unisoc        4.0              1.3            4000.0   \n",
       "177          0          unisoc        8.0              1.6            4000.0   \n",
       "178          0          unisoc        8.0              1.6            5000.0   \n",
       "179          0          unisoc        8.0              1.6            5000.0   \n",
       "194          0          unisoc        8.0              NaN            4000.0   \n",
       "200          0          unisoc        8.0              1.8            5000.0   \n",
       "201          0          unisoc        8.0              1.8            5000.0   \n",
       "255          0          unisoc        8.0              1.6            3000.0   \n",
       "256          0          unisoc        8.0              1.6            5050.0   \n",
       "257          0          unisoc        8.0              1.6            5050.0   \n",
       "258          0          unisoc        8.0              1.6            5000.0   \n",
       "259          0          unisoc        8.0              1.6            5050.0   \n",
       "260          0          unisoc        8.0              1.6            5050.0   \n",
       "492          0          unisoc        8.0              1.6            5000.0   \n",
       "493          0          unisoc        8.0              1.6            5000.0   \n",
       "495          0          unisoc        8.0              1.8            5000.0   \n",
       "500          0          unisoc        8.0              1.6            5000.0   \n",
       "501          0          unisoc        8.0              1.6            5000.0   \n",
       "505          0          unisoc        8.0              1.8            5000.0   \n",
       "506          0          unisoc        8.0              1.8            5000.0   \n",
       "538          0          unisoc        8.0              1.6            5000.0   \n",
       "539          0          unisoc        8.0              1.6            5000.0   \n",
       "556          0          unisoc        8.0              1.6            5000.0   \n",
       "557          0          unisoc        8.0              1.6            5000.0   \n",
       "558          0          unisoc        4.0              1.6            5000.0   \n",
       "721          0          unisoc        8.0              2.0            5000.0   \n",
       "722          0          unisoc        8.0              2.0            5000.0   \n",
       "\n",
       "     fast_charging_available  ...  internal_memory  screen_size  refresh_rate   \n",
       "172                        0  ...               32         5.00            60  \\\n",
       "175                        0  ...               16         6.50            60   \n",
       "177                        0  ...               32         6.09            60   \n",
       "178                        1  ...               64         6.60            60   \n",
       "179                        1  ...               32         6.60            60   \n",
       "194                        0  ...               32         6.50            60   \n",
       "200                        0  ...               64         6.52            60   \n",
       "201                        0  ...               64         6.52            60   \n",
       "255                        0  ...               16         5.45            60   \n",
       "256                        0  ...               64         6.52            60   \n",
       "257                        1  ...               32         6.74            60   \n",
       "258                        1  ...               64         6.52            90   \n",
       "259                        1  ...               64         6.50            90   \n",
       "260                        1  ...              128         6.50            90   \n",
       "492                        0  ...               32         6.52            60   \n",
       "493                        0  ...               64         6.52            60   \n",
       "495                        0  ...               32         6.50            60   \n",
       "500                        1  ...               32         6.50            60   \n",
       "501                        1  ...               64         6.50            60   \n",
       "505                        0  ...               32         6.50            60   \n",
       "506                        0  ...               64         6.50            60   \n",
       "538                        0  ...               32         6.50            60   \n",
       "539                        0  ...               64         6.50            60   \n",
       "556                        1  ...               32         6.50            60   \n",
       "557                        1  ...               64         6.50            60   \n",
       "558                        0  ...               32         6.50            60   \n",
       "721                        0  ...               64         6.60            90   \n",
       "722                        0  ...               64         6.60            90   \n",
       "\n",
       "     num_rear_cameras       os  primary_camera_rear primary_camera_front   \n",
       "172                 1  android                  2.0                  0.0  \\\n",
       "175                 3  android                  8.0                  8.0   \n",
       "177                 2  android                  8.0                  5.0   \n",
       "178                 2  android                  8.0                  5.0   \n",
       "179                 2  android                  8.0                  5.0   \n",
       "194                 3  android                 13.0                  8.0   \n",
       "200                 2  android                 13.0                  5.0   \n",
       "201                 2  android                 13.0                  5.0   \n",
       "255                 1  android                  5.0                  5.0   \n",
       "256                 2  android                 13.0                  5.0   \n",
       "257                 3  android                 13.0                  5.0   \n",
       "258                 2  android                 50.0                  8.0   \n",
       "259                 3  android                 50.0                  8.0   \n",
       "260                 3  android                 50.0                  8.0   \n",
       "492                 1  android                  8.0                  5.0   \n",
       "493                 1  android                  8.0                  5.0   \n",
       "495                 3  android                 13.0                  5.0   \n",
       "500                 1  android                  8.0                  5.0   \n",
       "501                 1  android                  8.0                  5.0   \n",
       "505                 2  android                 50.0                  5.0   \n",
       "506                 2  android                 50.0                  5.0   \n",
       "538                 1  android                  8.0                  5.0   \n",
       "539                 1  android                  8.0                  5.0   \n",
       "556                 2  android                 48.0                  5.0   \n",
       "557                 2  android                 48.0                  5.0   \n",
       "558                 1  android                  8.0                  5.0   \n",
       "721                 2  android                 13.0                  8.0   \n",
       "722                 2  android                 13.0                  8.0   \n",
       "\n",
       "     extended_memory_available  resolution_height  resolution_width  \n",
       "172                          1                480               854  \n",
       "175                          1                720              1600  \n",
       "177                          1                720              1520  \n",
       "178                          1                720              1612  \n",
       "179                          1                720              1612  \n",
       "194                          0               1560               720  \n",
       "200                          1               1600               720  \n",
       "201                          1               1600               720  \n",
       "255                          1               1440               720  \n",
       "256                          1               1600               720  \n",
       "257                          1               1600               720  \n",
       "258                          1               1600               720  \n",
       "259                          1               1600               720  \n",
       "260                          1               1600               720  \n",
       "492                          1               1600               720  \n",
       "493                          1               1600               720  \n",
       "495                          1               1600               720  \n",
       "500                          1               1600               720  \n",
       "501                          1               1600               720  \n",
       "505                          1               1600               720  \n",
       "506                          1               1600               720  \n",
       "538                          1               1600               720  \n",
       "539                          1               1600               720  \n",
       "556                          1               1560               720  \n",
       "557                          1               1560               720  \n",
       "558                          1               1600               720  \n",
       "721                          1               1612               720  \n",
       "722                          1               1612               720  \n",
       "\n",
       "[28 rows x 22 columns]"
      ]
     },
     "execution_count": 122,
     "metadata": {},
     "output_type": "execute_result"
    }
   ],
   "source": [
    "phones[phones['processor_brand']=='unisoc']"
   ]
  },
  {
   "cell_type": "code",
   "execution_count": null,
   "id": "4686c4ba",
   "metadata": {},
   "outputs": [],
   "source": [
    "# sc9863a--same as unisoc"
   ]
  },
  {
   "cell_type": "code",
   "execution_count": 120,
   "id": "ed5267cf",
   "metadata": {},
   "outputs": [],
   "source": [
    "phones.loc[[492,493],'processor_brand']='unisoc'"
   ]
  },
  {
   "cell_type": "code",
   "execution_count": 137,
   "id": "67ae1cb0",
   "metadata": {},
   "outputs": [
    {
     "data": {
      "text/html": [
       "<div>\n",
       "<style scoped>\n",
       "    .dataframe tbody tr th:only-of-type {\n",
       "        vertical-align: middle;\n",
       "    }\n",
       "\n",
       "    .dataframe tbody tr th {\n",
       "        vertical-align: top;\n",
       "    }\n",
       "\n",
       "    .dataframe thead th {\n",
       "        text-align: right;\n",
       "    }\n",
       "</style>\n",
       "<table border=\"1\" class=\"dataframe\">\n",
       "  <thead>\n",
       "    <tr style=\"text-align: right;\">\n",
       "      <th></th>\n",
       "      <th>brand_name</th>\n",
       "      <th>model</th>\n",
       "      <th>price</th>\n",
       "      <th>avg_rating</th>\n",
       "      <th>5G_or_not</th>\n",
       "      <th>processor_brand</th>\n",
       "      <th>num_cores</th>\n",
       "      <th>processor_speed</th>\n",
       "      <th>battery_capacity</th>\n",
       "      <th>fast_charging_available</th>\n",
       "      <th>...</th>\n",
       "      <th>internal_memory</th>\n",
       "      <th>screen_size</th>\n",
       "      <th>refresh_rate</th>\n",
       "      <th>num_rear_cameras</th>\n",
       "      <th>os</th>\n",
       "      <th>primary_camera_rear</th>\n",
       "      <th>primary_camera_front</th>\n",
       "      <th>extended_memory_available</th>\n",
       "      <th>resolution_height</th>\n",
       "      <th>resolution_width</th>\n",
       "    </tr>\n",
       "  </thead>\n",
       "  <tbody>\n",
       "  </tbody>\n",
       "</table>\n",
       "<p>0 rows × 22 columns</p>\n",
       "</div>"
      ],
      "text/plain": [
       "Empty DataFrame\n",
       "Columns: [brand_name, model, price, avg_rating, 5G_or_not, processor_brand, num_cores, processor_speed, battery_capacity, fast_charging_available, fast_charging, ram_capacity, internal_memory, screen_size, refresh_rate, num_rear_cameras, os, primary_camera_rear, primary_camera_front, extended_memory_available, resolution_height, resolution_width]\n",
       "Index: []\n",
       "\n",
       "[0 rows x 22 columns]"
      ]
     },
     "execution_count": 137,
     "metadata": {},
     "output_type": "execute_result"
    }
   ],
   "source": [
    "phones[(phones['processor_brand'].isnull())]"
   ]
  },
  {
   "cell_type": "code",
   "execution_count": 134,
   "id": "e2cec0f8",
   "metadata": {},
   "outputs": [],
   "source": [
    "row_index=phones[(phones['processor_brand'].isnull())].index"
   ]
  },
  {
   "cell_type": "code",
   "execution_count": 135,
   "id": "fa8deb76",
   "metadata": {},
   "outputs": [
    {
     "data": {
      "text/plain": [
       "Index([567, 568, 571, 572, 573, 578, 615, 641, 642, 643, 677], dtype='int64')"
      ]
     },
     "execution_count": 135,
     "metadata": {},
     "output_type": "execute_result"
    }
   ],
   "source": [
    "# jio,huawei,tecno,iKall--mediatek,itel A56--spreadtrum,itel S16 -- unisoc,tesla--tesla processor\n",
    "row_index"
   ]
  },
  {
   "cell_type": "code",
   "execution_count": 128,
   "id": "0912ac35",
   "metadata": {},
   "outputs": [],
   "source": [
    "phones.loc[row_index,'processor_brand']=['mediatek','mediatek','mediatek','mediatek','spreadtrum','unisoc','mediatek','mediatek','tesla']"
   ]
  },
  {
   "cell_type": "code",
   "execution_count": 136,
   "id": "cb9ba954",
   "metadata": {},
   "outputs": [],
   "source": [
    "phones.loc[row_index,'processor_brand']=['meidatek','qualcomm','exynos','exynos','exynos','mediatek','exynos','exynos','qualcomm','qualcomm','exynos']"
   ]
  },
  {
   "cell_type": "code",
   "execution_count": 144,
   "id": "0767a78d",
   "metadata": {},
   "outputs": [
    {
     "name": "stdout",
     "output_type": "stream",
     "text": [
      "<class 'pandas.core.frame.DataFrame'>\n",
      "Index: 976 entries, 0 to 979\n",
      "Data columns (total 22 columns):\n",
      " #   Column                     Non-Null Count  Dtype  \n",
      "---  ------                     --------------  -----  \n",
      " 0   brand_name                 976 non-null    object \n",
      " 1   model                      976 non-null    object \n",
      " 2   price                      976 non-null    int64  \n",
      " 3   avg_rating                 879 non-null    float64\n",
      " 4   5G_or_not                  976 non-null    int64  \n",
      " 5   processor_brand            976 non-null    object \n",
      " 6   num_cores                  976 non-null    float64\n",
      " 7   processor_speed            934 non-null    float64\n",
      " 8   battery_capacity           976 non-null    float64\n",
      " 9   fast_charging_available    976 non-null    int64  \n",
      " 10  fast_charging              766 non-null    float64\n",
      " 11  ram_capacity               976 non-null    int64  \n",
      " 12  internal_memory            976 non-null    int64  \n",
      " 13  screen_size                976 non-null    float64\n",
      " 14  refresh_rate               976 non-null    int64  \n",
      " 15  num_rear_cameras           976 non-null    int64  \n",
      " 16  os                         976 non-null    object \n",
      " 17  primary_camera_rear        976 non-null    float64\n",
      " 18  primary_camera_front       976 non-null    float64\n",
      " 19  extended_memory_available  976 non-null    int64  \n",
      " 20  resolution_height          976 non-null    int64  \n",
      " 21  resolution_width           976 non-null    int64  \n",
      "dtypes: float64(8), int64(10), object(4)\n",
      "memory usage: 207.7+ KB\n"
     ]
    }
   ],
   "source": [
    "phones.info()"
   ]
  },
  {
   "cell_type": "code",
   "execution_count": 165,
   "id": "88d62b0f",
   "metadata": {},
   "outputs": [
    {
     "data": {
      "text/plain": [
       "<Axes: >"
      ]
     },
     "execution_count": 165,
     "metadata": {},
     "output_type": "execute_result"
    },
    {
     "data": {
      "image/png": "[encoded data removed]",
      "text/plain": [
       "<Figure size 640x480 with 2 Axes>"
      ]
     },
     "metadata": {},
     "output_type": "display_data"
    }
   ],
   "source": [
    "sns.heatmap(phones.corr(numeric_only=True)[['processor_speed']])"
   ]
  },
  {
   "cell_type": "code",
   "execution_count": 166,
   "id": "b3b14df3",
   "metadata": {},
   "outputs": [
    {
     "data": {
      "text/plain": [
       "price                        0.471890\n",
       "avg_rating                   0.628446\n",
       "5G_or_not                    0.607751\n",
       "num_cores                    0.184140\n",
       "processor_speed              1.000000\n",
       "battery_capacity            -0.078409\n",
       "fast_charging_available      0.341479\n",
       "fast_charging                0.616462\n",
       "ram_capacity                 0.625134\n",
       "internal_memory              0.523931\n",
       "screen_size                  0.277849\n",
       "refresh_rate                 0.557454\n",
       "num_rear_cameras             0.252551\n",
       "primary_camera_rear          0.277930\n",
       "primary_camera_front         0.398178\n",
       "extended_memory_available   -0.666951\n",
       "resolution_height            0.552796\n",
       "resolution_width             0.359871\n",
       "Name: processor_speed, dtype: float64"
      ]
     },
     "execution_count": 166,
     "metadata": {},
     "output_type": "execute_result"
    }
   ],
   "source": [
    "phones.corr(numeric_only=True)['processor_speed']"
   ]
  },
  {
   "cell_type": "code",
   "execution_count": 379,
   "id": "0dab3ffa",
   "metadata": {},
   "outputs": [
    {
     "data": {
      "text/html": [
       "<div>\n",
       "<style scoped>\n",
       "    .dataframe tbody tr th:only-of-type {\n",
       "        vertical-align: middle;\n",
       "    }\n",
       "\n",
       "    .dataframe tbody tr th {\n",
       "        vertical-align: top;\n",
       "    }\n",
       "\n",
       "    .dataframe thead th {\n",
       "        text-align: right;\n",
       "    }\n",
       "</style>\n",
       "<table border=\"1\" class=\"dataframe\">\n",
       "  <thead>\n",
       "    <tr style=\"text-align: right;\">\n",
       "      <th></th>\n",
       "      <th>brand_name</th>\n",
       "      <th>model</th>\n",
       "      <th>price</th>\n",
       "      <th>avg_rating</th>\n",
       "      <th>5G_or_not</th>\n",
       "      <th>processor_brand</th>\n",
       "      <th>num_cores</th>\n",
       "      <th>processor_speed</th>\n",
       "      <th>battery_capacity</th>\n",
       "      <th>fast_charging_available</th>\n",
       "      <th>...</th>\n",
       "      <th>internal_memory</th>\n",
       "      <th>screen_size</th>\n",
       "      <th>refresh_rate</th>\n",
       "      <th>num_rear_cameras</th>\n",
       "      <th>os</th>\n",
       "      <th>primary_camera_rear</th>\n",
       "      <th>primary_camera_front</th>\n",
       "      <th>extended_memory_available</th>\n",
       "      <th>resolution_height</th>\n",
       "      <th>resolution_width</th>\n",
       "    </tr>\n",
       "  </thead>\n",
       "  <tbody>\n",
       "  </tbody>\n",
       "</table>\n",
       "<p>0 rows × 22 columns</p>\n",
       "</div>"
      ],
      "text/plain": [
       "Empty DataFrame\n",
       "Columns: [brand_name, model, price, avg_rating, 5G_or_not, processor_brand, num_cores, processor_speed, battery_capacity, fast_charging_available, fast_charging, ram_capacity, internal_memory, screen_size, refresh_rate, num_rear_cameras, os, primary_camera_rear, primary_camera_front, extended_memory_available, resolution_height, resolution_width]\n",
       "Index: []\n",
       "\n",
       "[0 rows x 22 columns]"
      ]
     },
     "execution_count": 379,
     "metadata": {},
     "output_type": "execute_result"
    }
   ],
   "source": [
    "phones[phones['processor_speed'].isnull()]"
   ]
  },
  {
   "cell_type": "code",
   "execution_count": 378,
   "id": "ddef54bb",
   "metadata": {},
   "outputs": [],
   "source": [
    "phones.loc[[102,169,194,265,452,731],'processor_speed']=[2.2,2.91,1.8,2.4,3.35,2.0]"
   ]
  },
  {
   "cell_type": "code",
   "execution_count": 376,
   "id": "8fc958b6",
   "metadata": {},
   "outputs": [
    {
     "data": {
      "text/html": [
       "<div>\n",
       "<style scoped>\n",
       "    .dataframe tbody tr th:only-of-type {\n",
       "        vertical-align: middle;\n",
       "    }\n",
       "\n",
       "    .dataframe tbody tr th {\n",
       "        vertical-align: top;\n",
       "    }\n",
       "\n",
       "    .dataframe thead th {\n",
       "        text-align: right;\n",
       "    }\n",
       "</style>\n",
       "<table border=\"1\" class=\"dataframe\">\n",
       "  <thead>\n",
       "    <tr style=\"text-align: right;\">\n",
       "      <th></th>\n",
       "      <th>brand_name</th>\n",
       "      <th>model</th>\n",
       "      <th>price</th>\n",
       "      <th>avg_rating</th>\n",
       "      <th>5G_or_not</th>\n",
       "      <th>processor_brand</th>\n",
       "      <th>num_cores</th>\n",
       "      <th>processor_speed</th>\n",
       "      <th>battery_capacity</th>\n",
       "      <th>fast_charging_available</th>\n",
       "      <th>...</th>\n",
       "      <th>internal_memory</th>\n",
       "      <th>screen_size</th>\n",
       "      <th>refresh_rate</th>\n",
       "      <th>num_rear_cameras</th>\n",
       "      <th>os</th>\n",
       "      <th>primary_camera_rear</th>\n",
       "      <th>primary_camera_front</th>\n",
       "      <th>extended_memory_available</th>\n",
       "      <th>resolution_height</th>\n",
       "      <th>resolution_width</th>\n",
       "    </tr>\n",
       "  </thead>\n",
       "  <tbody>\n",
       "    <tr>\n",
       "      <th>282</th>\n",
       "      <td>oneplus</td>\n",
       "      <td>OnePlus 10R 5G</td>\n",
       "      <td>32999</td>\n",
       "      <td>8.6</td>\n",
       "      <td>1</td>\n",
       "      <td>dimensity</td>\n",
       "      <td>8.0</td>\n",
       "      <td>2.85</td>\n",
       "      <td>5000.0</td>\n",
       "      <td>1</td>\n",
       "      <td>...</td>\n",
       "      <td>128</td>\n",
       "      <td>6.70</td>\n",
       "      <td>120</td>\n",
       "      <td>3</td>\n",
       "      <td>android</td>\n",
       "      <td>50.0</td>\n",
       "      <td>16.0</td>\n",
       "      <td>0</td>\n",
       "      <td>2412</td>\n",
       "      <td>1080</td>\n",
       "    </tr>\n",
       "    <tr>\n",
       "      <th>292</th>\n",
       "      <td>oneplus</td>\n",
       "      <td>OnePlus 6 (8GB RAM + 128GB)</td>\n",
       "      <td>27999</td>\n",
       "      <td>7.7</td>\n",
       "      <td>0</td>\n",
       "      <td>snapdragon</td>\n",
       "      <td>8.0</td>\n",
       "      <td>2.80</td>\n",
       "      <td>3300.0</td>\n",
       "      <td>0</td>\n",
       "      <td>...</td>\n",
       "      <td>128</td>\n",
       "      <td>6.28</td>\n",
       "      <td>60</td>\n",
       "      <td>2</td>\n",
       "      <td>android</td>\n",
       "      <td>20.0</td>\n",
       "      <td>16.0</td>\n",
       "      <td>0</td>\n",
       "      <td>2280</td>\n",
       "      <td>1080</td>\n",
       "    </tr>\n",
       "    <tr>\n",
       "      <th>296</th>\n",
       "      <td>oneplus</td>\n",
       "      <td>OnePlus Ace 2</td>\n",
       "      <td>34999</td>\n",
       "      <td>8.4</td>\n",
       "      <td>1</td>\n",
       "      <td>snapdragon</td>\n",
       "      <td>8.0</td>\n",
       "      <td>3.20</td>\n",
       "      <td>5000.0</td>\n",
       "      <td>1</td>\n",
       "      <td>...</td>\n",
       "      <td>128</td>\n",
       "      <td>6.70</td>\n",
       "      <td>120</td>\n",
       "      <td>3</td>\n",
       "      <td>android</td>\n",
       "      <td>50.0</td>\n",
       "      <td>16.0</td>\n",
       "      <td>0</td>\n",
       "      <td>2412</td>\n",
       "      <td>1080</td>\n",
       "    </tr>\n",
       "    <tr>\n",
       "      <th>297</th>\n",
       "      <td>oneplus</td>\n",
       "      <td>OnePlus Ace 5G</td>\n",
       "      <td>28990</td>\n",
       "      <td>8.4</td>\n",
       "      <td>1</td>\n",
       "      <td>dimensity</td>\n",
       "      <td>8.0</td>\n",
       "      <td>2.85</td>\n",
       "      <td>4500.0</td>\n",
       "      <td>1</td>\n",
       "      <td>...</td>\n",
       "      <td>128</td>\n",
       "      <td>6.70</td>\n",
       "      <td>120</td>\n",
       "      <td>3</td>\n",
       "      <td>android</td>\n",
       "      <td>50.0</td>\n",
       "      <td>16.0</td>\n",
       "      <td>0</td>\n",
       "      <td>2412</td>\n",
       "      <td>1080</td>\n",
       "    </tr>\n",
       "    <tr>\n",
       "      <th>302</th>\n",
       "      <td>oneplus</td>\n",
       "      <td>OnePlus Nord 2T (12GB RAM + 256GB)</td>\n",
       "      <td>33900</td>\n",
       "      <td>8.5</td>\n",
       "      <td>1</td>\n",
       "      <td>dimensity</td>\n",
       "      <td>8.0</td>\n",
       "      <td>3.00</td>\n",
       "      <td>4500.0</td>\n",
       "      <td>1</td>\n",
       "      <td>...</td>\n",
       "      <td>256</td>\n",
       "      <td>6.43</td>\n",
       "      <td>90</td>\n",
       "      <td>3</td>\n",
       "      <td>android</td>\n",
       "      <td>50.0</td>\n",
       "      <td>32.0</td>\n",
       "      <td>0</td>\n",
       "      <td>2400</td>\n",
       "      <td>1080</td>\n",
       "    </tr>\n",
       "    <tr>\n",
       "      <th>303</th>\n",
       "      <td>oneplus</td>\n",
       "      <td>OnePlus Nord 2T 5G</td>\n",
       "      <td>28999</td>\n",
       "      <td>8.4</td>\n",
       "      <td>1</td>\n",
       "      <td>dimensity</td>\n",
       "      <td>8.0</td>\n",
       "      <td>3.00</td>\n",
       "      <td>4500.0</td>\n",
       "      <td>1</td>\n",
       "      <td>...</td>\n",
       "      <td>128</td>\n",
       "      <td>6.43</td>\n",
       "      <td>90</td>\n",
       "      <td>3</td>\n",
       "      <td>android</td>\n",
       "      <td>50.0</td>\n",
       "      <td>32.0</td>\n",
       "      <td>0</td>\n",
       "      <td>2400</td>\n",
       "      <td>1080</td>\n",
       "    </tr>\n",
       "    <tr>\n",
       "      <th>304</th>\n",
       "      <td>oneplus</td>\n",
       "      <td>OnePlus Nord 3 5G</td>\n",
       "      <td>27999</td>\n",
       "      <td>8.4</td>\n",
       "      <td>1</td>\n",
       "      <td>dimensity</td>\n",
       "      <td>8.0</td>\n",
       "      <td>3.10</td>\n",
       "      <td>4200.0</td>\n",
       "      <td>1</td>\n",
       "      <td>...</td>\n",
       "      <td>128</td>\n",
       "      <td>6.43</td>\n",
       "      <td>90</td>\n",
       "      <td>3</td>\n",
       "      <td>android</td>\n",
       "      <td>50.0</td>\n",
       "      <td>32.0</td>\n",
       "      <td>0</td>\n",
       "      <td>2400</td>\n",
       "      <td>1080</td>\n",
       "    </tr>\n",
       "    <tr>\n",
       "      <th>305</th>\n",
       "      <td>oneplus</td>\n",
       "      <td>OnePlus Nord 3T 5G</td>\n",
       "      <td>29990</td>\n",
       "      <td>8.4</td>\n",
       "      <td>1</td>\n",
       "      <td>dimensity</td>\n",
       "      <td>8.0</td>\n",
       "      <td>3.00</td>\n",
       "      <td>4500.0</td>\n",
       "      <td>1</td>\n",
       "      <td>...</td>\n",
       "      <td>128</td>\n",
       "      <td>6.43</td>\n",
       "      <td>90</td>\n",
       "      <td>3</td>\n",
       "      <td>android</td>\n",
       "      <td>50.0</td>\n",
       "      <td>32.0</td>\n",
       "      <td>0</td>\n",
       "      <td>2400</td>\n",
       "      <td>1080</td>\n",
       "    </tr>\n",
       "    <tr>\n",
       "      <th>306</th>\n",
       "      <td>oneplus</td>\n",
       "      <td>OnePlus Nord 4 5G</td>\n",
       "      <td>29999</td>\n",
       "      <td>8.3</td>\n",
       "      <td>1</td>\n",
       "      <td>snapdragon</td>\n",
       "      <td>8.0</td>\n",
       "      <td>2.36</td>\n",
       "      <td>4500.0</td>\n",
       "      <td>1</td>\n",
       "      <td>...</td>\n",
       "      <td>128</td>\n",
       "      <td>6.43</td>\n",
       "      <td>120</td>\n",
       "      <td>3</td>\n",
       "      <td>android</td>\n",
       "      <td>50.0</td>\n",
       "      <td>32.0</td>\n",
       "      <td>0</td>\n",
       "      <td>2412</td>\n",
       "      <td>1080</td>\n",
       "    </tr>\n",
       "    <tr>\n",
       "      <th>307</th>\n",
       "      <td>oneplus</td>\n",
       "      <td>OnePlus Nord 5</td>\n",
       "      <td>34999</td>\n",
       "      <td>7.6</td>\n",
       "      <td>1</td>\n",
       "      <td>dimensity</td>\n",
       "      <td>8.0</td>\n",
       "      <td>3.20</td>\n",
       "      <td>5000.0</td>\n",
       "      <td>1</td>\n",
       "      <td>...</td>\n",
       "      <td>128</td>\n",
       "      <td>6.57</td>\n",
       "      <td>120</td>\n",
       "      <td>3</td>\n",
       "      <td>android</td>\n",
       "      <td>64.0</td>\n",
       "      <td>32.0</td>\n",
       "      <td>0</td>\n",
       "      <td>2400</td>\n",
       "      <td>1080</td>\n",
       "    </tr>\n",
       "    <tr>\n",
       "      <th>314</th>\n",
       "      <td>oneplus</td>\n",
       "      <td>OnePlus Nord N10</td>\n",
       "      <td>25595</td>\n",
       "      <td>8.1</td>\n",
       "      <td>1</td>\n",
       "      <td>snapdragon</td>\n",
       "      <td>8.0</td>\n",
       "      <td>2.00</td>\n",
       "      <td>4300.0</td>\n",
       "      <td>1</td>\n",
       "      <td>...</td>\n",
       "      <td>128</td>\n",
       "      <td>6.49</td>\n",
       "      <td>90</td>\n",
       "      <td>4</td>\n",
       "      <td>android</td>\n",
       "      <td>64.0</td>\n",
       "      <td>16.0</td>\n",
       "      <td>1</td>\n",
       "      <td>2400</td>\n",
       "      <td>1080</td>\n",
       "    </tr>\n",
       "  </tbody>\n",
       "</table>\n",
       "<p>11 rows × 22 columns</p>\n",
       "</div>"
      ],
      "text/plain": [
       "    brand_name                               model  price  avg_rating   \n",
       "282    oneplus                      OnePlus 10R 5G  32999         8.6  \\\n",
       "292    oneplus         OnePlus 6 (8GB RAM + 128GB)  27999         7.7   \n",
       "296    oneplus                       OnePlus Ace 2  34999         8.4   \n",
       "297    oneplus                      OnePlus Ace 5G  28990         8.4   \n",
       "302    oneplus  OnePlus Nord 2T (12GB RAM + 256GB)  33900         8.5   \n",
       "303    oneplus                  OnePlus Nord 2T 5G  28999         8.4   \n",
       "304    oneplus                   OnePlus Nord 3 5G  27999         8.4   \n",
       "305    oneplus                  OnePlus Nord 3T 5G  29990         8.4   \n",
       "306    oneplus                   OnePlus Nord 4 5G  29999         8.3   \n",
       "307    oneplus                      OnePlus Nord 5  34999         7.6   \n",
       "314    oneplus                    OnePlus Nord N10  25595         8.1   \n",
       "\n",
       "     5G_or_not processor_brand  num_cores  processor_speed  battery_capacity   \n",
       "282          1       dimensity        8.0             2.85            5000.0  \\\n",
       "292          0      snapdragon        8.0             2.80            3300.0   \n",
       "296          1      snapdragon        8.0             3.20            5000.0   \n",
       "297          1       dimensity        8.0             2.85            4500.0   \n",
       "302          1       dimensity        8.0             3.00            4500.0   \n",
       "303          1       dimensity        8.0             3.00            4500.0   \n",
       "304          1       dimensity        8.0             3.10            4200.0   \n",
       "305          1       dimensity        8.0             3.00            4500.0   \n",
       "306          1      snapdragon        8.0             2.36            4500.0   \n",
       "307          1       dimensity        8.0             3.20            5000.0   \n",
       "314          1      snapdragon        8.0             2.00            4300.0   \n",
       "\n",
       "     fast_charging_available  ...  internal_memory  screen_size  refresh_rate   \n",
       "282                        1  ...              128         6.70           120  \\\n",
       "292                        0  ...              128         6.28            60   \n",
       "296                        1  ...              128         6.70           120   \n",
       "297                        1  ...              128         6.70           120   \n",
       "302                        1  ...              256         6.43            90   \n",
       "303                        1  ...              128         6.43            90   \n",
       "304                        1  ...              128         6.43            90   \n",
       "305                        1  ...              128         6.43            90   \n",
       "306                        1  ...              128         6.43           120   \n",
       "307                        1  ...              128         6.57           120   \n",
       "314                        1  ...              128         6.49            90   \n",
       "\n",
       "     num_rear_cameras       os  primary_camera_rear primary_camera_front   \n",
       "282                 3  android                 50.0                 16.0  \\\n",
       "292                 2  android                 20.0                 16.0   \n",
       "296                 3  android                 50.0                 16.0   \n",
       "297                 3  android                 50.0                 16.0   \n",
       "302                 3  android                 50.0                 32.0   \n",
       "303                 3  android                 50.0                 32.0   \n",
       "304                 3  android                 50.0                 32.0   \n",
       "305                 3  android                 50.0                 32.0   \n",
       "306                 3  android                 50.0                 32.0   \n",
       "307                 3  android                 64.0                 32.0   \n",
       "314                 4  android                 64.0                 16.0   \n",
       "\n",
       "     extended_memory_available  resolution_height  resolution_width  \n",
       "282                          0               2412              1080  \n",
       "292                          0               2280              1080  \n",
       "296                          0               2412              1080  \n",
       "297                          0               2412              1080  \n",
       "302                          0               2400              1080  \n",
       "303                          0               2400              1080  \n",
       "304                          0               2400              1080  \n",
       "305                          0               2400              1080  \n",
       "306                          0               2412              1080  \n",
       "307                          0               2400              1080  \n",
       "314                          1               2400              1080  \n",
       "\n",
       "[11 rows x 22 columns]"
      ]
     },
     "execution_count": 376,
     "metadata": {},
     "output_type": "execute_result"
    }
   ],
   "source": [
    "one_df=phones[(phones['brand_name']=='oneplus') & (phones['price'].between(25000,35000))]\n",
    "one_df"
   ]
  },
  {
   "cell_type": "code",
   "execution_count": 375,
   "id": "9b0be4f4",
   "metadata": {},
   "outputs": [],
   "source": [
    "phones.loc[307,'processor_speed']=3.2"
   ]
  },
  {
   "cell_type": "code",
   "execution_count": 373,
   "id": "b8b6ebe7",
   "metadata": {},
   "outputs": [
    {
     "data": {
      "text/plain": [
       "price                        0.736216\n",
       "avg_rating                   0.745894\n",
       "5G_or_not                    0.485069\n",
       "num_cores                         NaN\n",
       "processor_speed              1.000000\n",
       "battery_capacity            -0.156927\n",
       "fast_charging_available     -0.043210\n",
       "fast_charging                0.843499\n",
       "ram_capacity                 0.713297\n",
       "internal_memory              0.462978\n",
       "screen_size                  0.459285\n",
       "refresh_rate                 0.480068\n",
       "num_rear_cameras            -0.120900\n",
       "primary_camera_rear          0.152564\n",
       "primary_camera_front         0.428974\n",
       "extended_memory_available   -0.836143\n",
       "resolution_height            0.519383\n",
       "resolution_width             0.518015\n",
       "Name: processor_speed, dtype: float64"
      ]
     },
     "execution_count": 373,
     "metadata": {},
     "output_type": "execute_result"
    }
   ],
   "source": [
    "one_df.corr(numeric_only=True)['processor_speed']"
   ]
  },
  {
   "cell_type": "code",
   "execution_count": 154,
   "id": "8fc684d5",
   "metadata": {},
   "outputs": [
    {
     "data": {
      "text/plain": [
       "1.2"
      ]
     },
     "execution_count": 154,
     "metadata": {},
     "output_type": "execute_result"
    }
   ],
   "source": [
    "phones['processor_speed'].min()"
   ]
  },
  {
   "cell_type": "code",
   "execution_count": 155,
   "id": "b581ba2f",
   "metadata": {},
   "outputs": [
    {
     "data": {
      "text/plain": [
       "3.22"
      ]
     },
     "execution_count": 155,
     "metadata": {},
     "output_type": "execute_result"
    }
   ],
   "source": [
    "phones['processor_speed'].max()"
   ]
  },
  {
   "cell_type": "code",
   "execution_count": 167,
   "id": "2ed12a16",
   "metadata": {},
   "outputs": [
    {
     "data": {
      "text/plain": [
       "array([7.3, 7.5, 7.7, 7.4, 7.6, 8. , 7.9, 8.3, 8.4, 8.6, 8.1, 8.2, 7. ,\n",
       "       7.8, 7.2, nan, 6.1, 6.3, 6. , 8.7, 8.8, 6.7, 8.5, 6.9, 8.9, 7.1,\n",
       "       6.8, 6.6, 6.4, 6.5, 6.2])"
      ]
     },
     "execution_count": 167,
     "metadata": {},
     "output_type": "execute_result"
    }
   ],
   "source": [
    "phones['avg_rating'].unique()"
   ]
  },
  {
   "cell_type": "code",
   "execution_count": 180,
   "id": "b4e81a62",
   "metadata": {},
   "outputs": [
    {
     "data": {
      "text/plain": [
       "<Axes: xlabel='processor_speed', ylabel='refresh_rate'>"
      ]
     },
     "execution_count": 180,
     "metadata": {},
     "output_type": "execute_result"
    },
    {
     "data": {
      "image/png": "[encoded data removed]",
      "text/plain": [
       "<Figure size 640x480 with 1 Axes>"
      ]
     },
     "metadata": {},
     "output_type": "display_data"
    }
   ],
   "source": [
    "sns.scatterplot(data=phones,x='processor_speed',y='refresh_rate')"
   ]
  },
  {
   "cell_type": "code",
   "execution_count": 176,
   "id": "375303af",
   "metadata": {},
   "outputs": [
    {
     "data": {
      "text/plain": [
       "<Axes: xlabel='processor_speed', ylabel='ram_capacity'>"
      ]
     },
     "execution_count": 176,
     "metadata": {},
     "output_type": "execute_result"
    },
    {
     "data": {
      "image/png": "[encoded data removed]",
      "text/plain": [
       "<Figure size 640x480 with 1 Axes>"
      ]
     },
     "metadata": {},
     "output_type": "display_data"
    }
   ],
   "source": [
    "sns.scatterplot(data=phones,x='processor_speed',y='ram_capacity')"
   ]
  },
  {
   "cell_type": "code",
   "execution_count": 179,
   "id": "572797bf",
   "metadata": {},
   "outputs": [
    {
     "data": {
      "text/plain": [
       "<Axes: xlabel='processor_speed', ylabel='internal_memory'>"
      ]
     },
     "execution_count": 179,
     "metadata": {},
     "output_type": "execute_result"
    },
    {
     "data": {
      "image/png": "[encoded data removed]",
      "text/plain": [
       "<Figure size 640x480 with 1 Axes>"
      ]
     },
     "metadata": {},
     "output_type": "display_data"
    }
   ],
   "source": [
    "sns.scatterplot(data=phones,x='processor_speed',y='internal_memory')"
   ]
  },
  {
   "cell_type": "code",
   "execution_count": 175,
   "id": "29c0b1d9",
   "metadata": {},
   "outputs": [
    {
     "data": {
      "text/plain": [
       "<Axes: xlabel='processor_speed', ylabel='fast_charging_available'>"
      ]
     },
     "execution_count": 175,
     "metadata": {},
     "output_type": "execute_result"
    },
    {
     "data": {
      "image/png": "[encoded data removed]",
      "text/plain": [
       "<Figure size 640x480 with 1 Axes>"
      ]
     },
     "metadata": {},
     "output_type": "display_data"
    }
   ],
   "source": [
    "sns.scatterplot(data=phones,x='processor_speed',y='fast_charging_available')"
   ]
  },
  {
   "cell_type": "code",
   "execution_count": 173,
   "id": "2ef74829",
   "metadata": {},
   "outputs": [
    {
     "data": {
      "text/plain": [
       "<Axes: xlabel='processor_speed', ylabel='5G_or_not'>"
      ]
     },
     "execution_count": 173,
     "metadata": {},
     "output_type": "execute_result"
    },
    {
     "data": {
      "image/png": "[encoded data removed]",
      "text/plain": [
       "<Figure size 640x480 with 1 Axes>"
      ]
     },
     "metadata": {},
     "output_type": "display_data"
    }
   ],
   "source": [
    "sns.scatterplot(data=phones,x='processor_speed',y='5G_or_not')"
   ]
  },
  {
   "cell_type": "code",
   "execution_count": 168,
   "id": "796cb9b7",
   "metadata": {},
   "outputs": [
    {
     "data": {
      "text/plain": [
       "<Axes: xlabel='processor_speed', ylabel='avg_rating'>"
      ]
     },
     "execution_count": 168,
     "metadata": {},
     "output_type": "execute_result"
    },
    {
     "data": {
      "image/png": "[encoded data removed]",
      "text/plain": [
       "<Figure size 640x480 with 1 Axes>"
      ]
     },
     "metadata": {},
     "output_type": "display_data"
    }
   ],
   "source": [
    "sns.scatterplot(data=phones,x='processor_speed',y='avg_rating')"
   ]
  },
  {
   "cell_type": "code",
   "execution_count": 177,
   "id": "c906cee8",
   "metadata": {},
   "outputs": [],
   "source": [
    "# IF WE HAVE EXTENDED MEMORY THEN SPEED IS SLOW AND IF NOT THEN SPEED IS FAST.\n",
    "# IF PROCESSOR SPEED IS (>2.75) FAST THEN IT'S AVG RATING (>8) IS ALSO HIGH AD IF SPEED IS SLOW (<1.75) THEN ITS RATING IS LOW(<7).\n",
    "# IF PHONE IS 5G THEN ITS SPEED IS HIGH (>2.5)\n",
    "# IF FAST CHARGING AVAILABLE THEN PHONE HAVE HIGH SPEED.\n",
    "# IF RAM IS MORE SPEED IS MORE\n",
    "# IF REFRESH RATE IS MORE THEN SPEED IS MORE."
   ]
  },
  {
   "cell_type": "code",
   "execution_count": 160,
   "id": "5250d01e",
   "metadata": {},
   "outputs": [
    {
     "data": {
      "text/plain": [
       "processor_speed\n",
       "2.00    134\n",
       "2.20    121\n",
       "2.40    105\n",
       "2.30     84\n",
       "2.05     24\n",
       "1.80     21\n",
       "1.60     20\n",
       "2.50     10\n",
       "1.82     10\n",
       "1.30      8\n",
       "3.20      8\n",
       "2.73      8\n",
       "2.84      7\n",
       "3.00      7\n",
       "2.36      6\n",
       "2.70      5\n",
       "2.60      4\n",
       "1.50      3\n",
       "2.80      3\n",
       "1.40      3\n",
       "2.86      2\n",
       "2.96      2\n",
       "1.95      1\n",
       "1.20      1\n",
       "3.13      1\n",
       "2.10      1\n",
       "1.99      1\n",
       "2.85      1\n",
       "Name: count, dtype: int64"
      ]
     },
     "execution_count": 160,
     "metadata": {},
     "output_type": "execute_result"
    }
   ],
   "source": [
    "phones[(phones['extended_memory_available']==1)]['processor_speed'].value_counts()"
   ]
  },
  {
   "cell_type": "code",
   "execution_count": 194,
   "id": "80c62daa",
   "metadata": {},
   "outputs": [],
   "source": [
    "arr=phones[(phones['brand_name']=='apple')]['processor_speed'].fillna(method='ffill').values"
   ]
  },
  {
   "cell_type": "code",
   "execution_count": 196,
   "id": "59c14e1f",
   "metadata": {},
   "outputs": [],
   "source": [
    "index=phones[(phones['brand_name']=='apple')]['processor_speed'].fillna(method='ffill').index"
   ]
  },
  {
   "cell_type": "code",
   "execution_count": 198,
   "id": "950c5911",
   "metadata": {},
   "outputs": [],
   "source": [
    "phones.loc[index,'processor_speed']=arr"
   ]
  },
  {
   "cell_type": "code",
   "execution_count": 285,
   "id": "8baa6f23",
   "metadata": {},
   "outputs": [
    {
     "data": {
      "text/html": [
       "<div>\n",
       "<style scoped>\n",
       "    .dataframe tbody tr th:only-of-type {\n",
       "        vertical-align: middle;\n",
       "    }\n",
       "\n",
       "    .dataframe tbody tr th {\n",
       "        vertical-align: top;\n",
       "    }\n",
       "\n",
       "    .dataframe thead th {\n",
       "        text-align: right;\n",
       "    }\n",
       "</style>\n",
       "<table border=\"1\" class=\"dataframe\">\n",
       "  <thead>\n",
       "    <tr style=\"text-align: right;\">\n",
       "      <th></th>\n",
       "      <th>brand_name</th>\n",
       "      <th>model</th>\n",
       "      <th>price</th>\n",
       "      <th>avg_rating</th>\n",
       "      <th>5G_or_not</th>\n",
       "      <th>processor_brand</th>\n",
       "      <th>num_cores</th>\n",
       "      <th>processor_speed</th>\n",
       "      <th>battery_capacity</th>\n",
       "      <th>fast_charging_available</th>\n",
       "      <th>...</th>\n",
       "      <th>internal_memory</th>\n",
       "      <th>screen_size</th>\n",
       "      <th>refresh_rate</th>\n",
       "      <th>num_rear_cameras</th>\n",
       "      <th>os</th>\n",
       "      <th>primary_camera_rear</th>\n",
       "      <th>primary_camera_front</th>\n",
       "      <th>extended_memory_available</th>\n",
       "      <th>resolution_height</th>\n",
       "      <th>resolution_width</th>\n",
       "    </tr>\n",
       "  </thead>\n",
       "  <tbody>\n",
       "    <tr>\n",
       "      <th>71</th>\n",
       "      <td>google</td>\n",
       "      <td>Google Pixel 6A</td>\n",
       "      <td>29999</td>\n",
       "      <td>7.1</td>\n",
       "      <td>1</td>\n",
       "      <td>google</td>\n",
       "      <td>8.0</td>\n",
       "      <td>NaN</td>\n",
       "      <td>4410.0</td>\n",
       "      <td>1</td>\n",
       "      <td>...</td>\n",
       "      <td>128</td>\n",
       "      <td>6.14</td>\n",
       "      <td>60</td>\n",
       "      <td>2</td>\n",
       "      <td>android</td>\n",
       "      <td>12.2</td>\n",
       "      <td>8.0</td>\n",
       "      <td>0</td>\n",
       "      <td>2400</td>\n",
       "      <td>1080</td>\n",
       "    </tr>\n",
       "    <tr>\n",
       "      <th>74</th>\n",
       "      <td>google</td>\n",
       "      <td>Google Pixel 7A</td>\n",
       "      <td>34990</td>\n",
       "      <td>6.9</td>\n",
       "      <td>1</td>\n",
       "      <td>google</td>\n",
       "      <td>8.0</td>\n",
       "      <td>NaN</td>\n",
       "      <td>4410.0</td>\n",
       "      <td>1</td>\n",
       "      <td>...</td>\n",
       "      <td>128</td>\n",
       "      <td>6.10</td>\n",
       "      <td>90</td>\n",
       "      <td>2</td>\n",
       "      <td>android</td>\n",
       "      <td>12.2</td>\n",
       "      <td>8.0</td>\n",
       "      <td>0</td>\n",
       "      <td>2400</td>\n",
       "      <td>1080</td>\n",
       "    </tr>\n",
       "    <tr>\n",
       "      <th>75</th>\n",
       "      <td>google</td>\n",
       "      <td>Google Pixel 8</td>\n",
       "      <td>53990</td>\n",
       "      <td>7.5</td>\n",
       "      <td>1</td>\n",
       "      <td>google</td>\n",
       "      <td>8.0</td>\n",
       "      <td>NaN</td>\n",
       "      <td>4830.0</td>\n",
       "      <td>1</td>\n",
       "      <td>...</td>\n",
       "      <td>128</td>\n",
       "      <td>6.60</td>\n",
       "      <td>120</td>\n",
       "      <td>2</td>\n",
       "      <td>android</td>\n",
       "      <td>50.0</td>\n",
       "      <td>10.0</td>\n",
       "      <td>0</td>\n",
       "      <td>2400</td>\n",
       "      <td>1080</td>\n",
       "    </tr>\n",
       "    <tr>\n",
       "      <th>76</th>\n",
       "      <td>google</td>\n",
       "      <td>Google Pixel 8 Pro</td>\n",
       "      <td>70990</td>\n",
       "      <td>8.0</td>\n",
       "      <td>1</td>\n",
       "      <td>google</td>\n",
       "      <td>8.0</td>\n",
       "      <td>NaN</td>\n",
       "      <td>5000.0</td>\n",
       "      <td>1</td>\n",
       "      <td>...</td>\n",
       "      <td>256</td>\n",
       "      <td>6.73</td>\n",
       "      <td>120</td>\n",
       "      <td>3</td>\n",
       "      <td>android</td>\n",
       "      <td>50.0</td>\n",
       "      <td>12.0</td>\n",
       "      <td>0</td>\n",
       "      <td>3120</td>\n",
       "      <td>1440</td>\n",
       "    </tr>\n",
       "    <tr>\n",
       "      <th>102</th>\n",
       "      <td>huawei</td>\n",
       "      <td>Huawei Nova Y61</td>\n",
       "      <td>21990</td>\n",
       "      <td>6.3</td>\n",
       "      <td>0</td>\n",
       "      <td>mediatek</td>\n",
       "      <td>8.0</td>\n",
       "      <td>NaN</td>\n",
       "      <td>5000.0</td>\n",
       "      <td>1</td>\n",
       "      <td>...</td>\n",
       "      <td>64</td>\n",
       "      <td>6.52</td>\n",
       "      <td>60</td>\n",
       "      <td>3</td>\n",
       "      <td>other</td>\n",
       "      <td>50.0</td>\n",
       "      <td>5.0</td>\n",
       "      <td>1</td>\n",
       "      <td>1600</td>\n",
       "      <td>720</td>\n",
       "    </tr>\n",
       "    <tr>\n",
       "      <th>169</th>\n",
       "      <td>iqoo</td>\n",
       "      <td>iQOO Z9</td>\n",
       "      <td>19990</td>\n",
       "      <td>7.6</td>\n",
       "      <td>1</td>\n",
       "      <td>snapdragon</td>\n",
       "      <td>8.0</td>\n",
       "      <td>NaN</td>\n",
       "      <td>5000.0</td>\n",
       "      <td>1</td>\n",
       "      <td>...</td>\n",
       "      <td>128</td>\n",
       "      <td>6.67</td>\n",
       "      <td>120</td>\n",
       "      <td>3</td>\n",
       "      <td>android</td>\n",
       "      <td>64.0</td>\n",
       "      <td>16.0</td>\n",
       "      <td>1</td>\n",
       "      <td>2412</td>\n",
       "      <td>1080</td>\n",
       "    </tr>\n",
       "    <tr>\n",
       "      <th>194</th>\n",
       "      <td>letv</td>\n",
       "      <td>Letv Y2 Pro</td>\n",
       "      <td>6999</td>\n",
       "      <td>NaN</td>\n",
       "      <td>0</td>\n",
       "      <td>unisoc</td>\n",
       "      <td>8.0</td>\n",
       "      <td>NaN</td>\n",
       "      <td>4000.0</td>\n",
       "      <td>0</td>\n",
       "      <td>...</td>\n",
       "      <td>32</td>\n",
       "      <td>6.50</td>\n",
       "      <td>60</td>\n",
       "      <td>3</td>\n",
       "      <td>android</td>\n",
       "      <td>13.0</td>\n",
       "      <td>8.0</td>\n",
       "      <td>0</td>\n",
       "      <td>1560</td>\n",
       "      <td>720</td>\n",
       "    </tr>\n",
       "    <tr>\n",
       "      <th>265</th>\n",
       "      <td>nokia</td>\n",
       "      <td>Nokia X50 5G</td>\n",
       "      <td>34999</td>\n",
       "      <td>7.6</td>\n",
       "      <td>1</td>\n",
       "      <td>snapdragon</td>\n",
       "      <td>8.0</td>\n",
       "      <td>NaN</td>\n",
       "      <td>6000.0</td>\n",
       "      <td>1</td>\n",
       "      <td>...</td>\n",
       "      <td>64</td>\n",
       "      <td>6.81</td>\n",
       "      <td>60</td>\n",
       "      <td>4</td>\n",
       "      <td>android</td>\n",
       "      <td>108.0</td>\n",
       "      <td>32.0</td>\n",
       "      <td>1</td>\n",
       "      <td>2400</td>\n",
       "      <td>1080</td>\n",
       "    </tr>\n",
       "    <tr>\n",
       "      <th>307</th>\n",
       "      <td>oneplus</td>\n",
       "      <td>OnePlus Nord 5</td>\n",
       "      <td>34999</td>\n",
       "      <td>7.6</td>\n",
       "      <td>1</td>\n",
       "      <td>dimensity</td>\n",
       "      <td>8.0</td>\n",
       "      <td>NaN</td>\n",
       "      <td>5000.0</td>\n",
       "      <td>1</td>\n",
       "      <td>...</td>\n",
       "      <td>128</td>\n",
       "      <td>6.57</td>\n",
       "      <td>120</td>\n",
       "      <td>3</td>\n",
       "      <td>android</td>\n",
       "      <td>64.0</td>\n",
       "      <td>32.0</td>\n",
       "      <td>0</td>\n",
       "      <td>2400</td>\n",
       "      <td>1080</td>\n",
       "    </tr>\n",
       "    <tr>\n",
       "      <th>452</th>\n",
       "      <td>poco</td>\n",
       "      <td>Poco X6 Pro 5G</td>\n",
       "      <td>19999</td>\n",
       "      <td>7.2</td>\n",
       "      <td>1</td>\n",
       "      <td>snapdragon</td>\n",
       "      <td>8.0</td>\n",
       "      <td>NaN</td>\n",
       "      <td>5000.0</td>\n",
       "      <td>1</td>\n",
       "      <td>...</td>\n",
       "      <td>128</td>\n",
       "      <td>6.67</td>\n",
       "      <td>120</td>\n",
       "      <td>4</td>\n",
       "      <td>android</td>\n",
       "      <td>64.0</td>\n",
       "      <td>32.0</td>\n",
       "      <td>1</td>\n",
       "      <td>2400</td>\n",
       "      <td>1080</td>\n",
       "    </tr>\n",
       "    <tr>\n",
       "      <th>731</th>\n",
       "      <td>tesla</td>\n",
       "      <td>Tesla Pi Phone</td>\n",
       "      <td>69999</td>\n",
       "      <td>8.3</td>\n",
       "      <td>1</td>\n",
       "      <td>tesla</td>\n",
       "      <td>8.0</td>\n",
       "      <td>NaN</td>\n",
       "      <td>5000.0</td>\n",
       "      <td>1</td>\n",
       "      <td>...</td>\n",
       "      <td>512</td>\n",
       "      <td>6.73</td>\n",
       "      <td>165</td>\n",
       "      <td>3</td>\n",
       "      <td>android</td>\n",
       "      <td>50.0</td>\n",
       "      <td>32.0</td>\n",
       "      <td>0</td>\n",
       "      <td>2448</td>\n",
       "      <td>1080</td>\n",
       "    </tr>\n",
       "    <tr>\n",
       "      <th>736</th>\n",
       "      <td>vivo</td>\n",
       "      <td>Vivo S17 Pro</td>\n",
       "      <td>49990</td>\n",
       "      <td>7.7</td>\n",
       "      <td>1</td>\n",
       "      <td>dimensity</td>\n",
       "      <td>8.0</td>\n",
       "      <td>NaN</td>\n",
       "      <td>5000.0</td>\n",
       "      <td>1</td>\n",
       "      <td>...</td>\n",
       "      <td>256</td>\n",
       "      <td>6.67</td>\n",
       "      <td>120</td>\n",
       "      <td>3</td>\n",
       "      <td>android</td>\n",
       "      <td>50.0</td>\n",
       "      <td>32.0</td>\n",
       "      <td>0</td>\n",
       "      <td>2400</td>\n",
       "      <td>1080</td>\n",
       "    </tr>\n",
       "    <tr>\n",
       "      <th>749</th>\n",
       "      <td>vivo</td>\n",
       "      <td>Vivo T2 Pro 5G</td>\n",
       "      <td>29990</td>\n",
       "      <td>7.6</td>\n",
       "      <td>1</td>\n",
       "      <td>snapdragon</td>\n",
       "      <td>8.0</td>\n",
       "      <td>NaN</td>\n",
       "      <td>4500.0</td>\n",
       "      <td>1</td>\n",
       "      <td>...</td>\n",
       "      <td>128</td>\n",
       "      <td>6.44</td>\n",
       "      <td>90</td>\n",
       "      <td>3</td>\n",
       "      <td>android</td>\n",
       "      <td>50.0</td>\n",
       "      <td>16.0</td>\n",
       "      <td>1</td>\n",
       "      <td>2408</td>\n",
       "      <td>1080</td>\n",
       "    </tr>\n",
       "    <tr>\n",
       "      <th>795</th>\n",
       "      <td>vivo</td>\n",
       "      <td>Vivo Y02</td>\n",
       "      <td>8999</td>\n",
       "      <td>NaN</td>\n",
       "      <td>0</td>\n",
       "      <td>helio</td>\n",
       "      <td>8.0</td>\n",
       "      <td>NaN</td>\n",
       "      <td>5000.0</td>\n",
       "      <td>1</td>\n",
       "      <td>...</td>\n",
       "      <td>32</td>\n",
       "      <td>6.51</td>\n",
       "      <td>60</td>\n",
       "      <td>1</td>\n",
       "      <td>android</td>\n",
       "      <td>8.0</td>\n",
       "      <td>5.0</td>\n",
       "      <td>1</td>\n",
       "      <td>1600</td>\n",
       "      <td>720</td>\n",
       "    </tr>\n",
       "    <tr>\n",
       "      <th>796</th>\n",
       "      <td>vivo</td>\n",
       "      <td>Vivo Y02 (2GB RAM + 32GB)</td>\n",
       "      <td>7999</td>\n",
       "      <td>NaN</td>\n",
       "      <td>0</td>\n",
       "      <td>helio</td>\n",
       "      <td>8.0</td>\n",
       "      <td>NaN</td>\n",
       "      <td>5000.0</td>\n",
       "      <td>1</td>\n",
       "      <td>...</td>\n",
       "      <td>32</td>\n",
       "      <td>6.51</td>\n",
       "      <td>60</td>\n",
       "      <td>1</td>\n",
       "      <td>android</td>\n",
       "      <td>8.0</td>\n",
       "      <td>5.0</td>\n",
       "      <td>1</td>\n",
       "      <td>1600</td>\n",
       "      <td>720</td>\n",
       "    </tr>\n",
       "  </tbody>\n",
       "</table>\n",
       "<p>15 rows × 22 columns</p>\n",
       "</div>"
      ],
      "text/plain": [
       "    brand_name                      model  price  avg_rating  5G_or_not   \n",
       "71      google            Google Pixel 6A  29999         7.1          1  \\\n",
       "74      google            Google Pixel 7A  34990         6.9          1   \n",
       "75      google             Google Pixel 8  53990         7.5          1   \n",
       "76      google         Google Pixel 8 Pro  70990         8.0          1   \n",
       "102     huawei            Huawei Nova Y61  21990         6.3          0   \n",
       "169       iqoo                    iQOO Z9  19990         7.6          1   \n",
       "194       letv                Letv Y2 Pro   6999         NaN          0   \n",
       "265      nokia               Nokia X50 5G  34999         7.6          1   \n",
       "307    oneplus             OnePlus Nord 5  34999         7.6          1   \n",
       "452       poco             Poco X6 Pro 5G  19999         7.2          1   \n",
       "731      tesla             Tesla Pi Phone  69999         8.3          1   \n",
       "736       vivo               Vivo S17 Pro  49990         7.7          1   \n",
       "749       vivo             Vivo T2 Pro 5G  29990         7.6          1   \n",
       "795       vivo                   Vivo Y02   8999         NaN          0   \n",
       "796       vivo  Vivo Y02 (2GB RAM + 32GB)   7999         NaN          0   \n",
       "\n",
       "    processor_brand  num_cores  processor_speed  battery_capacity   \n",
       "71           google        8.0              NaN            4410.0  \\\n",
       "74           google        8.0              NaN            4410.0   \n",
       "75           google        8.0              NaN            4830.0   \n",
       "76           google        8.0              NaN            5000.0   \n",
       "102        mediatek        8.0              NaN            5000.0   \n",
       "169      snapdragon        8.0              NaN            5000.0   \n",
       "194          unisoc        8.0              NaN            4000.0   \n",
       "265      snapdragon        8.0              NaN            6000.0   \n",
       "307       dimensity        8.0              NaN            5000.0   \n",
       "452      snapdragon        8.0              NaN            5000.0   \n",
       "731           tesla        8.0              NaN            5000.0   \n",
       "736       dimensity        8.0              NaN            5000.0   \n",
       "749      snapdragon        8.0              NaN            4500.0   \n",
       "795           helio        8.0              NaN            5000.0   \n",
       "796           helio        8.0              NaN            5000.0   \n",
       "\n",
       "     fast_charging_available  ...  internal_memory  screen_size  refresh_rate   \n",
       "71                         1  ...              128         6.14            60  \\\n",
       "74                         1  ...              128         6.10            90   \n",
       "75                         1  ...              128         6.60           120   \n",
       "76                         1  ...              256         6.73           120   \n",
       "102                        1  ...               64         6.52            60   \n",
       "169                        1  ...              128         6.67           120   \n",
       "194                        0  ...               32         6.50            60   \n",
       "265                        1  ...               64         6.81            60   \n",
       "307                        1  ...              128         6.57           120   \n",
       "452                        1  ...              128         6.67           120   \n",
       "731                        1  ...              512         6.73           165   \n",
       "736                        1  ...              256         6.67           120   \n",
       "749                        1  ...              128         6.44            90   \n",
       "795                        1  ...               32         6.51            60   \n",
       "796                        1  ...               32         6.51            60   \n",
       "\n",
       "     num_rear_cameras       os  primary_camera_rear primary_camera_front   \n",
       "71                  2  android                 12.2                  8.0  \\\n",
       "74                  2  android                 12.2                  8.0   \n",
       "75                  2  android                 50.0                 10.0   \n",
       "76                  3  android                 50.0                 12.0   \n",
       "102                 3    other                 50.0                  5.0   \n",
       "169                 3  android                 64.0                 16.0   \n",
       "194                 3  android                 13.0                  8.0   \n",
       "265                 4  android                108.0                 32.0   \n",
       "307                 3  android                 64.0                 32.0   \n",
       "452                 4  android                 64.0                 32.0   \n",
       "731                 3  android                 50.0                 32.0   \n",
       "736                 3  android                 50.0                 32.0   \n",
       "749                 3  android                 50.0                 16.0   \n",
       "795                 1  android                  8.0                  5.0   \n",
       "796                 1  android                  8.0                  5.0   \n",
       "\n",
       "     extended_memory_available  resolution_height  resolution_width  \n",
       "71                           0               2400              1080  \n",
       "74                           0               2400              1080  \n",
       "75                           0               2400              1080  \n",
       "76                           0               3120              1440  \n",
       "102                          1               1600               720  \n",
       "169                          1               2412              1080  \n",
       "194                          0               1560               720  \n",
       "265                          1               2400              1080  \n",
       "307                          0               2400              1080  \n",
       "452                          1               2400              1080  \n",
       "731                          0               2448              1080  \n",
       "736                          0               2400              1080  \n",
       "749                          1               2408              1080  \n",
       "795                          1               1600               720  \n",
       "796                          1               1600               720  \n",
       "\n",
       "[15 rows x 22 columns]"
      ]
     },
     "execution_count": 285,
     "metadata": {},
     "output_type": "execute_result"
    }
   ],
   "source": [
    "phones[phones['processor_speed'].isnull()]"
   ]
  },
  {
   "cell_type": "code",
   "execution_count": 357,
   "id": "afc0f567",
   "metadata": {},
   "outputs": [],
   "source": [
    "vivo_df=phones[phones['brand_name']=='vivo']"
   ]
  },
  {
   "cell_type": "code",
   "execution_count": 358,
   "id": "3b7797ac",
   "metadata": {},
   "outputs": [
    {
     "data": {
      "text/html": [
       "<div>\n",
       "<style scoped>\n",
       "    .dataframe tbody tr th:only-of-type {\n",
       "        vertical-align: middle;\n",
       "    }\n",
       "\n",
       "    .dataframe tbody tr th {\n",
       "        vertical-align: top;\n",
       "    }\n",
       "\n",
       "    .dataframe thead th {\n",
       "        text-align: right;\n",
       "    }\n",
       "</style>\n",
       "<table border=\"1\" class=\"dataframe\">\n",
       "  <thead>\n",
       "    <tr style=\"text-align: right;\">\n",
       "      <th></th>\n",
       "      <th>brand_name</th>\n",
       "      <th>model</th>\n",
       "      <th>price</th>\n",
       "      <th>avg_rating</th>\n",
       "      <th>5G_or_not</th>\n",
       "      <th>processor_brand</th>\n",
       "      <th>num_cores</th>\n",
       "      <th>processor_speed</th>\n",
       "      <th>battery_capacity</th>\n",
       "      <th>fast_charging_available</th>\n",
       "      <th>...</th>\n",
       "      <th>internal_memory</th>\n",
       "      <th>screen_size</th>\n",
       "      <th>refresh_rate</th>\n",
       "      <th>num_rear_cameras</th>\n",
       "      <th>os</th>\n",
       "      <th>primary_camera_rear</th>\n",
       "      <th>primary_camera_front</th>\n",
       "      <th>extended_memory_available</th>\n",
       "      <th>resolution_height</th>\n",
       "      <th>resolution_width</th>\n",
       "    </tr>\n",
       "  </thead>\n",
       "  <tbody>\n",
       "    <tr>\n",
       "      <th>736</th>\n",
       "      <td>vivo</td>\n",
       "      <td>Vivo S17 Pro</td>\n",
       "      <td>49990</td>\n",
       "      <td>7.7</td>\n",
       "      <td>1</td>\n",
       "      <td>dimensity</td>\n",
       "      <td>8.0</td>\n",
       "      <td>3.20</td>\n",
       "      <td>5000.0</td>\n",
       "      <td>1</td>\n",
       "      <td>...</td>\n",
       "      <td>256</td>\n",
       "      <td>6.67</td>\n",
       "      <td>120</td>\n",
       "      <td>3</td>\n",
       "      <td>android</td>\n",
       "      <td>50.0</td>\n",
       "      <td>32.0</td>\n",
       "      <td>0</td>\n",
       "      <td>2400</td>\n",
       "      <td>1080</td>\n",
       "    </tr>\n",
       "    <tr>\n",
       "      <th>776</th>\n",
       "      <td>vivo</td>\n",
       "      <td>Vivo V26 Pro</td>\n",
       "      <td>42990</td>\n",
       "      <td>8.7</td>\n",
       "      <td>1</td>\n",
       "      <td>dimensity</td>\n",
       "      <td>8.0</td>\n",
       "      <td>3.20</td>\n",
       "      <td>4800.0</td>\n",
       "      <td>1</td>\n",
       "      <td>...</td>\n",
       "      <td>256</td>\n",
       "      <td>6.70</td>\n",
       "      <td>120</td>\n",
       "      <td>3</td>\n",
       "      <td>android</td>\n",
       "      <td>64.0</td>\n",
       "      <td>32.0</td>\n",
       "      <td>0</td>\n",
       "      <td>2400</td>\n",
       "      <td>1080</td>\n",
       "    </tr>\n",
       "    <tr>\n",
       "      <th>778</th>\n",
       "      <td>vivo</td>\n",
       "      <td>Vivo V27 Pro</td>\n",
       "      <td>43999</td>\n",
       "      <td>8.7</td>\n",
       "      <td>1</td>\n",
       "      <td>dimensity</td>\n",
       "      <td>8.0</td>\n",
       "      <td>3.20</td>\n",
       "      <td>5000.0</td>\n",
       "      <td>1</td>\n",
       "      <td>...</td>\n",
       "      <td>256</td>\n",
       "      <td>6.73</td>\n",
       "      <td>144</td>\n",
       "      <td>3</td>\n",
       "      <td>android</td>\n",
       "      <td>108.0</td>\n",
       "      <td>32.0</td>\n",
       "      <td>0</td>\n",
       "      <td>2400</td>\n",
       "      <td>1080</td>\n",
       "    </tr>\n",
       "    <tr>\n",
       "      <th>789</th>\n",
       "      <td>vivo</td>\n",
       "      <td>Vivo X80 Pro Plus 5G</td>\n",
       "      <td>82990</td>\n",
       "      <td>NaN</td>\n",
       "      <td>1</td>\n",
       "      <td>snapdragon</td>\n",
       "      <td>8.0</td>\n",
       "      <td>3.20</td>\n",
       "      <td>4500.0</td>\n",
       "      <td>1</td>\n",
       "      <td>...</td>\n",
       "      <td>256</td>\n",
       "      <td>6.78</td>\n",
       "      <td>120</td>\n",
       "      <td>4</td>\n",
       "      <td>android</td>\n",
       "      <td>50.0</td>\n",
       "      <td>32.0</td>\n",
       "      <td>0</td>\n",
       "      <td>3200</td>\n",
       "      <td>1440</td>\n",
       "    </tr>\n",
       "    <tr>\n",
       "      <th>790</th>\n",
       "      <td>vivo</td>\n",
       "      <td>Vivo X90 5G</td>\n",
       "      <td>41990</td>\n",
       "      <td>8.8</td>\n",
       "      <td>1</td>\n",
       "      <td>dimensity</td>\n",
       "      <td>8.0</td>\n",
       "      <td>3.05</td>\n",
       "      <td>4810.0</td>\n",
       "      <td>1</td>\n",
       "      <td>...</td>\n",
       "      <td>128</td>\n",
       "      <td>6.78</td>\n",
       "      <td>120</td>\n",
       "      <td>3</td>\n",
       "      <td>android</td>\n",
       "      <td>50.0</td>\n",
       "      <td>32.0</td>\n",
       "      <td>0</td>\n",
       "      <td>2800</td>\n",
       "      <td>1260</td>\n",
       "    </tr>\n",
       "    <tr>\n",
       "      <th>791</th>\n",
       "      <td>vivo</td>\n",
       "      <td>Vivo X90 Pro 5G</td>\n",
       "      <td>56999</td>\n",
       "      <td>NaN</td>\n",
       "      <td>1</td>\n",
       "      <td>dimensity</td>\n",
       "      <td>8.0</td>\n",
       "      <td>3.05</td>\n",
       "      <td>4870.0</td>\n",
       "      <td>1</td>\n",
       "      <td>...</td>\n",
       "      <td>256</td>\n",
       "      <td>6.78</td>\n",
       "      <td>120</td>\n",
       "      <td>3</td>\n",
       "      <td>android</td>\n",
       "      <td>50.3</td>\n",
       "      <td>32.0</td>\n",
       "      <td>0</td>\n",
       "      <td>2800</td>\n",
       "      <td>1260</td>\n",
       "    </tr>\n",
       "  </tbody>\n",
       "</table>\n",
       "<p>6 rows × 22 columns</p>\n",
       "</div>"
      ],
      "text/plain": [
       "    brand_name                 model  price  avg_rating  5G_or_not   \n",
       "736       vivo          Vivo S17 Pro  49990         7.7          1  \\\n",
       "776       vivo          Vivo V26 Pro  42990         8.7          1   \n",
       "778       vivo          Vivo V27 Pro  43999         8.7          1   \n",
       "789       vivo  Vivo X80 Pro Plus 5G  82990         NaN          1   \n",
       "790       vivo           Vivo X90 5G  41990         8.8          1   \n",
       "791       vivo       Vivo X90 Pro 5G  56999         NaN          1   \n",
       "\n",
       "    processor_brand  num_cores  processor_speed  battery_capacity   \n",
       "736       dimensity        8.0             3.20            5000.0  \\\n",
       "776       dimensity        8.0             3.20            4800.0   \n",
       "778       dimensity        8.0             3.20            5000.0   \n",
       "789      snapdragon        8.0             3.20            4500.0   \n",
       "790       dimensity        8.0             3.05            4810.0   \n",
       "791       dimensity        8.0             3.05            4870.0   \n",
       "\n",
       "     fast_charging_available  ...  internal_memory  screen_size  refresh_rate   \n",
       "736                        1  ...              256         6.67           120  \\\n",
       "776                        1  ...              256         6.70           120   \n",
       "778                        1  ...              256         6.73           144   \n",
       "789                        1  ...              256         6.78           120   \n",
       "790                        1  ...              128         6.78           120   \n",
       "791                        1  ...              256         6.78           120   \n",
       "\n",
       "     num_rear_cameras       os  primary_camera_rear primary_camera_front   \n",
       "736                 3  android                 50.0                 32.0  \\\n",
       "776                 3  android                 64.0                 32.0   \n",
       "778                 3  android                108.0                 32.0   \n",
       "789                 4  android                 50.0                 32.0   \n",
       "790                 3  android                 50.0                 32.0   \n",
       "791                 3  android                 50.3                 32.0   \n",
       "\n",
       "     extended_memory_available  resolution_height  resolution_width  \n",
       "736                          0               2400              1080  \n",
       "776                          0               2400              1080  \n",
       "778                          0               2400              1080  \n",
       "789                          0               3200              1440  \n",
       "790                          0               2800              1260  \n",
       "791                          0               2800              1260  \n",
       "\n",
       "[6 rows x 22 columns]"
      ]
     },
     "execution_count": 358,
     "metadata": {},
     "output_type": "execute_result"
    }
   ],
   "source": [
    "vivo_df[vivo_df['fast_charging'].between(100,1000)]"
   ]
  },
  {
   "cell_type": "code",
   "execution_count": 356,
   "id": "a79146ab",
   "metadata": {},
   "outputs": [],
   "source": [
    "phones.loc[736,'processor_speed']=3.20"
   ]
  },
  {
   "cell_type": "code",
   "execution_count": 338,
   "id": "164751e5",
   "metadata": {},
   "outputs": [
    {
     "data": {
      "text/plain": [
       "price                        0.667349\n",
       "avg_rating                   0.517235\n",
       "5G_or_not                    0.579440\n",
       "num_cores                    0.419796\n",
       "processor_speed              1.000000\n",
       "battery_capacity             0.229952\n",
       "fast_charging_available      0.434672\n",
       "fast_charging                0.736087\n",
       "ram_capacity                 0.660421\n",
       "internal_memory              0.604491\n",
       "screen_size                  0.641967\n",
       "refresh_rate                 0.725644\n",
       "num_rear_cameras             0.500081\n",
       "primary_camera_rear          0.488933\n",
       "primary_camera_front         0.383536\n",
       "extended_memory_available   -0.661148\n",
       "resolution_height            0.503013\n",
       "resolution_width             0.534720\n",
       "Name: processor_speed, dtype: float64"
      ]
     },
     "execution_count": 338,
     "metadata": {},
     "output_type": "execute_result"
    }
   ],
   "source": [
    "vivo_df.corr(numeric_only=True)['processor_speed']"
   ]
  },
  {
   "cell_type": "code",
   "execution_count": 329,
   "id": "96f1c6d6",
   "metadata": {},
   "outputs": [],
   "source": [
    "google_df=phones[phones['brand_name']=='google']"
   ]
  },
  {
   "cell_type": "code",
   "execution_count": 300,
   "id": "9199187d",
   "metadata": {},
   "outputs": [
    {
     "data": {
      "text/html": [
       "<div>\n",
       "<style scoped>\n",
       "    .dataframe tbody tr th:only-of-type {\n",
       "        vertical-align: middle;\n",
       "    }\n",
       "\n",
       "    .dataframe tbody tr th {\n",
       "        vertical-align: top;\n",
       "    }\n",
       "\n",
       "    .dataframe thead th {\n",
       "        text-align: right;\n",
       "    }\n",
       "</style>\n",
       "<table border=\"1\" class=\"dataframe\">\n",
       "  <thead>\n",
       "    <tr style=\"text-align: right;\">\n",
       "      <th></th>\n",
       "      <th>processor_speed</th>\n",
       "      <th>avg_rating</th>\n",
       "    </tr>\n",
       "  </thead>\n",
       "  <tbody>\n",
       "    <tr>\n",
       "      <th>64</th>\n",
       "      <td>2.00</td>\n",
       "      <td>6.7</td>\n",
       "    </tr>\n",
       "    <tr>\n",
       "      <th>63</th>\n",
       "      <td>2.35</td>\n",
       "      <td>6.9</td>\n",
       "    </tr>\n",
       "    <tr>\n",
       "      <th>74</th>\n",
       "      <td>NaN</td>\n",
       "      <td>6.9</td>\n",
       "    </tr>\n",
       "    <tr>\n",
       "      <th>71</th>\n",
       "      <td>NaN</td>\n",
       "      <td>7.1</td>\n",
       "    </tr>\n",
       "    <tr>\n",
       "      <th>75</th>\n",
       "      <td>NaN</td>\n",
       "      <td>7.5</td>\n",
       "    </tr>\n",
       "    <tr>\n",
       "      <th>65</th>\n",
       "      <td>2.80</td>\n",
       "      <td>7.8</td>\n",
       "    </tr>\n",
       "    <tr>\n",
       "      <th>67</th>\n",
       "      <td>2.40</td>\n",
       "      <td>7.8</td>\n",
       "    </tr>\n",
       "    <tr>\n",
       "      <th>76</th>\n",
       "      <td>NaN</td>\n",
       "      <td>8.0</td>\n",
       "    </tr>\n",
       "    <tr>\n",
       "      <th>66</th>\n",
       "      <td>2.40</td>\n",
       "      <td>8.2</td>\n",
       "    </tr>\n",
       "    <tr>\n",
       "      <th>68</th>\n",
       "      <td>2.80</td>\n",
       "      <td>8.4</td>\n",
       "    </tr>\n",
       "    <tr>\n",
       "      <th>72</th>\n",
       "      <td>2.85</td>\n",
       "      <td>8.6</td>\n",
       "    </tr>\n",
       "    <tr>\n",
       "      <th>69</th>\n",
       "      <td>2.80</td>\n",
       "      <td>8.9</td>\n",
       "    </tr>\n",
       "    <tr>\n",
       "      <th>70</th>\n",
       "      <td>2.80</td>\n",
       "      <td>NaN</td>\n",
       "    </tr>\n",
       "    <tr>\n",
       "      <th>73</th>\n",
       "      <td>2.85</td>\n",
       "      <td>NaN</td>\n",
       "    </tr>\n",
       "  </tbody>\n",
       "</table>\n",
       "</div>"
      ],
      "text/plain": [
       "    processor_speed  avg_rating\n",
       "64             2.00         6.7\n",
       "63             2.35         6.9\n",
       "74              NaN         6.9\n",
       "71              NaN         7.1\n",
       "75              NaN         7.5\n",
       "65             2.80         7.8\n",
       "67             2.40         7.8\n",
       "76              NaN         8.0\n",
       "66             2.40         8.2\n",
       "68             2.80         8.4\n",
       "72             2.85         8.6\n",
       "69             2.80         8.9\n",
       "70             2.80         NaN\n",
       "73             2.85         NaN"
      ]
     },
     "execution_count": 300,
     "metadata": {},
     "output_type": "execute_result"
    }
   ],
   "source": [
    "phones[phones['brand_name']=='google'][['processor_speed','avg_rating']].sort_values(by='avg_rating',ascending=True)"
   ]
  },
  {
   "cell_type": "code",
   "execution_count": 330,
   "id": "197621b9",
   "metadata": {},
   "outputs": [
    {
     "data": {
      "text/html": [
       "<div>\n",
       "<style scoped>\n",
       "    .dataframe tbody tr th:only-of-type {\n",
       "        vertical-align: middle;\n",
       "    }\n",
       "\n",
       "    .dataframe tbody tr th {\n",
       "        vertical-align: top;\n",
       "    }\n",
       "\n",
       "    .dataframe thead th {\n",
       "        text-align: right;\n",
       "    }\n",
       "</style>\n",
       "<table border=\"1\" class=\"dataframe\">\n",
       "  <thead>\n",
       "    <tr style=\"text-align: right;\">\n",
       "      <th></th>\n",
       "      <th>brand_name</th>\n",
       "      <th>model</th>\n",
       "      <th>price</th>\n",
       "      <th>avg_rating</th>\n",
       "      <th>5G_or_not</th>\n",
       "      <th>processor_brand</th>\n",
       "      <th>num_cores</th>\n",
       "      <th>processor_speed</th>\n",
       "      <th>battery_capacity</th>\n",
       "      <th>fast_charging_available</th>\n",
       "      <th>...</th>\n",
       "      <th>internal_memory</th>\n",
       "      <th>screen_size</th>\n",
       "      <th>refresh_rate</th>\n",
       "      <th>num_rear_cameras</th>\n",
       "      <th>os</th>\n",
       "      <th>primary_camera_rear</th>\n",
       "      <th>primary_camera_front</th>\n",
       "      <th>extended_memory_available</th>\n",
       "      <th>resolution_height</th>\n",
       "      <th>resolution_width</th>\n",
       "    </tr>\n",
       "  </thead>\n",
       "  <tbody>\n",
       "    <tr>\n",
       "      <th>63</th>\n",
       "      <td>google</td>\n",
       "      <td>Google Pixel 2 XL</td>\n",
       "      <td>15990</td>\n",
       "      <td>6.9</td>\n",
       "      <td>0</td>\n",
       "      <td>snapdragon</td>\n",
       "      <td>8.0</td>\n",
       "      <td>2.35</td>\n",
       "      <td>3520.0</td>\n",
       "      <td>1</td>\n",
       "      <td>...</td>\n",
       "      <td>128</td>\n",
       "      <td>6.00</td>\n",
       "      <td>60</td>\n",
       "      <td>1</td>\n",
       "      <td>android</td>\n",
       "      <td>12.2</td>\n",
       "      <td>8.0</td>\n",
       "      <td>0</td>\n",
       "      <td>2880</td>\n",
       "      <td>1440</td>\n",
       "    </tr>\n",
       "    <tr>\n",
       "      <th>64</th>\n",
       "      <td>google</td>\n",
       "      <td>Google Pixel 3a XL</td>\n",
       "      <td>15999</td>\n",
       "      <td>6.7</td>\n",
       "      <td>0</td>\n",
       "      <td>snapdragon</td>\n",
       "      <td>8.0</td>\n",
       "      <td>2.00</td>\n",
       "      <td>3700.0</td>\n",
       "      <td>1</td>\n",
       "      <td>...</td>\n",
       "      <td>64</td>\n",
       "      <td>6.00</td>\n",
       "      <td>60</td>\n",
       "      <td>1</td>\n",
       "      <td>android</td>\n",
       "      <td>12.2</td>\n",
       "      <td>8.0</td>\n",
       "      <td>0</td>\n",
       "      <td>2160</td>\n",
       "      <td>1080</td>\n",
       "    </tr>\n",
       "    <tr>\n",
       "      <th>71</th>\n",
       "      <td>google</td>\n",
       "      <td>Google Pixel 6A</td>\n",
       "      <td>29999</td>\n",
       "      <td>7.1</td>\n",
       "      <td>1</td>\n",
       "      <td>google</td>\n",
       "      <td>8.0</td>\n",
       "      <td>2.82</td>\n",
       "      <td>4410.0</td>\n",
       "      <td>1</td>\n",
       "      <td>...</td>\n",
       "      <td>128</td>\n",
       "      <td>6.14</td>\n",
       "      <td>60</td>\n",
       "      <td>2</td>\n",
       "      <td>android</td>\n",
       "      <td>12.2</td>\n",
       "      <td>8.0</td>\n",
       "      <td>0</td>\n",
       "      <td>2400</td>\n",
       "      <td>1080</td>\n",
       "    </tr>\n",
       "    <tr>\n",
       "      <th>74</th>\n",
       "      <td>google</td>\n",
       "      <td>Google Pixel 7A</td>\n",
       "      <td>34990</td>\n",
       "      <td>6.9</td>\n",
       "      <td>1</td>\n",
       "      <td>google</td>\n",
       "      <td>8.0</td>\n",
       "      <td>2.82</td>\n",
       "      <td>4410.0</td>\n",
       "      <td>1</td>\n",
       "      <td>...</td>\n",
       "      <td>128</td>\n",
       "      <td>6.10</td>\n",
       "      <td>90</td>\n",
       "      <td>2</td>\n",
       "      <td>android</td>\n",
       "      <td>12.2</td>\n",
       "      <td>8.0</td>\n",
       "      <td>0</td>\n",
       "      <td>2400</td>\n",
       "      <td>1080</td>\n",
       "    </tr>\n",
       "    <tr>\n",
       "      <th>75</th>\n",
       "      <td>google</td>\n",
       "      <td>Google Pixel 8</td>\n",
       "      <td>53990</td>\n",
       "      <td>7.5</td>\n",
       "      <td>1</td>\n",
       "      <td>google</td>\n",
       "      <td>8.0</td>\n",
       "      <td>2.80</td>\n",
       "      <td>4830.0</td>\n",
       "      <td>1</td>\n",
       "      <td>...</td>\n",
       "      <td>128</td>\n",
       "      <td>6.60</td>\n",
       "      <td>120</td>\n",
       "      <td>2</td>\n",
       "      <td>android</td>\n",
       "      <td>50.0</td>\n",
       "      <td>10.0</td>\n",
       "      <td>0</td>\n",
       "      <td>2400</td>\n",
       "      <td>1080</td>\n",
       "    </tr>\n",
       "  </tbody>\n",
       "</table>\n",
       "<p>5 rows × 22 columns</p>\n",
       "</div>"
      ],
      "text/plain": [
       "   brand_name               model  price  avg_rating  5G_or_not   \n",
       "63     google   Google Pixel 2 XL  15990         6.9          0  \\\n",
       "64     google  Google Pixel 3a XL  15999         6.7          0   \n",
       "71     google     Google Pixel 6A  29999         7.1          1   \n",
       "74     google     Google Pixel 7A  34990         6.9          1   \n",
       "75     google      Google Pixel 8  53990         7.5          1   \n",
       "\n",
       "   processor_brand  num_cores  processor_speed  battery_capacity   \n",
       "63      snapdragon        8.0             2.35            3520.0  \\\n",
       "64      snapdragon        8.0             2.00            3700.0   \n",
       "71          google        8.0             2.82            4410.0   \n",
       "74          google        8.0             2.82            4410.0   \n",
       "75          google        8.0             2.80            4830.0   \n",
       "\n",
       "    fast_charging_available  ...  internal_memory  screen_size  refresh_rate   \n",
       "63                        1  ...              128         6.00            60  \\\n",
       "64                        1  ...               64         6.00            60   \n",
       "71                        1  ...              128         6.14            60   \n",
       "74                        1  ...              128         6.10            90   \n",
       "75                        1  ...              128         6.60           120   \n",
       "\n",
       "    num_rear_cameras       os  primary_camera_rear primary_camera_front   \n",
       "63                 1  android                 12.2                  8.0  \\\n",
       "64                 1  android                 12.2                  8.0   \n",
       "71                 2  android                 12.2                  8.0   \n",
       "74                 2  android                 12.2                  8.0   \n",
       "75                 2  android                 50.0                 10.0   \n",
       "\n",
       "    extended_memory_available  resolution_height  resolution_width  \n",
       "63                          0               2880              1440  \n",
       "64                          0               2160              1080  \n",
       "71                          0               2400              1080  \n",
       "74                          0               2400              1080  \n",
       "75                          0               2400              1080  \n",
       "\n",
       "[5 rows x 22 columns]"
      ]
     },
     "execution_count": 330,
     "metadata": {},
     "output_type": "execute_result"
    }
   ],
   "source": [
    "google_df[google_df['avg_rating'].between(6,7.5)]"
   ]
  },
  {
   "cell_type": "code",
   "execution_count": 327,
   "id": "2b320422",
   "metadata": {},
   "outputs": [
    {
     "data": {
      "text/plain": [
       "2.8214285714285716"
      ]
     },
     "execution_count": 327,
     "metadata": {},
     "output_type": "execute_result"
    }
   ],
   "source": [
    "google_df[google_df['processor_brand']=='google']['processor_speed'].mean()"
   ]
  },
  {
   "cell_type": "code",
   "execution_count": 328,
   "id": "84a06a7d",
   "metadata": {},
   "outputs": [],
   "source": [
    "phones.loc[[71,74],'processor_speed']=2.82"
   ]
  },
  {
   "cell_type": "code",
   "execution_count": 294,
   "id": "d8393412",
   "metadata": {},
   "outputs": [
    {
     "data": {
      "text/plain": [
       "price                        0.672071\n",
       "avg_rating                   0.823073\n",
       "5G_or_not                    0.517197\n",
       "num_cores                         NaN\n",
       "processor_speed              1.000000\n",
       "battery_capacity             0.390090\n",
       "fast_charging_available           NaN\n",
       "fast_charging                0.916302\n",
       "ram_capacity                 0.720864\n",
       "internal_memory              0.368093\n",
       "screen_size                  0.498828\n",
       "refresh_rate                 0.645737\n",
       "num_rear_cameras             0.761179\n",
       "primary_camera_rear          0.796876\n",
       "primary_camera_front         0.640207\n",
       "extended_memory_available         NaN\n",
       "resolution_height            0.451777\n",
       "resolution_width             0.276453\n",
       "Name: processor_speed, dtype: float64"
      ]
     },
     "execution_count": 294,
     "metadata": {},
     "output_type": "execute_result"
    }
   ],
   "source": [
    "google_df.corr(numeric_only=True)['processor_speed']"
   ]
  },
  {
   "cell_type": "code",
   "execution_count": 208,
   "id": "2e92153e",
   "metadata": {},
   "outputs": [
    {
     "data": {
      "text/html": [
       "<div>\n",
       "<style scoped>\n",
       "    .dataframe tbody tr th:only-of-type {\n",
       "        vertical-align: middle;\n",
       "    }\n",
       "\n",
       "    .dataframe tbody tr th {\n",
       "        vertical-align: top;\n",
       "    }\n",
       "\n",
       "    .dataframe thead th {\n",
       "        text-align: right;\n",
       "    }\n",
       "</style>\n",
       "<table border=\"1\" class=\"dataframe\">\n",
       "  <thead>\n",
       "    <tr style=\"text-align: right;\">\n",
       "      <th></th>\n",
       "      <th>processor_speed</th>\n",
       "    </tr>\n",
       "  </thead>\n",
       "  <tbody>\n",
       "    <tr>\n",
       "      <th>price</th>\n",
       "      <td>0.790710</td>\n",
       "    </tr>\n",
       "    <tr>\n",
       "      <th>avg_rating</th>\n",
       "      <td>0.684211</td>\n",
       "    </tr>\n",
       "    <tr>\n",
       "      <th>5G_or_not</th>\n",
       "      <td>0.561375</td>\n",
       "    </tr>\n",
       "    <tr>\n",
       "      <th>num_cores</th>\n",
       "      <td>0.279037</td>\n",
       "    </tr>\n",
       "    <tr>\n",
       "      <th>processor_speed</th>\n",
       "      <td>1.000000</td>\n",
       "    </tr>\n",
       "    <tr>\n",
       "      <th>battery_capacity</th>\n",
       "      <td>-0.332890</td>\n",
       "    </tr>\n",
       "    <tr>\n",
       "      <th>fast_charging_available</th>\n",
       "      <td>0.280297</td>\n",
       "    </tr>\n",
       "    <tr>\n",
       "      <th>fast_charging</th>\n",
       "      <td>0.633312</td>\n",
       "    </tr>\n",
       "    <tr>\n",
       "      <th>ram_capacity</th>\n",
       "      <td>0.710303</td>\n",
       "    </tr>\n",
       "    <tr>\n",
       "      <th>internal_memory</th>\n",
       "      <td>0.510392</td>\n",
       "    </tr>\n",
       "    <tr>\n",
       "      <th>screen_size</th>\n",
       "      <td>0.383240</td>\n",
       "    </tr>\n",
       "    <tr>\n",
       "      <th>refresh_rate</th>\n",
       "      <td>0.515324</td>\n",
       "    </tr>\n",
       "    <tr>\n",
       "      <th>num_rear_cameras</th>\n",
       "      <td>0.048033</td>\n",
       "    </tr>\n",
       "    <tr>\n",
       "      <th>primary_camera_rear</th>\n",
       "      <td>0.238299</td>\n",
       "    </tr>\n",
       "    <tr>\n",
       "      <th>primary_camera_front</th>\n",
       "      <td>0.229981</td>\n",
       "    </tr>\n",
       "    <tr>\n",
       "      <th>extended_memory_available</th>\n",
       "      <td>-0.690748</td>\n",
       "    </tr>\n",
       "    <tr>\n",
       "      <th>resolution_height</th>\n",
       "      <td>0.604472</td>\n",
       "    </tr>\n",
       "    <tr>\n",
       "      <th>resolution_width</th>\n",
       "      <td>0.425517</td>\n",
       "    </tr>\n",
       "  </tbody>\n",
       "</table>\n",
       "</div>"
      ],
      "text/plain": [
       "                           processor_speed\n",
       "price                             0.790710\n",
       "avg_rating                        0.684211\n",
       "5G_or_not                         0.561375\n",
       "num_cores                         0.279037\n",
       "processor_speed                   1.000000\n",
       "battery_capacity                 -0.332890\n",
       "fast_charging_available           0.280297\n",
       "fast_charging                     0.633312\n",
       "ram_capacity                      0.710303\n",
       "internal_memory                   0.510392\n",
       "screen_size                       0.383240\n",
       "refresh_rate                      0.515324\n",
       "num_rear_cameras                  0.048033\n",
       "primary_camera_rear               0.238299\n",
       "primary_camera_front              0.229981\n",
       "extended_memory_available        -0.690748\n",
       "resolution_height                 0.604472\n",
       "resolution_width                  0.425517"
      ]
     },
     "execution_count": 208,
     "metadata": {},
     "output_type": "execute_result"
    }
   ],
   "source": [
    "sam_df.corr(numeric_only=True)[['processor_speed']]"
   ]
  },
  {
   "cell_type": "code",
   "execution_count": 209,
   "id": "c9d27462",
   "metadata": {},
   "outputs": [
    {
     "data": {
      "text/plain": [
       "<Axes: xlabel='processor_speed', ylabel='price'>"
      ]
     },
     "execution_count": 209,
     "metadata": {},
     "output_type": "execute_result"
    },
    {
     "data": {
      "image/png": "[encoded data removed]",
      "text/plain": [
       "<Figure size 640x480 with 1 Axes>"
      ]
     },
     "metadata": {},
     "output_type": "display_data"
    }
   ],
   "source": [
    "sns.scatterplot(data=sam_df,x='processor_speed',y='price')"
   ]
  },
  {
   "cell_type": "code",
   "execution_count": 222,
   "id": "66b6aad6",
   "metadata": {},
   "outputs": [
    {
     "data": {
      "text/plain": [
       "Index([], dtype='int64')"
      ]
     },
     "execution_count": 222,
     "metadata": {},
     "output_type": "execute_result"
    }
   ],
   "source": [
    "# sam_df[(sam_df['processor_speed'].isnull()) & (sam_df['price']>100000)].index"
   ]
  },
  {
   "cell_type": "code",
   "execution_count": 219,
   "id": "606e9c38",
   "metadata": {},
   "outputs": [],
   "source": [
    "phones.loc[680,'processor_speed']=3.2"
   ]
  },
  {
   "cell_type": "code",
   "execution_count": 257,
   "id": "fd03f149",
   "metadata": {},
   "outputs": [
    {
     "data": {
      "text/html": [
       "<div>\n",
       "<style scoped>\n",
       "    .dataframe tbody tr th:only-of-type {\n",
       "        vertical-align: middle;\n",
       "    }\n",
       "\n",
       "    .dataframe tbody tr th {\n",
       "        vertical-align: top;\n",
       "    }\n",
       "\n",
       "    .dataframe thead th {\n",
       "        text-align: right;\n",
       "    }\n",
       "</style>\n",
       "<table border=\"1\" class=\"dataframe\">\n",
       "  <thead>\n",
       "    <tr style=\"text-align: right;\">\n",
       "      <th></th>\n",
       "      <th>brand_name</th>\n",
       "      <th>model</th>\n",
       "      <th>price</th>\n",
       "      <th>avg_rating</th>\n",
       "      <th>5G_or_not</th>\n",
       "      <th>processor_brand</th>\n",
       "      <th>num_cores</th>\n",
       "      <th>processor_speed</th>\n",
       "      <th>battery_capacity</th>\n",
       "      <th>fast_charging_available</th>\n",
       "      <th>...</th>\n",
       "      <th>internal_memory</th>\n",
       "      <th>screen_size</th>\n",
       "      <th>refresh_rate</th>\n",
       "      <th>num_rear_cameras</th>\n",
       "      <th>os</th>\n",
       "      <th>primary_camera_rear</th>\n",
       "      <th>primary_camera_front</th>\n",
       "      <th>extended_memory_available</th>\n",
       "      <th>resolution_height</th>\n",
       "      <th>resolution_width</th>\n",
       "    </tr>\n",
       "  </thead>\n",
       "  <tbody>\n",
       "    <tr>\n",
       "      <th>600</th>\n",
       "      <td>samsung</td>\n",
       "      <td>Samsung Galaxy A54 5G</td>\n",
       "      <td>34999</td>\n",
       "      <td>7.6</td>\n",
       "      <td>1</td>\n",
       "      <td>exynos</td>\n",
       "      <td>8.0</td>\n",
       "      <td>NaN</td>\n",
       "      <td>5000.0</td>\n",
       "      <td>1</td>\n",
       "      <td>...</td>\n",
       "      <td>128</td>\n",
       "      <td>6.4</td>\n",
       "      <td>120</td>\n",
       "      <td>3</td>\n",
       "      <td>android</td>\n",
       "      <td>50.0</td>\n",
       "      <td>32.0</td>\n",
       "      <td>1</td>\n",
       "      <td>2400</td>\n",
       "      <td>1080</td>\n",
       "    </tr>\n",
       "    <tr>\n",
       "      <th>606</th>\n",
       "      <td>samsung</td>\n",
       "      <td>Samsung Galaxy A75 5G</td>\n",
       "      <td>44999</td>\n",
       "      <td>8.3</td>\n",
       "      <td>1</td>\n",
       "      <td>snapdragon</td>\n",
       "      <td>8.0</td>\n",
       "      <td>NaN</td>\n",
       "      <td>5000.0</td>\n",
       "      <td>1</td>\n",
       "      <td>...</td>\n",
       "      <td>128</td>\n",
       "      <td>6.7</td>\n",
       "      <td>120</td>\n",
       "      <td>4</td>\n",
       "      <td>android</td>\n",
       "      <td>108.0</td>\n",
       "      <td>32.0</td>\n",
       "      <td>1</td>\n",
       "      <td>2412</td>\n",
       "      <td>1080</td>\n",
       "    </tr>\n",
       "    <tr>\n",
       "      <th>670</th>\n",
       "      <td>samsung</td>\n",
       "      <td>Samsung Galaxy S22 FE 5G</td>\n",
       "      <td>51999</td>\n",
       "      <td>7.9</td>\n",
       "      <td>1</td>\n",
       "      <td>exynos</td>\n",
       "      <td>8.0</td>\n",
       "      <td>NaN</td>\n",
       "      <td>4200.0</td>\n",
       "      <td>1</td>\n",
       "      <td>...</td>\n",
       "      <td>128</td>\n",
       "      <td>6.4</td>\n",
       "      <td>120</td>\n",
       "      <td>3</td>\n",
       "      <td>android</td>\n",
       "      <td>12.0</td>\n",
       "      <td>32.0</td>\n",
       "      <td>0</td>\n",
       "      <td>2400</td>\n",
       "      <td>1080</td>\n",
       "    </tr>\n",
       "    <tr>\n",
       "      <th>677</th>\n",
       "      <td>samsung</td>\n",
       "      <td>Samsung Galaxy S23 FE 5G</td>\n",
       "      <td>54999</td>\n",
       "      <td>7.7</td>\n",
       "      <td>1</td>\n",
       "      <td>exynos</td>\n",
       "      <td>8.0</td>\n",
       "      <td>NaN</td>\n",
       "      <td>4500.0</td>\n",
       "      <td>1</td>\n",
       "      <td>...</td>\n",
       "      <td>128</td>\n",
       "      <td>6.5</td>\n",
       "      <td>60</td>\n",
       "      <td>4</td>\n",
       "      <td>android</td>\n",
       "      <td>64.0</td>\n",
       "      <td>32.0</td>\n",
       "      <td>0</td>\n",
       "      <td>2400</td>\n",
       "      <td>1080</td>\n",
       "    </tr>\n",
       "  </tbody>\n",
       "</table>\n",
       "<p>4 rows × 22 columns</p>\n",
       "</div>"
      ],
      "text/plain": [
       "    brand_name                     model  price  avg_rating  5G_or_not   \n",
       "600    samsung     Samsung Galaxy A54 5G  34999         7.6          1  \\\n",
       "606    samsung     Samsung Galaxy A75 5G  44999         8.3          1   \n",
       "670    samsung  Samsung Galaxy S22 FE 5G  51999         7.9          1   \n",
       "677    samsung  Samsung Galaxy S23 FE 5G  54999         7.7          1   \n",
       "\n",
       "    processor_brand  num_cores  processor_speed  battery_capacity   \n",
       "600          exynos        8.0              NaN            5000.0  \\\n",
       "606      snapdragon        8.0              NaN            5000.0   \n",
       "670          exynos        8.0              NaN            4200.0   \n",
       "677          exynos        8.0              NaN            4500.0   \n",
       "\n",
       "     fast_charging_available  ...  internal_memory  screen_size  refresh_rate   \n",
       "600                        1  ...              128          6.4           120  \\\n",
       "606                        1  ...              128          6.7           120   \n",
       "670                        1  ...              128          6.4           120   \n",
       "677                        1  ...              128          6.5            60   \n",
       "\n",
       "     num_rear_cameras       os  primary_camera_rear primary_camera_front   \n",
       "600                 3  android                 50.0                 32.0  \\\n",
       "606                 4  android                108.0                 32.0   \n",
       "670                 3  android                 12.0                 32.0   \n",
       "677                 4  android                 64.0                 32.0   \n",
       "\n",
       "     extended_memory_available  resolution_height  resolution_width  \n",
       "600                          1               2400              1080  \n",
       "606                          1               2412              1080  \n",
       "670                          0               2400              1080  \n",
       "677                          0               2400              1080  \n",
       "\n",
       "[4 rows x 22 columns]"
      ]
     },
     "execution_count": 257,
     "metadata": {},
     "output_type": "execute_result"
    }
   ],
   "source": [
    "sam_df[(sam_df['processor_speed'].isnull())]"
   ]
  },
  {
   "cell_type": "code",
   "execution_count": 275,
   "id": "bffffedc",
   "metadata": {},
   "outputs": [],
   "source": [
    "index=phones[(phones['brand_name']=='samsung') & (phones['price'].between(25000,70000))].index\n",
    "val=phones[(phones['brand_name']=='samsung') & (phones['price'].between(25000,70000))]['processor_speed'].fillna(method='ffill').values"
   ]
  },
  {
   "cell_type": "code",
   "execution_count": 276,
   "id": "28efea29",
   "metadata": {},
   "outputs": [
    {
     "data": {
      "text/plain": [
       "Index([590, 591, 597, 598, 599, 600, 603, 604, 605, 606, 607, 608, 609, 610,\n",
       "       645, 646, 648, 649, 654, 655, 657, 658, 662, 663, 664, 665, 668, 669,\n",
       "       670, 671, 677, 681, 682],\n",
       "      dtype='int64')"
      ]
     },
     "execution_count": 276,
     "metadata": {},
     "output_type": "execute_result"
    }
   ],
   "source": [
    "index"
   ]
  },
  {
   "cell_type": "code",
   "execution_count": 277,
   "id": "7c90a008",
   "metadata": {},
   "outputs": [
    {
     "data": {
      "text/plain": [
       "array([2.4 , 2.4 , 2.4 , 2.4 , 2.4 , 2.4 , 2.4 , 2.4 , 2.36, 2.36, 2.96,\n",
       "       3.2 , 2.2 , 3.  , 2.4 , 2.84, 2.7 , 2.73, 2.7 , 2.73, 2.73, 2.84,\n",
       "       2.9 , 2.9 , 2.9 , 2.9 , 3.  , 3.  , 3.  , 3.  , 3.  , 2.8 , 2.84])"
      ]
     },
     "execution_count": 277,
     "metadata": {},
     "output_type": "execute_result"
    }
   ],
   "source": [
    "val"
   ]
  },
  {
   "cell_type": "code",
   "execution_count": 279,
   "id": "f2983fdb",
   "metadata": {},
   "outputs": [],
   "source": [
    "phones.loc[index,'processor_speed']=val"
   ]
  },
  {
   "cell_type": "code",
   "execution_count": 264,
   "id": "fe781205",
   "metadata": {},
   "outputs": [],
   "source": [
    "temp_df=phones[(phones['brand_name']=='samsung') & (phones['price'].between(20000,70000))]\n",
    "index=temp_df.index"
   ]
  },
  {
   "cell_type": "code",
   "execution_count": 253,
   "id": "2e2a9126",
   "metadata": {},
   "outputs": [],
   "source": [
    "val=temp_df['processor_speed'].fillna(temp_df['processor_speed'].mean()).values"
   ]
  },
  {
   "cell_type": "code",
   "execution_count": 229,
   "id": "a68a36c8",
   "metadata": {},
   "outputs": [
    {
     "data": {
      "text/plain": [
       "Index([557, 560, 561, 564, 565, 566, 567, 569, 570, 571, 572, 573, 574, 575,\n",
       "       576, 578, 579, 580, 581, 582, 583, 586, 587, 588, 593, 594, 612, 613,\n",
       "       614, 615, 616, 617, 618, 619, 620, 621, 622, 627, 628, 629, 630, 631,\n",
       "       632, 633, 634, 635, 636, 637, 638, 639, 640],\n",
       "      dtype='int64')"
      ]
     },
     "execution_count": 229,
     "metadata": {},
     "output_type": "execute_result"
    }
   ],
   "source": [
    "index"
   ]
  },
  {
   "cell_type": "code",
   "execution_count": 254,
   "id": "f74f6e07",
   "metadata": {},
   "outputs": [],
   "source": [
    "phones.loc[index,'processor_speed']=val"
   ]
  },
  {
   "cell_type": "code",
   "execution_count": 238,
   "id": "b2954f4e",
   "metadata": {},
   "outputs": [],
   "source": [
    "val=phones[(phones['brand_name']=='samsung') & (phones['price'].between(20000,50000))]['processor_speed'].fillna(method='ffill').values"
   ]
  },
  {
   "cell_type": "code",
   "execution_count": 231,
   "id": "5a15bfc4",
   "metadata": {},
   "outputs": [
    {
     "data": {
      "text/plain": [
       "array([1.6, 2.3, 2.3, 2.3, 2. , 2. , 2. , 2.3, 2.3, 2. , 2. , 2. , 2.2,\n",
       "       2.4, 2.4, 2.4, 2. , 2. , 2.2, 2.4, 2.4, 1.8, 2. , 2. , 2.2, 2.3,\n",
       "       2. , 2. , 2. , 2. , 2. , 2. , 2.2, 2.2, 2.2, 2.3, 2.2, 2. , 2. ,\n",
       "       2. , 2.2, 2.2, 2.2, 2.3, 2. , 2. , 2. , 2. , 2.4, 2.4, 2.4])"
      ]
     },
     "execution_count": 231,
     "metadata": {},
     "output_type": "execute_result"
    }
   ],
   "source": [
    "val"
   ]
  },
  {
   "cell_type": "code",
   "execution_count": 232,
   "id": "a7f25969",
   "metadata": {},
   "outputs": [],
   "source": [
    "phones.loc[index,'processor_speed']=val"
   ]
  },
  {
   "cell_type": "code",
   "execution_count": 725,
   "id": "a19281bb",
   "metadata": {
    "scrolled": true
   },
   "outputs": [
    {
     "data": {
      "text/html": [
       "<div>\n",
       "<style scoped>\n",
       "    .dataframe tbody tr th:only-of-type {\n",
       "        vertical-align: middle;\n",
       "    }\n",
       "\n",
       "    .dataframe tbody tr th {\n",
       "        vertical-align: top;\n",
       "    }\n",
       "\n",
       "    .dataframe thead th {\n",
       "        text-align: right;\n",
       "    }\n",
       "</style>\n",
       "<table border=\"1\" class=\"dataframe\">\n",
       "  <thead>\n",
       "    <tr style=\"text-align: right;\">\n",
       "      <th></th>\n",
       "      <th>brand_name</th>\n",
       "      <th>model</th>\n",
       "      <th>price</th>\n",
       "      <th>avg_rating</th>\n",
       "      <th>5G_or_not</th>\n",
       "      <th>processor_brand</th>\n",
       "      <th>num_cores</th>\n",
       "      <th>processor_speed</th>\n",
       "      <th>battery_capacity</th>\n",
       "      <th>fast_charging_available</th>\n",
       "      <th>...</th>\n",
       "      <th>internal_memory</th>\n",
       "      <th>screen_size</th>\n",
       "      <th>refresh_rate</th>\n",
       "      <th>num_rear_cameras</th>\n",
       "      <th>os</th>\n",
       "      <th>primary_camera_rear</th>\n",
       "      <th>primary_camera_front</th>\n",
       "      <th>extended_memory_available</th>\n",
       "      <th>resolution_height</th>\n",
       "      <th>resolution_width</th>\n",
       "    </tr>\n",
       "  </thead>\n",
       "  <tbody>\n",
       "  </tbody>\n",
       "</table>\n",
       "<p>0 rows × 22 columns</p>\n",
       "</div>"
      ],
      "text/plain": [
       "Empty DataFrame\n",
       "Columns: [brand_name, model, price, avg_rating, 5G_or_not, processor_brand, num_cores, processor_speed, battery_capacity, fast_charging_available, fast_charging, ram_capacity, internal_memory, screen_size, refresh_rate, num_rear_cameras, os, primary_camera_rear, primary_camera_front, extended_memory_available, resolution_height, resolution_width]\n",
       "Index: []\n",
       "\n",
       "[0 rows x 22 columns]"
      ]
     },
     "execution_count": 725,
     "metadata": {},
     "output_type": "execute_result"
    }
   ],
   "source": [
    "phones[(phones['avg_rating'].isnull())]"
   ]
  },
  {
   "cell_type": "code",
   "execution_count": 723,
   "id": "d6692724",
   "metadata": {},
   "outputs": [],
   "source": [
    "phones.loc[index,'avg_rating']=6.2"
   ]
  },
  {
   "cell_type": "code",
   "execution_count": 659,
   "id": "356a0c53",
   "metadata": {},
   "outputs": [],
   "source": [
    "phones=phones.drop(index=[255,262,267]).reset_index().drop(columns=['index'])"
   ]
  },
  {
   "cell_type": "code",
   "execution_count": 718,
   "id": "3e4b6718",
   "metadata": {},
   "outputs": [],
   "source": [
    "mot_df=phones[phones['brand_name']=='duoqin']"
   ]
  },
  {
   "cell_type": "code",
   "execution_count": 719,
   "id": "0ce16bd8",
   "metadata": {},
   "outputs": [
    {
     "data": {
      "text/plain": [
       "59    4.0\n",
       "Name: ram_capacity, dtype: float64"
      ]
     },
     "execution_count": 719,
     "metadata": {},
     "output_type": "execute_result"
    }
   ],
   "source": [
    "mot_df[mot_df['avg_rating'].isnull()]['ram_capacity']"
   ]
  },
  {
   "cell_type": "code",
   "execution_count": 720,
   "id": "6edddd3b",
   "metadata": {},
   "outputs": [
    {
     "data": {
      "text/plain": [
       "nan"
      ]
     },
     "execution_count": 720,
     "metadata": {},
     "output_type": "execute_result"
    }
   ],
   "source": [
    "mot_df[mot_df['ram_capacity']==4]['avg_rating'].mean()"
   ]
  },
  {
   "cell_type": "code",
   "execution_count": 714,
   "id": "8bf72189",
   "metadata": {},
   "outputs": [],
   "source": [
    "phones.loc[[50],'avg_rating']=8.8"
   ]
  },
  {
   "cell_type": "code",
   "execution_count": 628,
   "id": "bc492e2a",
   "metadata": {},
   "outputs": [
    {
     "data": {
      "text/plain": [
       "price                        0.648364\n",
       "avg_rating                   1.000000\n",
       "5G_or_not                    0.715571\n",
       "num_cores                         NaN\n",
       "processor_speed              0.682303\n",
       "battery_capacity            -0.075675\n",
       "fast_charging_available      0.173993\n",
       "fast_charging                0.542597\n",
       "ram_capacity                 0.703620\n",
       "internal_memory              0.542029\n",
       "screen_size                  0.561837\n",
       "refresh_rate                 0.676382\n",
       "num_rear_cameras             0.153078\n",
       "primary_camera_rear          0.440455\n",
       "primary_camera_front         0.354501\n",
       "extended_memory_available   -0.558950\n",
       "resolution_height            0.666254\n",
       "resolution_width             0.661319\n",
       "Name: avg_rating, dtype: float64"
      ]
     },
     "execution_count": 628,
     "metadata": {},
     "output_type": "execute_result"
    }
   ],
   "source": [
    "one_df=phones[phones['brand_name']=='oneplus']\n",
    "one_df.corr(numeric_only=True)['avg_rating']"
   ]
  },
  {
   "cell_type": "code",
   "execution_count": 629,
   "id": "9c2c533a",
   "metadata": {},
   "outputs": [
    {
     "data": {
      "text/plain": [
       "Series([], Name: ram_capacity, dtype: float64)"
      ]
     },
     "execution_count": 629,
     "metadata": {},
     "output_type": "execute_result"
    }
   ],
   "source": [
    "one_df[one_df['avg_rating'].isnull()]['ram_capacity']"
   ]
  },
  {
   "cell_type": "code",
   "execution_count": 626,
   "id": "3bafea38",
   "metadata": {},
   "outputs": [
    {
     "data": {
      "text/plain": [
       "8.350000000000001"
      ]
     },
     "execution_count": 626,
     "metadata": {},
     "output_type": "execute_result"
    }
   ],
   "source": [
    "one_df[one_df['ram_capacity']==8]['avg_rating'].mean()"
   ]
  },
  {
   "cell_type": "code",
   "execution_count": 627,
   "id": "859d67c8",
   "metadata": {},
   "outputs": [],
   "source": [
    "phones.loc[289,'avg_rating']=8.3"
   ]
  },
  {
   "cell_type": "code",
   "execution_count": 612,
   "id": "7497f2ae",
   "metadata": {},
   "outputs": [],
   "source": [
    "apple_df=phones[phones['brand_name']=='apple']\n",
    "apple_df[apple_df['avg_rating'].isnull()]\n",
    "phones.loc[[40,43],'avg_rating']=6.5"
   ]
  },
  {
   "cell_type": "code",
   "execution_count": 605,
   "id": "379c9eb8",
   "metadata": {},
   "outputs": [
    {
     "data": {
      "text/plain": [
       "price                        0.526294\n",
       "avg_rating                   1.000000\n",
       "5G_or_not                    0.604400\n",
       "num_cores                    0.054421\n",
       "processor_speed              0.422997\n",
       "battery_capacity             0.458048\n",
       "fast_charging_available      0.244065\n",
       "fast_charging                0.596040\n",
       "ram_capacity                 0.481665\n",
       "internal_memory              0.429652\n",
       "screen_size                  0.561140\n",
       "refresh_rate                 0.328501\n",
       "num_rear_cameras             0.596175\n",
       "primary_camera_rear         -0.025046\n",
       "primary_camera_front         0.702100\n",
       "extended_memory_available         NaN\n",
       "resolution_height            0.794101\n",
       "resolution_width             0.785580\n",
       "Name: avg_rating, dtype: float64"
      ]
     },
     "execution_count": 605,
     "metadata": {},
     "output_type": "execute_result"
    }
   ],
   "source": [
    "apple_df.corr(numeric_only=True)['avg_rating']"
   ]
  },
  {
   "cell_type": "code",
   "execution_count": 431,
   "id": "4fb1618e",
   "metadata": {},
   "outputs": [
    {
     "data": {
      "text/plain": [
       "price                        0.369623\n",
       "avg_rating                   1.000000\n",
       "5G_or_not                    0.615029\n",
       "num_cores                    0.399869\n",
       "processor_speed              0.680955\n",
       "battery_capacity            -0.230946\n",
       "fast_charging_available      0.534184\n",
       "fast_charging                0.640804\n",
       "ram_capacity                 0.828852\n",
       "internal_memory              0.684476\n",
       "screen_size                  0.339083\n",
       "refresh_rate                 0.699712\n",
       "num_rear_cameras             0.543977\n",
       "primary_camera_rear          0.634479\n",
       "primary_camera_front         0.753235\n",
       "extended_memory_available   -0.535920\n",
       "resolution_height            0.585720\n",
       "resolution_width             0.525114\n",
       "Name: avg_rating, dtype: float64"
      ]
     },
     "execution_count": 431,
     "metadata": {},
     "output_type": "execute_result"
    }
   ],
   "source": [
    "x_df=phones[phones['brand_name']=='xiaomi']\n",
    "x_df.corr(numeric_only=True)['avg_rating']"
   ]
  },
  {
   "cell_type": "code",
   "execution_count": 426,
   "id": "cb325f30",
   "metadata": {},
   "outputs": [
    {
     "data": {
      "text/plain": [
       "<Axes: xlabel='avg_rating', ylabel='ram_capacity'>"
      ]
     },
     "execution_count": 426,
     "metadata": {},
     "output_type": "execute_result"
    },
    {
     "data": {
      "image/png": "[encoded data removed]",
      "text/plain": [
       "<Figure size 640x480 with 1 Axes>"
      ]
     },
     "metadata": {},
     "output_type": "display_data"
    }
   ],
   "source": [
    "sns.scatterplot(data=x_df,x='avg_rating',y='ram_capacity')"
   ]
  },
  {
   "cell_type": "code",
   "execution_count": 425,
   "id": "479afd52",
   "metadata": {},
   "outputs": [
    {
     "data": {
      "text/plain": [
       "Series([], Name: ram_capacity, dtype: int64)"
      ]
     },
     "execution_count": 425,
     "metadata": {},
     "output_type": "execute_result"
    }
   ],
   "source": [
    "x_df[x_df['avg_rating'].isnull()]['ram_capacity']"
   ]
  },
  {
   "cell_type": "code",
   "execution_count": 427,
   "id": "17dfa766",
   "metadata": {},
   "outputs": [
    {
     "data": {
      "text/plain": [
       "6.074999999999999"
      ]
     },
     "execution_count": 427,
     "metadata": {},
     "output_type": "execute_result"
    }
   ],
   "source": [
    "x_df[x_df['ram_capacity']==2]['avg_rating'].mean()"
   ]
  },
  {
   "cell_type": "code",
   "execution_count": 428,
   "id": "91e594aa",
   "metadata": {},
   "outputs": [],
   "source": [
    "phones.loc[906,'avg_rating']=6.1"
   ]
  },
  {
   "cell_type": "code",
   "execution_count": 491,
   "id": "35a4536e",
   "metadata": {},
   "outputs": [
    {
     "data": {
      "text/plain": [
       "price                        0.558859\n",
       "avg_rating                   1.000000\n",
       "5G_or_not                    0.615535\n",
       "num_cores                    0.271190\n",
       "processor_speed              0.584158\n",
       "battery_capacity            -0.057454\n",
       "fast_charging_available      0.613186\n",
       "fast_charging                0.617879\n",
       "ram_capacity                 0.859049\n",
       "internal_memory              0.679746\n",
       "screen_size                  0.406210\n",
       "refresh_rate                 0.633752\n",
       "num_rear_cameras             0.708284\n",
       "primary_camera_rear          0.821323\n",
       "primary_camera_front         0.705839\n",
       "extended_memory_available   -0.416795\n",
       "resolution_height            0.750943\n",
       "resolution_width             0.571323\n",
       "Name: avg_rating, dtype: float64"
      ]
     },
     "execution_count": 491,
     "metadata": {},
     "output_type": "execute_result"
    }
   ],
   "source": [
    "vivo_df=phones[phones['brand_name']=='vivo']\n",
    "vivo_df.corr(numeric_only=True)['avg_rating']"
   ]
  },
  {
   "cell_type": "code",
   "execution_count": 492,
   "id": "9fbb10c6",
   "metadata": {},
   "outputs": [
    {
     "data": {
      "text/plain": [
       "Series([], Name: ram_capacity, dtype: float64)"
      ]
     },
     "execution_count": 492,
     "metadata": {},
     "output_type": "execute_result"
    }
   ],
   "source": [
    "vivo_df[vivo_df['avg_rating'].isnull()]['ram_capacity']"
   ]
  },
  {
   "cell_type": "code",
   "execution_count": 493,
   "id": "ab0aa46d",
   "metadata": {},
   "outputs": [
    {
     "data": {
      "text/plain": [
       "<Axes: xlabel='avg_rating', ylabel='ram_capacity'>"
      ]
     },
     "execution_count": 493,
     "metadata": {},
     "output_type": "execute_result"
    },
    {
     "data": {
      "image/png": "[encoded data removed]",
      "text/plain": [
       "<Figure size 640x480 with 1 Axes>"
      ]
     },
     "metadata": {},
     "output_type": "display_data"
    }
   ],
   "source": [
    "sns.scatterplot(data=vivo_df,x='avg_rating',y='ram_capacity')"
   ]
  },
  {
   "cell_type": "code",
   "execution_count": 481,
   "id": "c6c4dc38",
   "metadata": {},
   "outputs": [
    {
     "data": {
      "text/plain": [
       "nan"
      ]
     },
     "execution_count": 481,
     "metadata": {},
     "output_type": "execute_result"
    }
   ],
   "source": [
    "val=vivo_df[vivo_df['ram_capacity']==1]['avg_rating'].mean()\n",
    "val"
   ]
  },
  {
   "cell_type": "code",
   "execution_count": null,
   "id": "66b3ff08",
   "metadata": {},
   "outputs": [],
   "source": []
  },
  {
   "cell_type": "code",
   "execution_count": 494,
   "id": "48c37a31",
   "metadata": {},
   "outputs": [
    {
     "data": {
      "text/plain": [
       "Series([], Name: ram_capacity, dtype: float64)"
      ]
     },
     "execution_count": 494,
     "metadata": {},
     "output_type": "execute_result"
    }
   ],
   "source": [
    "vivo_df[vivo_df['avg_rating'].isnull()]['ram_capacity']"
   ]
  },
  {
   "cell_type": "code",
   "execution_count": 480,
   "id": "20340db6",
   "metadata": {},
   "outputs": [
    {
     "data": {
      "text/plain": [
       "Index([821], dtype='int64')"
      ]
     },
     "execution_count": 480,
     "metadata": {},
     "output_type": "execute_result"
    }
   ],
   "source": [
    "index=vivo_df[(vivo_df['avg_rating'].isnull()) & (vivo_df['ram_capacity']==1)].index\n",
    "index"
   ]
  },
  {
   "cell_type": "code",
   "execution_count": 482,
   "id": "be47553b",
   "metadata": {},
   "outputs": [],
   "source": [
    "phones.loc[index,'avg_rating']=6.0"
   ]
  },
  {
   "cell_type": "code",
   "execution_count": 488,
   "id": "b464d4d2",
   "metadata": {},
   "outputs": [
    {
     "data": {
      "text/html": [
       "<div>\n",
       "<style scoped>\n",
       "    .dataframe tbody tr th:only-of-type {\n",
       "        vertical-align: middle;\n",
       "    }\n",
       "\n",
       "    .dataframe tbody tr th {\n",
       "        vertical-align: top;\n",
       "    }\n",
       "\n",
       "    .dataframe thead th {\n",
       "        text-align: right;\n",
       "    }\n",
       "</style>\n",
       "<table border=\"1\" class=\"dataframe\">\n",
       "  <thead>\n",
       "    <tr style=\"text-align: right;\">\n",
       "      <th></th>\n",
       "      <th>avg_rating</th>\n",
       "      <th>ram_capacity</th>\n",
       "    </tr>\n",
       "  </thead>\n",
       "  <tbody>\n",
       "    <tr>\n",
       "      <th>796</th>\n",
       "      <td>8.2</td>\n",
       "      <td>2</td>\n",
       "    </tr>\n",
       "    <tr>\n",
       "      <th>841</th>\n",
       "      <td>8.2</td>\n",
       "      <td>2</td>\n",
       "    </tr>\n",
       "  </tbody>\n",
       "</table>\n",
       "</div>"
      ],
      "text/plain": [
       "     avg_rating  ram_capacity\n",
       "796         8.2             2\n",
       "841         8.2             2"
      ]
     },
     "execution_count": 488,
     "metadata": {},
     "output_type": "execute_result"
    }
   ],
   "source": [
    "vivo_df[(vivo_df['avg_rating']>8) & (vivo_df['ram_capacity']==2)][['avg_rating','ram_capacity']]"
   ]
  },
  {
   "cell_type": "code",
   "execution_count": 490,
   "id": "112c8b36",
   "metadata": {},
   "outputs": [],
   "source": [
    "phones.loc[[796,841],'ram_capacity']=6.1"
   ]
  },
  {
   "cell_type": "code",
   "execution_count": 542,
   "id": "526204a3",
   "metadata": {},
   "outputs": [],
   "source": [
    "sam_df=phones[phones['brand_name']=='samsung']"
   ]
  },
  {
   "cell_type": "code",
   "execution_count": 536,
   "id": "ec0f3fd3",
   "metadata": {},
   "outputs": [
    {
     "data": {
      "text/plain": [
       "price                        0.657097\n",
       "avg_rating                   1.000000\n",
       "5G_or_not                    0.587035\n",
       "num_cores                    0.193518\n",
       "processor_speed              0.685658\n",
       "battery_capacity            -0.240076\n",
       "fast_charging_available      0.396992\n",
       "fast_charging                0.543847\n",
       "ram_capacity                 0.796792\n",
       "internal_memory              0.503806\n",
       "screen_size                  0.322349\n",
       "refresh_rate                 0.619308\n",
       "num_rear_cameras             0.443015\n",
       "primary_camera_rear          0.353253\n",
       "primary_camera_front         0.419683\n",
       "extended_memory_available   -0.454394\n",
       "resolution_height            0.739445\n",
       "resolution_width             0.409202\n",
       "Name: avg_rating, dtype: float64"
      ]
     },
     "execution_count": 536,
     "metadata": {},
     "output_type": "execute_result"
    }
   ],
   "source": [
    "sam_df.corr(numeric_only=True)['avg_rating']"
   ]
  },
  {
   "cell_type": "code",
   "execution_count": 537,
   "id": "c4d62c22",
   "metadata": {},
   "outputs": [
    {
     "data": {
      "text/plain": [
       "<Axes: xlabel='avg_rating', ylabel='ram_capacity'>"
      ]
     },
     "execution_count": 537,
     "metadata": {},
     "output_type": "execute_result"
    },
    {
     "data": {
      "image/png": "[encoded data removed]",
      "text/plain": [
       "<Figure size 640x480 with 1 Axes>"
      ]
     },
     "metadata": {},
     "output_type": "display_data"
    }
   ],
   "source": [
    "sns.scatterplot(data=sam_df,x='avg_rating',y='ram_capacity')"
   ]
  },
  {
   "cell_type": "code",
   "execution_count": 538,
   "id": "d44258a5",
   "metadata": {},
   "outputs": [
    {
     "data": {
      "text/plain": [
       "555    1.0\n",
       "Name: ram_capacity, dtype: float64"
      ]
     },
     "execution_count": 538,
     "metadata": {},
     "output_type": "execute_result"
    }
   ],
   "source": [
    "sam_df[sam_df['avg_rating'].isnull()]['ram_capacity']"
   ]
  },
  {
   "cell_type": "code",
   "execution_count": 539,
   "id": "32b5c62e",
   "metadata": {},
   "outputs": [
    {
     "data": {
      "text/plain": [
       "nan"
      ]
     },
     "execution_count": 539,
     "metadata": {},
     "output_type": "execute_result"
    }
   ],
   "source": [
    "val=np.round(sam_df[sam_df['ram_capacity']==1]['avg_rating'].mean(),1)\n",
    "val"
   ]
  },
  {
   "cell_type": "code",
   "execution_count": 540,
   "id": "03db0664",
   "metadata": {},
   "outputs": [
    {
     "data": {
      "text/plain": [
       "Index([555], dtype='int64')"
      ]
     },
     "execution_count": 540,
     "metadata": {},
     "output_type": "execute_result"
    }
   ],
   "source": [
    "index=sam_df[(sam_df['avg_rating'].isnull()) & (sam_df['ram_capacity']==1)].index\n",
    "index"
   ]
  },
  {
   "cell_type": "code",
   "execution_count": 541,
   "id": "06bc3d4e",
   "metadata": {},
   "outputs": [],
   "source": [
    "phones.loc[index,'avg_rating']=6.1"
   ]
  },
  {
   "cell_type": "code",
   "execution_count": 555,
   "id": "761a6d68",
   "metadata": {},
   "outputs": [],
   "source": [
    "i_df=phones[phones['brand_name']=='itel']"
   ]
  },
  {
   "cell_type": "code",
   "execution_count": 553,
   "id": "ccd6bb9c",
   "metadata": {},
   "outputs": [
    {
     "data": {
      "text/plain": [
       "Index([170, 172, 173, 174, 175, 176, 177, 178, 179], dtype='int64')"
      ]
     },
     "execution_count": 553,
     "metadata": {},
     "output_type": "execute_result"
    }
   ],
   "source": [
    "index=i_df['avg_rating'].index\n",
    "index"
   ]
  },
  {
   "cell_type": "code",
   "execution_count": 554,
   "id": "ad4b7617",
   "metadata": {},
   "outputs": [],
   "source": [
    "phones.loc[index,'avg_rating']=6.0"
   ]
  },
  {
   "cell_type": "code",
   "execution_count": 577,
   "id": "c713e667",
   "metadata": {
    "scrolled": true
   },
   "outputs": [
    {
     "data": {
      "text/html": [
       "<div>\n",
       "<style scoped>\n",
       "    .dataframe tbody tr th:only-of-type {\n",
       "        vertical-align: middle;\n",
       "    }\n",
       "\n",
       "    .dataframe tbody tr th {\n",
       "        vertical-align: top;\n",
       "    }\n",
       "\n",
       "    .dataframe thead th {\n",
       "        text-align: right;\n",
       "    }\n",
       "</style>\n",
       "<table border=\"1\" class=\"dataframe\">\n",
       "  <thead>\n",
       "    <tr style=\"text-align: right;\">\n",
       "      <th></th>\n",
       "      <th>brand_name</th>\n",
       "      <th>model</th>\n",
       "      <th>price</th>\n",
       "      <th>avg_rating</th>\n",
       "      <th>5G_or_not</th>\n",
       "      <th>processor_brand</th>\n",
       "      <th>num_cores</th>\n",
       "      <th>processor_speed</th>\n",
       "      <th>battery_capacity</th>\n",
       "      <th>fast_charging_available</th>\n",
       "      <th>...</th>\n",
       "      <th>internal_memory</th>\n",
       "      <th>screen_size</th>\n",
       "      <th>refresh_rate</th>\n",
       "      <th>num_rear_cameras</th>\n",
       "      <th>os</th>\n",
       "      <th>primary_camera_rear</th>\n",
       "      <th>primary_camera_front</th>\n",
       "      <th>extended_memory_available</th>\n",
       "      <th>resolution_height</th>\n",
       "      <th>resolution_width</th>\n",
       "    </tr>\n",
       "  </thead>\n",
       "  <tbody>\n",
       "    <tr>\n",
       "      <th>321</th>\n",
       "      <td>oppo</td>\n",
       "      <td>OPPO A1 Pro</td>\n",
       "      <td>20990</td>\n",
       "      <td>8.4</td>\n",
       "      <td>1</td>\n",
       "      <td>snapdragon</td>\n",
       "      <td>8.0</td>\n",
       "      <td>2.20</td>\n",
       "      <td>4800.0</td>\n",
       "      <td>1</td>\n",
       "      <td>...</td>\n",
       "      <td>128</td>\n",
       "      <td>6.70</td>\n",
       "      <td>120</td>\n",
       "      <td>2</td>\n",
       "      <td>android</td>\n",
       "      <td>108.0</td>\n",
       "      <td>16.0</td>\n",
       "      <td>1</td>\n",
       "      <td>2412</td>\n",
       "      <td>1080</td>\n",
       "    </tr>\n",
       "    <tr>\n",
       "      <th>322</th>\n",
       "      <td>oppo</td>\n",
       "      <td>Oppo A12</td>\n",
       "      <td>9990</td>\n",
       "      <td>6.4</td>\n",
       "      <td>0</td>\n",
       "      <td>helio</td>\n",
       "      <td>8.0</td>\n",
       "      <td>1.80</td>\n",
       "      <td>4230.0</td>\n",
       "      <td>0</td>\n",
       "      <td>...</td>\n",
       "      <td>32</td>\n",
       "      <td>6.22</td>\n",
       "      <td>60</td>\n",
       "      <td>2</td>\n",
       "      <td>android</td>\n",
       "      <td>13.0</td>\n",
       "      <td>5.0</td>\n",
       "      <td>1</td>\n",
       "      <td>720</td>\n",
       "      <td>1520</td>\n",
       "    </tr>\n",
       "    <tr>\n",
       "      <th>323</th>\n",
       "      <td>oppo</td>\n",
       "      <td>OPPO A15</td>\n",
       "      <td>9999</td>\n",
       "      <td>6.6</td>\n",
       "      <td>0</td>\n",
       "      <td>helio</td>\n",
       "      <td>8.0</td>\n",
       "      <td>2.30</td>\n",
       "      <td>4230.0</td>\n",
       "      <td>0</td>\n",
       "      <td>...</td>\n",
       "      <td>32</td>\n",
       "      <td>6.52</td>\n",
       "      <td>60</td>\n",
       "      <td>3</td>\n",
       "      <td>android</td>\n",
       "      <td>13.0</td>\n",
       "      <td>5.0</td>\n",
       "      <td>1</td>\n",
       "      <td>1600</td>\n",
       "      <td>720</td>\n",
       "    </tr>\n",
       "    <tr>\n",
       "      <th>324</th>\n",
       "      <td>oppo</td>\n",
       "      <td>Oppo A15s (4GB RAM + 128GB)</td>\n",
       "      <td>11490</td>\n",
       "      <td>7.2</td>\n",
       "      <td>0</td>\n",
       "      <td>helio</td>\n",
       "      <td>8.0</td>\n",
       "      <td>2.30</td>\n",
       "      <td>4230.0</td>\n",
       "      <td>0</td>\n",
       "      <td>...</td>\n",
       "      <td>128</td>\n",
       "      <td>6.52</td>\n",
       "      <td>60</td>\n",
       "      <td>3</td>\n",
       "      <td>android</td>\n",
       "      <td>13.0</td>\n",
       "      <td>8.0</td>\n",
       "      <td>1</td>\n",
       "      <td>1600</td>\n",
       "      <td>720</td>\n",
       "    </tr>\n",
       "    <tr>\n",
       "      <th>325</th>\n",
       "      <td>oppo</td>\n",
       "      <td>OPPO A16</td>\n",
       "      <td>11999</td>\n",
       "      <td>6.9</td>\n",
       "      <td>0</td>\n",
       "      <td>helio</td>\n",
       "      <td>8.0</td>\n",
       "      <td>2.30</td>\n",
       "      <td>5000.0</td>\n",
       "      <td>0</td>\n",
       "      <td>...</td>\n",
       "      <td>64</td>\n",
       "      <td>6.52</td>\n",
       "      <td>60</td>\n",
       "      <td>3</td>\n",
       "      <td>android</td>\n",
       "      <td>13.0</td>\n",
       "      <td>8.0</td>\n",
       "      <td>1</td>\n",
       "      <td>1600</td>\n",
       "      <td>720</td>\n",
       "    </tr>\n",
       "    <tr>\n",
       "      <th>...</th>\n",
       "      <td>...</td>\n",
       "      <td>...</td>\n",
       "      <td>...</td>\n",
       "      <td>...</td>\n",
       "      <td>...</td>\n",
       "      <td>...</td>\n",
       "      <td>...</td>\n",
       "      <td>...</td>\n",
       "      <td>...</td>\n",
       "      <td>...</td>\n",
       "      <td>...</td>\n",
       "      <td>...</td>\n",
       "      <td>...</td>\n",
       "      <td>...</td>\n",
       "      <td>...</td>\n",
       "      <td>...</td>\n",
       "      <td>...</td>\n",
       "      <td>...</td>\n",
       "      <td>...</td>\n",
       "      <td>...</td>\n",
       "      <td>...</td>\n",
       "    </tr>\n",
       "    <tr>\n",
       "      <th>404</th>\n",
       "      <td>oppo</td>\n",
       "      <td>OPPO Reno7 5G</td>\n",
       "      <td>25994</td>\n",
       "      <td>8.5</td>\n",
       "      <td>1</td>\n",
       "      <td>dimensity</td>\n",
       "      <td>8.0</td>\n",
       "      <td>2.00</td>\n",
       "      <td>4500.0</td>\n",
       "      <td>1</td>\n",
       "      <td>...</td>\n",
       "      <td>256</td>\n",
       "      <td>6.43</td>\n",
       "      <td>90</td>\n",
       "      <td>3</td>\n",
       "      <td>android</td>\n",
       "      <td>64.0</td>\n",
       "      <td>32.0</td>\n",
       "      <td>1</td>\n",
       "      <td>2400</td>\n",
       "      <td>1080</td>\n",
       "    </tr>\n",
       "    <tr>\n",
       "      <th>405</th>\n",
       "      <td>oppo</td>\n",
       "      <td>OPPO Reno7 Pro 5G</td>\n",
       "      <td>31994</td>\n",
       "      <td>8.7</td>\n",
       "      <td>1</td>\n",
       "      <td>dimensity</td>\n",
       "      <td>8.0</td>\n",
       "      <td>3.00</td>\n",
       "      <td>4500.0</td>\n",
       "      <td>1</td>\n",
       "      <td>...</td>\n",
       "      <td>256</td>\n",
       "      <td>6.55</td>\n",
       "      <td>90</td>\n",
       "      <td>3</td>\n",
       "      <td>android</td>\n",
       "      <td>50.0</td>\n",
       "      <td>32.0</td>\n",
       "      <td>1</td>\n",
       "      <td>2400</td>\n",
       "      <td>1080</td>\n",
       "    </tr>\n",
       "    <tr>\n",
       "      <th>406</th>\n",
       "      <td>oppo</td>\n",
       "      <td>OPPO Reno7 Z 5G</td>\n",
       "      <td>17999</td>\n",
       "      <td>8.4</td>\n",
       "      <td>1</td>\n",
       "      <td>snapdragon</td>\n",
       "      <td>8.0</td>\n",
       "      <td>2.20</td>\n",
       "      <td>4500.0</td>\n",
       "      <td>1</td>\n",
       "      <td>...</td>\n",
       "      <td>128</td>\n",
       "      <td>6.43</td>\n",
       "      <td>60</td>\n",
       "      <td>3</td>\n",
       "      <td>android</td>\n",
       "      <td>64.0</td>\n",
       "      <td>16.0</td>\n",
       "      <td>1</td>\n",
       "      <td>2400</td>\n",
       "      <td>1080</td>\n",
       "    </tr>\n",
       "    <tr>\n",
       "      <th>407</th>\n",
       "      <td>oppo</td>\n",
       "      <td>OPPO Reno8 5G</td>\n",
       "      <td>29340</td>\n",
       "      <td>8.3</td>\n",
       "      <td>1</td>\n",
       "      <td>dimensity</td>\n",
       "      <td>8.0</td>\n",
       "      <td>3.00</td>\n",
       "      <td>4500.0</td>\n",
       "      <td>1</td>\n",
       "      <td>...</td>\n",
       "      <td>128</td>\n",
       "      <td>6.43</td>\n",
       "      <td>90</td>\n",
       "      <td>3</td>\n",
       "      <td>android</td>\n",
       "      <td>50.0</td>\n",
       "      <td>32.0</td>\n",
       "      <td>0</td>\n",
       "      <td>2400</td>\n",
       "      <td>1080</td>\n",
       "    </tr>\n",
       "    <tr>\n",
       "      <th>408</th>\n",
       "      <td>oppo</td>\n",
       "      <td>OPPO X 2021</td>\n",
       "      <td>134999</td>\n",
       "      <td>8.6</td>\n",
       "      <td>0</td>\n",
       "      <td>snapdragon</td>\n",
       "      <td>8.0</td>\n",
       "      <td>2.84</td>\n",
       "      <td>4000.0</td>\n",
       "      <td>1</td>\n",
       "      <td>...</td>\n",
       "      <td>256</td>\n",
       "      <td>7.40</td>\n",
       "      <td>60</td>\n",
       "      <td>3</td>\n",
       "      <td>android</td>\n",
       "      <td>64.0</td>\n",
       "      <td>16.0</td>\n",
       "      <td>0</td>\n",
       "      <td>3200</td>\n",
       "      <td>1440</td>\n",
       "    </tr>\n",
       "  </tbody>\n",
       "</table>\n",
       "<p>87 rows × 22 columns</p>\n",
       "</div>"
      ],
      "text/plain": [
       "    brand_name                        model   price  avg_rating  5G_or_not   \n",
       "321       oppo                  OPPO A1 Pro   20990         8.4          1  \\\n",
       "322       oppo                     Oppo A12    9990         6.4          0   \n",
       "323       oppo                     OPPO A15    9999         6.6          0   \n",
       "324       oppo  Oppo A15s (4GB RAM + 128GB)   11490         7.2          0   \n",
       "325       oppo                     OPPO A16   11999         6.9          0   \n",
       "..         ...                          ...     ...         ...        ...   \n",
       "404       oppo                OPPO Reno7 5G   25994         8.5          1   \n",
       "405       oppo            OPPO Reno7 Pro 5G   31994         8.7          1   \n",
       "406       oppo              OPPO Reno7 Z 5G   17999         8.4          1   \n",
       "407       oppo                OPPO Reno8 5G   29340         8.3          1   \n",
       "408       oppo                  OPPO X 2021  134999         8.6          0   \n",
       "\n",
       "    processor_brand  num_cores  processor_speed  battery_capacity   \n",
       "321      snapdragon        8.0             2.20            4800.0  \\\n",
       "322           helio        8.0             1.80            4230.0   \n",
       "323           helio        8.0             2.30            4230.0   \n",
       "324           helio        8.0             2.30            4230.0   \n",
       "325           helio        8.0             2.30            5000.0   \n",
       "..              ...        ...              ...               ...   \n",
       "404       dimensity        8.0             2.00            4500.0   \n",
       "405       dimensity        8.0             3.00            4500.0   \n",
       "406      snapdragon        8.0             2.20            4500.0   \n",
       "407       dimensity        8.0             3.00            4500.0   \n",
       "408      snapdragon        8.0             2.84            4000.0   \n",
       "\n",
       "     fast_charging_available  ...  internal_memory  screen_size  refresh_rate   \n",
       "321                        1  ...              128         6.70           120  \\\n",
       "322                        0  ...               32         6.22            60   \n",
       "323                        0  ...               32         6.52            60   \n",
       "324                        0  ...              128         6.52            60   \n",
       "325                        0  ...               64         6.52            60   \n",
       "..                       ...  ...              ...          ...           ...   \n",
       "404                        1  ...              256         6.43            90   \n",
       "405                        1  ...              256         6.55            90   \n",
       "406                        1  ...              128         6.43            60   \n",
       "407                        1  ...              128         6.43            90   \n",
       "408                        1  ...              256         7.40            60   \n",
       "\n",
       "     num_rear_cameras       os  primary_camera_rear primary_camera_front   \n",
       "321                 2  android                108.0                 16.0  \\\n",
       "322                 2  android                 13.0                  5.0   \n",
       "323                 3  android                 13.0                  5.0   \n",
       "324                 3  android                 13.0                  8.0   \n",
       "325                 3  android                 13.0                  8.0   \n",
       "..                ...      ...                  ...                  ...   \n",
       "404                 3  android                 64.0                 32.0   \n",
       "405                 3  android                 50.0                 32.0   \n",
       "406                 3  android                 64.0                 16.0   \n",
       "407                 3  android                 50.0                 32.0   \n",
       "408                 3  android                 64.0                 16.0   \n",
       "\n",
       "     extended_memory_available  resolution_height  resolution_width  \n",
       "321                          1               2412              1080  \n",
       "322                          1                720              1520  \n",
       "323                          1               1600               720  \n",
       "324                          1               1600               720  \n",
       "325                          1               1600               720  \n",
       "..                         ...                ...               ...  \n",
       "404                          1               2400              1080  \n",
       "405                          1               2400              1080  \n",
       "406                          1               2400              1080  \n",
       "407                          0               2400              1080  \n",
       "408                          0               3200              1440  \n",
       "\n",
       "[87 rows x 22 columns]"
      ]
     },
     "execution_count": 577,
     "metadata": {},
     "output_type": "execute_result"
    }
   ],
   "source": [
    "oppo_df=phones[phones['brand_name']=='oppo']\n",
    "oppo_df"
   ]
  },
  {
   "cell_type": "code",
   "execution_count": 560,
   "id": "f50f502b",
   "metadata": {},
   "outputs": [
    {
     "data": {
      "text/plain": [
       "price                        0.625712\n",
       "avg_rating                   1.000000\n",
       "5G_or_not                    0.650394\n",
       "num_cores                         NaN\n",
       "processor_speed              0.550662\n",
       "battery_capacity            -0.081066\n",
       "fast_charging_available      0.646527\n",
       "fast_charging                0.615007\n",
       "ram_capacity                 0.785557\n",
       "internal_memory              0.751830\n",
       "screen_size                  0.408185\n",
       "refresh_rate                 0.633006\n",
       "num_rear_cameras             0.513104\n",
       "primary_camera_rear          0.768817\n",
       "primary_camera_front         0.757811\n",
       "extended_memory_available   -0.546296\n",
       "resolution_height            0.776439\n",
       "resolution_width             0.349576\n",
       "Name: avg_rating, dtype: float64"
      ]
     },
     "execution_count": 560,
     "metadata": {},
     "output_type": "execute_result"
    }
   ],
   "source": [
    "oppo_df.corr(numeric_only=True)['avg_rating']"
   ]
  },
  {
   "cell_type": "code",
   "execution_count": 561,
   "id": "b2177b90",
   "metadata": {},
   "outputs": [
    {
     "data": {
      "text/plain": [
       "<Axes: xlabel='avg_rating', ylabel='ram_capacity'>"
      ]
     },
     "execution_count": 561,
     "metadata": {},
     "output_type": "execute_result"
    },
    {
     "data": {
      "image/png": "[encoded data removed]",
      "text/plain": [
       "<Figure size 640x480 with 1 Axes>"
      ]
     },
     "metadata": {},
     "output_type": "display_data"
    }
   ],
   "source": [
    "sns.scatterplot(data=oppo_df,x='avg_rating',y='ram_capacity')"
   ]
  },
  {
   "cell_type": "code",
   "execution_count": 578,
   "id": "10704246",
   "metadata": {},
   "outputs": [
    {
     "data": {
      "text/plain": [
       "Series([], Name: ram_capacity, dtype: float64)"
      ]
     },
     "execution_count": 578,
     "metadata": {},
     "output_type": "execute_result"
    }
   ],
   "source": [
    "oppo_df[oppo_df['avg_rating'].isnull()]['ram_capacity']"
   ]
  },
  {
   "cell_type": "code",
   "execution_count": 565,
   "id": "aaf5cba9",
   "metadata": {},
   "outputs": [
    {
     "data": {
      "text/plain": [
       "8.679999999999998"
      ]
     },
     "execution_count": 565,
     "metadata": {},
     "output_type": "execute_result"
    }
   ],
   "source": [
    "oppo_df[(oppo_df['ram_capacity']==12) & (oppo_df['avg_rating']!=7.9)]['avg_rating'].mean()"
   ]
  },
  {
   "cell_type": "code",
   "execution_count": 575,
   "id": "eba2242b",
   "metadata": {},
   "outputs": [
    {
     "data": {
      "text/plain": [
       "Index([369, 375], dtype='int64')"
      ]
     },
     "execution_count": 575,
     "metadata": {},
     "output_type": "execute_result"
    }
   ],
   "source": [
    "index=oppo_df[(oppo_df['ram_capacity']==8) & (oppo_df['avg_rating'].isnull())].index\n",
    "index"
   ]
  },
  {
   "cell_type": "code",
   "execution_count": 576,
   "id": "2cc73d77",
   "metadata": {},
   "outputs": [],
   "source": [
    "phones.loc[index,'avg_rating']=8.4"
   ]
  },
  {
   "cell_type": "code",
   "execution_count": 574,
   "id": "9dbe2b0d",
   "metadata": {},
   "outputs": [
    {
     "data": {
      "text/plain": [
       "8.305000000000001"
      ]
     },
     "execution_count": 574,
     "metadata": {},
     "output_type": "execute_result"
    }
   ],
   "source": [
    "oppo_df[(oppo_df['ram_capacity']==8)]['avg_rating'].mean()"
   ]
  },
  {
   "cell_type": "code",
   "execution_count": 594,
   "id": "242cbed3",
   "metadata": {},
   "outputs": [
    {
     "data": {
      "text/html": [
       "<div>\n",
       "<style scoped>\n",
       "    .dataframe tbody tr th:only-of-type {\n",
       "        vertical-align: middle;\n",
       "    }\n",
       "\n",
       "    .dataframe tbody tr th {\n",
       "        vertical-align: top;\n",
       "    }\n",
       "\n",
       "    .dataframe thead th {\n",
       "        text-align: right;\n",
       "    }\n",
       "</style>\n",
       "<table border=\"1\" class=\"dataframe\">\n",
       "  <thead>\n",
       "    <tr style=\"text-align: right;\">\n",
       "      <th></th>\n",
       "      <th>brand_name</th>\n",
       "      <th>model</th>\n",
       "      <th>price</th>\n",
       "      <th>avg_rating</th>\n",
       "      <th>5G_or_not</th>\n",
       "      <th>processor_brand</th>\n",
       "      <th>num_cores</th>\n",
       "      <th>processor_speed</th>\n",
       "      <th>battery_capacity</th>\n",
       "      <th>fast_charging_available</th>\n",
       "      <th>...</th>\n",
       "      <th>internal_memory</th>\n",
       "      <th>screen_size</th>\n",
       "      <th>refresh_rate</th>\n",
       "      <th>num_rear_cameras</th>\n",
       "      <th>os</th>\n",
       "      <th>primary_camera_rear</th>\n",
       "      <th>primary_camera_front</th>\n",
       "      <th>extended_memory_available</th>\n",
       "      <th>resolution_height</th>\n",
       "      <th>resolution_width</th>\n",
       "    </tr>\n",
       "  </thead>\n",
       "  <tbody>\n",
       "    <tr>\n",
       "      <th>453</th>\n",
       "      <td>realme</td>\n",
       "      <td>Realme 10</td>\n",
       "      <td>13999</td>\n",
       "      <td>7.4</td>\n",
       "      <td>0</td>\n",
       "      <td>helio</td>\n",
       "      <td>8.0</td>\n",
       "      <td>2.20</td>\n",
       "      <td>5000.0</td>\n",
       "      <td>1</td>\n",
       "      <td>...</td>\n",
       "      <td>64</td>\n",
       "      <td>6.40</td>\n",
       "      <td>90</td>\n",
       "      <td>2</td>\n",
       "      <td>android</td>\n",
       "      <td>50.0</td>\n",
       "      <td>16.0</td>\n",
       "      <td>1</td>\n",
       "      <td>2400</td>\n",
       "      <td>1080</td>\n",
       "    </tr>\n",
       "    <tr>\n",
       "      <th>454</th>\n",
       "      <td>realme</td>\n",
       "      <td>Realme 10 (8GB RAM + 128GB)</td>\n",
       "      <td>16999</td>\n",
       "      <td>7.9</td>\n",
       "      <td>0</td>\n",
       "      <td>helio</td>\n",
       "      <td>8.0</td>\n",
       "      <td>2.20</td>\n",
       "      <td>5000.0</td>\n",
       "      <td>1</td>\n",
       "      <td>...</td>\n",
       "      <td>128</td>\n",
       "      <td>6.40</td>\n",
       "      <td>90</td>\n",
       "      <td>2</td>\n",
       "      <td>android</td>\n",
       "      <td>50.0</td>\n",
       "      <td>16.0</td>\n",
       "      <td>1</td>\n",
       "      <td>2400</td>\n",
       "      <td>1080</td>\n",
       "    </tr>\n",
       "    <tr>\n",
       "      <th>455</th>\n",
       "      <td>realme</td>\n",
       "      <td>Realme 10 5G</td>\n",
       "      <td>14499</td>\n",
       "      <td>7.9</td>\n",
       "      <td>1</td>\n",
       "      <td>dimensity</td>\n",
       "      <td>8.0</td>\n",
       "      <td>2.20</td>\n",
       "      <td>5000.0</td>\n",
       "      <td>1</td>\n",
       "      <td>...</td>\n",
       "      <td>128</td>\n",
       "      <td>6.60</td>\n",
       "      <td>90</td>\n",
       "      <td>3</td>\n",
       "      <td>android</td>\n",
       "      <td>50.0</td>\n",
       "      <td>8.0</td>\n",
       "      <td>1</td>\n",
       "      <td>2408</td>\n",
       "      <td>1080</td>\n",
       "    </tr>\n",
       "    <tr>\n",
       "      <th>456</th>\n",
       "      <td>realme</td>\n",
       "      <td>Realme 10 Pro</td>\n",
       "      <td>18999</td>\n",
       "      <td>8.2</td>\n",
       "      <td>1</td>\n",
       "      <td>snapdragon</td>\n",
       "      <td>8.0</td>\n",
       "      <td>2.20</td>\n",
       "      <td>5000.0</td>\n",
       "      <td>1</td>\n",
       "      <td>...</td>\n",
       "      <td>128</td>\n",
       "      <td>6.72</td>\n",
       "      <td>120</td>\n",
       "      <td>2</td>\n",
       "      <td>android</td>\n",
       "      <td>108.0</td>\n",
       "      <td>16.0</td>\n",
       "      <td>1</td>\n",
       "      <td>2400</td>\n",
       "      <td>1080</td>\n",
       "    </tr>\n",
       "    <tr>\n",
       "      <th>457</th>\n",
       "      <td>realme</td>\n",
       "      <td>Realme 10 Pro (8GB RAM + 128GB)</td>\n",
       "      <td>19999</td>\n",
       "      <td>8.4</td>\n",
       "      <td>1</td>\n",
       "      <td>snapdragon</td>\n",
       "      <td>8.0</td>\n",
       "      <td>2.20</td>\n",
       "      <td>5000.0</td>\n",
       "      <td>1</td>\n",
       "      <td>...</td>\n",
       "      <td>128</td>\n",
       "      <td>6.72</td>\n",
       "      <td>120</td>\n",
       "      <td>2</td>\n",
       "      <td>android</td>\n",
       "      <td>108.0</td>\n",
       "      <td>16.0</td>\n",
       "      <td>1</td>\n",
       "      <td>2400</td>\n",
       "      <td>1080</td>\n",
       "    </tr>\n",
       "    <tr>\n",
       "      <th>...</th>\n",
       "      <td>...</td>\n",
       "      <td>...</td>\n",
       "      <td>...</td>\n",
       "      <td>...</td>\n",
       "      <td>...</td>\n",
       "      <td>...</td>\n",
       "      <td>...</td>\n",
       "      <td>...</td>\n",
       "      <td>...</td>\n",
       "      <td>...</td>\n",
       "      <td>...</td>\n",
       "      <td>...</td>\n",
       "      <td>...</td>\n",
       "      <td>...</td>\n",
       "      <td>...</td>\n",
       "      <td>...</td>\n",
       "      <td>...</td>\n",
       "      <td>...</td>\n",
       "      <td>...</td>\n",
       "      <td>...</td>\n",
       "      <td>...</td>\n",
       "    </tr>\n",
       "    <tr>\n",
       "      <th>545</th>\n",
       "      <td>realme</td>\n",
       "      <td>Realme Q5 5G</td>\n",
       "      <td>14990</td>\n",
       "      <td>7.8</td>\n",
       "      <td>1</td>\n",
       "      <td>snapdragon</td>\n",
       "      <td>8.0</td>\n",
       "      <td>2.20</td>\n",
       "      <td>5000.0</td>\n",
       "      <td>1</td>\n",
       "      <td>...</td>\n",
       "      <td>128</td>\n",
       "      <td>6.60</td>\n",
       "      <td>120</td>\n",
       "      <td>3</td>\n",
       "      <td>android</td>\n",
       "      <td>50.0</td>\n",
       "      <td>16.0</td>\n",
       "      <td>1</td>\n",
       "      <td>2412</td>\n",
       "      <td>1080</td>\n",
       "    </tr>\n",
       "    <tr>\n",
       "      <th>546</th>\n",
       "      <td>realme</td>\n",
       "      <td>Realme X50 Pro 5G (12GB RAM + 256GB)</td>\n",
       "      <td>27999</td>\n",
       "      <td>8.7</td>\n",
       "      <td>1</td>\n",
       "      <td>snapdragon</td>\n",
       "      <td>8.0</td>\n",
       "      <td>2.84</td>\n",
       "      <td>4200.0</td>\n",
       "      <td>1</td>\n",
       "      <td>...</td>\n",
       "      <td>256</td>\n",
       "      <td>6.44</td>\n",
       "      <td>90</td>\n",
       "      <td>4</td>\n",
       "      <td>android</td>\n",
       "      <td>64.0</td>\n",
       "      <td>32.0</td>\n",
       "      <td>0</td>\n",
       "      <td>2400</td>\n",
       "      <td>1080</td>\n",
       "    </tr>\n",
       "    <tr>\n",
       "      <th>547</th>\n",
       "      <td>realme</td>\n",
       "      <td>Realme X50 Pro 5G (8GB RAM + 128GB)</td>\n",
       "      <td>24999</td>\n",
       "      <td>8.5</td>\n",
       "      <td>1</td>\n",
       "      <td>snapdragon</td>\n",
       "      <td>8.0</td>\n",
       "      <td>2.84</td>\n",
       "      <td>4200.0</td>\n",
       "      <td>1</td>\n",
       "      <td>...</td>\n",
       "      <td>128</td>\n",
       "      <td>6.44</td>\n",
       "      <td>90</td>\n",
       "      <td>4</td>\n",
       "      <td>android</td>\n",
       "      <td>64.0</td>\n",
       "      <td>32.0</td>\n",
       "      <td>0</td>\n",
       "      <td>2400</td>\n",
       "      <td>1080</td>\n",
       "    </tr>\n",
       "    <tr>\n",
       "      <th>548</th>\n",
       "      <td>realme</td>\n",
       "      <td>Realme X7 Max</td>\n",
       "      <td>26999</td>\n",
       "      <td>8.4</td>\n",
       "      <td>1</td>\n",
       "      <td>dimensity</td>\n",
       "      <td>8.0</td>\n",
       "      <td>3.00</td>\n",
       "      <td>4500.0</td>\n",
       "      <td>1</td>\n",
       "      <td>...</td>\n",
       "      <td>128</td>\n",
       "      <td>6.43</td>\n",
       "      <td>120</td>\n",
       "      <td>3</td>\n",
       "      <td>android</td>\n",
       "      <td>64.0</td>\n",
       "      <td>16.0</td>\n",
       "      <td>0</td>\n",
       "      <td>2400</td>\n",
       "      <td>1080</td>\n",
       "    </tr>\n",
       "    <tr>\n",
       "      <th>549</th>\n",
       "      <td>realme</td>\n",
       "      <td>Realme XT</td>\n",
       "      <td>13279</td>\n",
       "      <td>7.5</td>\n",
       "      <td>0</td>\n",
       "      <td>snapdragon</td>\n",
       "      <td>8.0</td>\n",
       "      <td>2.30</td>\n",
       "      <td>4000.0</td>\n",
       "      <td>1</td>\n",
       "      <td>...</td>\n",
       "      <td>64</td>\n",
       "      <td>6.40</td>\n",
       "      <td>60</td>\n",
       "      <td>4</td>\n",
       "      <td>android</td>\n",
       "      <td>64.0</td>\n",
       "      <td>16.0</td>\n",
       "      <td>1</td>\n",
       "      <td>2340</td>\n",
       "      <td>1080</td>\n",
       "    </tr>\n",
       "  </tbody>\n",
       "</table>\n",
       "<p>97 rows × 22 columns</p>\n",
       "</div>"
      ],
      "text/plain": [
       "    brand_name                                 model  price  avg_rating   \n",
       "453     realme                             Realme 10  13999         7.4  \\\n",
       "454     realme           Realme 10 (8GB RAM + 128GB)  16999         7.9   \n",
       "455     realme                          Realme 10 5G  14499         7.9   \n",
       "456     realme                         Realme 10 Pro  18999         8.2   \n",
       "457     realme       Realme 10 Pro (8GB RAM + 128GB)  19999         8.4   \n",
       "..         ...                                   ...    ...         ...   \n",
       "545     realme                          Realme Q5 5G  14990         7.8   \n",
       "546     realme  Realme X50 Pro 5G (12GB RAM + 256GB)  27999         8.7   \n",
       "547     realme   Realme X50 Pro 5G (8GB RAM + 128GB)  24999         8.5   \n",
       "548     realme                         Realme X7 Max  26999         8.4   \n",
       "549     realme                             Realme XT  13279         7.5   \n",
       "\n",
       "     5G_or_not processor_brand  num_cores  processor_speed  battery_capacity   \n",
       "453          0           helio        8.0             2.20            5000.0  \\\n",
       "454          0           helio        8.0             2.20            5000.0   \n",
       "455          1       dimensity        8.0             2.20            5000.0   \n",
       "456          1      snapdragon        8.0             2.20            5000.0   \n",
       "457          1      snapdragon        8.0             2.20            5000.0   \n",
       "..         ...             ...        ...              ...               ...   \n",
       "545          1      snapdragon        8.0             2.20            5000.0   \n",
       "546          1      snapdragon        8.0             2.84            4200.0   \n",
       "547          1      snapdragon        8.0             2.84            4200.0   \n",
       "548          1       dimensity        8.0             3.00            4500.0   \n",
       "549          0      snapdragon        8.0             2.30            4000.0   \n",
       "\n",
       "     fast_charging_available  ...  internal_memory  screen_size  refresh_rate   \n",
       "453                        1  ...               64         6.40            90  \\\n",
       "454                        1  ...              128         6.40            90   \n",
       "455                        1  ...              128         6.60            90   \n",
       "456                        1  ...              128         6.72           120   \n",
       "457                        1  ...              128         6.72           120   \n",
       "..                       ...  ...              ...          ...           ...   \n",
       "545                        1  ...              128         6.60           120   \n",
       "546                        1  ...              256         6.44            90   \n",
       "547                        1  ...              128         6.44            90   \n",
       "548                        1  ...              128         6.43           120   \n",
       "549                        1  ...               64         6.40            60   \n",
       "\n",
       "     num_rear_cameras       os  primary_camera_rear primary_camera_front   \n",
       "453                 2  android                 50.0                 16.0  \\\n",
       "454                 2  android                 50.0                 16.0   \n",
       "455                 3  android                 50.0                  8.0   \n",
       "456                 2  android                108.0                 16.0   \n",
       "457                 2  android                108.0                 16.0   \n",
       "..                ...      ...                  ...                  ...   \n",
       "545                 3  android                 50.0                 16.0   \n",
       "546                 4  android                 64.0                 32.0   \n",
       "547                 4  android                 64.0                 32.0   \n",
       "548                 3  android                 64.0                 16.0   \n",
       "549                 4  android                 64.0                 16.0   \n",
       "\n",
       "     extended_memory_available  resolution_height  resolution_width  \n",
       "453                          1               2400              1080  \n",
       "454                          1               2400              1080  \n",
       "455                          1               2408              1080  \n",
       "456                          1               2400              1080  \n",
       "457                          1               2400              1080  \n",
       "..                         ...                ...               ...  \n",
       "545                          1               2412              1080  \n",
       "546                          0               2400              1080  \n",
       "547                          0               2400              1080  \n",
       "548                          0               2400              1080  \n",
       "549                          1               2340              1080  \n",
       "\n",
       "[97 rows x 22 columns]"
      ]
     },
     "execution_count": 594,
     "metadata": {},
     "output_type": "execute_result"
    }
   ],
   "source": [
    "realme_df=phones[phones['brand_name']=='realme']\n",
    "realme_df"
   ]
  },
  {
   "cell_type": "code",
   "execution_count": 595,
   "id": "c3f1ad4f",
   "metadata": {},
   "outputs": [
    {
     "data": {
      "text/plain": [
       "price                        0.818541\n",
       "avg_rating                   1.000000\n",
       "5G_or_not                    0.689464\n",
       "num_cores                         NaN\n",
       "processor_speed              0.756337\n",
       "battery_capacity            -0.125350\n",
       "fast_charging_available      0.752311\n",
       "fast_charging                0.518450\n",
       "ram_capacity                 0.883444\n",
       "internal_memory              0.791763\n",
       "screen_size                  0.310455\n",
       "refresh_rate                 0.740298\n",
       "num_rear_cameras             0.660194\n",
       "primary_camera_rear          0.783882\n",
       "primary_camera_front         0.811196\n",
       "extended_memory_available   -0.493089\n",
       "resolution_height            0.792526\n",
       "resolution_width             0.594392\n",
       "Name: avg_rating, dtype: float64"
      ]
     },
     "execution_count": 595,
     "metadata": {},
     "output_type": "execute_result"
    }
   ],
   "source": [
    "realme_df.corr(numeric_only=True)['avg_rating']"
   ]
  },
  {
   "cell_type": "code",
   "execution_count": 598,
   "id": "3679b678",
   "metadata": {},
   "outputs": [
    {
     "data": {
      "text/plain": [
       "Index([], dtype='int64')"
      ]
     },
     "execution_count": 598,
     "metadata": {},
     "output_type": "execute_result"
    }
   ],
   "source": [
    "index=realme_df[realme_df['avg_rating'].isnull()].index\n",
    "index"
   ]
  },
  {
   "cell_type": "code",
   "execution_count": 597,
   "id": "2eae221e",
   "metadata": {},
   "outputs": [
    {
     "data": {
      "text/plain": [
       "<Axes: xlabel='avg_rating', ylabel='ram_capacity'>"
      ]
     },
     "execution_count": 597,
     "metadata": {},
     "output_type": "execute_result"
    },
    {
     "data": {
      "image/png": "[encoded data removed]",
      "text/plain": [
       "<Figure size 640x480 with 1 Axes>"
      ]
     },
     "metadata": {},
     "output_type": "display_data"
    }
   ],
   "source": [
    "sns.scatterplot(data=realme_df,x='avg_rating',y='ram_capacity')"
   ]
  },
  {
   "cell_type": "code",
   "execution_count": 590,
   "id": "1d7476a1",
   "metadata": {},
   "outputs": [
    {
     "data": {
      "text/html": [
       "<div>\n",
       "<style scoped>\n",
       "    .dataframe tbody tr th:only-of-type {\n",
       "        vertical-align: middle;\n",
       "    }\n",
       "\n",
       "    .dataframe tbody tr th {\n",
       "        vertical-align: top;\n",
       "    }\n",
       "\n",
       "    .dataframe thead th {\n",
       "        text-align: right;\n",
       "    }\n",
       "</style>\n",
       "<table border=\"1\" class=\"dataframe\">\n",
       "  <thead>\n",
       "    <tr style=\"text-align: right;\">\n",
       "      <th></th>\n",
       "      <th>brand_name</th>\n",
       "      <th>model</th>\n",
       "      <th>price</th>\n",
       "      <th>avg_rating</th>\n",
       "      <th>5G_or_not</th>\n",
       "      <th>processor_brand</th>\n",
       "      <th>num_cores</th>\n",
       "      <th>processor_speed</th>\n",
       "      <th>battery_capacity</th>\n",
       "      <th>fast_charging_available</th>\n",
       "      <th>...</th>\n",
       "      <th>internal_memory</th>\n",
       "      <th>screen_size</th>\n",
       "      <th>refresh_rate</th>\n",
       "      <th>num_rear_cameras</th>\n",
       "      <th>os</th>\n",
       "      <th>primary_camera_rear</th>\n",
       "      <th>primary_camera_front</th>\n",
       "      <th>extended_memory_available</th>\n",
       "      <th>resolution_height</th>\n",
       "      <th>resolution_width</th>\n",
       "    </tr>\n",
       "  </thead>\n",
       "  <tbody>\n",
       "    <tr>\n",
       "      <th>490</th>\n",
       "      <td>realme</td>\n",
       "      <td>Realme A1</td>\n",
       "      <td>8999</td>\n",
       "      <td>NaN</td>\n",
       "      <td>0</td>\n",
       "      <td>helio</td>\n",
       "      <td>8.0</td>\n",
       "      <td>2.10</td>\n",
       "      <td>4000.0</td>\n",
       "      <td>0</td>\n",
       "      <td>...</td>\n",
       "      <td>16</td>\n",
       "      <td>6.20</td>\n",
       "      <td>60</td>\n",
       "      <td>2</td>\n",
       "      <td>android</td>\n",
       "      <td>13.0</td>\n",
       "      <td>8.0</td>\n",
       "      <td>1</td>\n",
       "      <td>1520</td>\n",
       "      <td>720</td>\n",
       "    </tr>\n",
       "    <tr>\n",
       "      <th>491</th>\n",
       "      <td>realme</td>\n",
       "      <td>Realme C11</td>\n",
       "      <td>6490</td>\n",
       "      <td>6.1</td>\n",
       "      <td>0</td>\n",
       "      <td>helio</td>\n",
       "      <td>8.0</td>\n",
       "      <td>2.30</td>\n",
       "      <td>5000.0</td>\n",
       "      <td>0</td>\n",
       "      <td>...</td>\n",
       "      <td>32</td>\n",
       "      <td>6.50</td>\n",
       "      <td>60</td>\n",
       "      <td>2</td>\n",
       "      <td>android</td>\n",
       "      <td>13.0</td>\n",
       "      <td>5.0</td>\n",
       "      <td>1</td>\n",
       "      <td>1600</td>\n",
       "      <td>720</td>\n",
       "    </tr>\n",
       "    <tr>\n",
       "      <th>492</th>\n",
       "      <td>realme</td>\n",
       "      <td>Realme C11 2021</td>\n",
       "      <td>6499</td>\n",
       "      <td>6.1</td>\n",
       "      <td>0</td>\n",
       "      <td>unisoc</td>\n",
       "      <td>8.0</td>\n",
       "      <td>1.60</td>\n",
       "      <td>5000.0</td>\n",
       "      <td>0</td>\n",
       "      <td>...</td>\n",
       "      <td>32</td>\n",
       "      <td>6.52</td>\n",
       "      <td>60</td>\n",
       "      <td>1</td>\n",
       "      <td>android</td>\n",
       "      <td>8.0</td>\n",
       "      <td>5.0</td>\n",
       "      <td>1</td>\n",
       "      <td>1600</td>\n",
       "      <td>720</td>\n",
       "    </tr>\n",
       "    <tr>\n",
       "      <th>494</th>\n",
       "      <td>realme</td>\n",
       "      <td>Realme C2</td>\n",
       "      <td>6999</td>\n",
       "      <td>NaN</td>\n",
       "      <td>0</td>\n",
       "      <td>helio</td>\n",
       "      <td>8.0</td>\n",
       "      <td>2.00</td>\n",
       "      <td>4000.0</td>\n",
       "      <td>0</td>\n",
       "      <td>...</td>\n",
       "      <td>16</td>\n",
       "      <td>6.10</td>\n",
       "      <td>60</td>\n",
       "      <td>2</td>\n",
       "      <td>android</td>\n",
       "      <td>13.0</td>\n",
       "      <td>5.0</td>\n",
       "      <td>1</td>\n",
       "      <td>720</td>\n",
       "      <td>1560</td>\n",
       "    </tr>\n",
       "    <tr>\n",
       "      <th>498</th>\n",
       "      <td>realme</td>\n",
       "      <td>Realme C30</td>\n",
       "      <td>5299</td>\n",
       "      <td>NaN</td>\n",
       "      <td>0</td>\n",
       "      <td>tiger</td>\n",
       "      <td>8.0</td>\n",
       "      <td>1.82</td>\n",
       "      <td>5000.0</td>\n",
       "      <td>0</td>\n",
       "      <td>...</td>\n",
       "      <td>32</td>\n",
       "      <td>6.50</td>\n",
       "      <td>60</td>\n",
       "      <td>1</td>\n",
       "      <td>android</td>\n",
       "      <td>8.0</td>\n",
       "      <td>5.0</td>\n",
       "      <td>1</td>\n",
       "      <td>1600</td>\n",
       "      <td>720</td>\n",
       "    </tr>\n",
       "    <tr>\n",
       "      <th>500</th>\n",
       "      <td>realme</td>\n",
       "      <td>Realme C30s</td>\n",
       "      <td>7145</td>\n",
       "      <td>NaN</td>\n",
       "      <td>0</td>\n",
       "      <td>unisoc</td>\n",
       "      <td>8.0</td>\n",
       "      <td>1.60</td>\n",
       "      <td>5000.0</td>\n",
       "      <td>1</td>\n",
       "      <td>...</td>\n",
       "      <td>32</td>\n",
       "      <td>6.50</td>\n",
       "      <td>60</td>\n",
       "      <td>1</td>\n",
       "      <td>android</td>\n",
       "      <td>8.0</td>\n",
       "      <td>5.0</td>\n",
       "      <td>1</td>\n",
       "      <td>1600</td>\n",
       "      <td>720</td>\n",
       "    </tr>\n",
       "    <tr>\n",
       "      <th>538</th>\n",
       "      <td>realme</td>\n",
       "      <td>Realme Narzo 50i</td>\n",
       "      <td>6490</td>\n",
       "      <td>NaN</td>\n",
       "      <td>0</td>\n",
       "      <td>unisoc</td>\n",
       "      <td>8.0</td>\n",
       "      <td>1.60</td>\n",
       "      <td>5000.0</td>\n",
       "      <td>0</td>\n",
       "      <td>...</td>\n",
       "      <td>32</td>\n",
       "      <td>6.50</td>\n",
       "      <td>60</td>\n",
       "      <td>1</td>\n",
       "      <td>android</td>\n",
       "      <td>8.0</td>\n",
       "      <td>5.0</td>\n",
       "      <td>1</td>\n",
       "      <td>1600</td>\n",
       "      <td>720</td>\n",
       "    </tr>\n",
       "  </tbody>\n",
       "</table>\n",
       "<p>7 rows × 22 columns</p>\n",
       "</div>"
      ],
      "text/plain": [
       "    brand_name             model  price  avg_rating  5G_or_not   \n",
       "490     realme         Realme A1   8999         NaN          0  \\\n",
       "491     realme        Realme C11   6490         6.1          0   \n",
       "492     realme   Realme C11 2021   6499         6.1          0   \n",
       "494     realme         Realme C2   6999         NaN          0   \n",
       "498     realme        Realme C30   5299         NaN          0   \n",
       "500     realme       Realme C30s   7145         NaN          0   \n",
       "538     realme  Realme Narzo 50i   6490         NaN          0   \n",
       "\n",
       "    processor_brand  num_cores  processor_speed  battery_capacity   \n",
       "490           helio        8.0             2.10            4000.0  \\\n",
       "491           helio        8.0             2.30            5000.0   \n",
       "492          unisoc        8.0             1.60            5000.0   \n",
       "494           helio        8.0             2.00            4000.0   \n",
       "498           tiger        8.0             1.82            5000.0   \n",
       "500          unisoc        8.0             1.60            5000.0   \n",
       "538          unisoc        8.0             1.60            5000.0   \n",
       "\n",
       "     fast_charging_available  ...  internal_memory  screen_size  refresh_rate   \n",
       "490                        0  ...               16         6.20            60  \\\n",
       "491                        0  ...               32         6.50            60   \n",
       "492                        0  ...               32         6.52            60   \n",
       "494                        0  ...               16         6.10            60   \n",
       "498                        0  ...               32         6.50            60   \n",
       "500                        1  ...               32         6.50            60   \n",
       "538                        0  ...               32         6.50            60   \n",
       "\n",
       "     num_rear_cameras       os  primary_camera_rear primary_camera_front   \n",
       "490                 2  android                 13.0                  8.0  \\\n",
       "491                 2  android                 13.0                  5.0   \n",
       "492                 1  android                  8.0                  5.0   \n",
       "494                 2  android                 13.0                  5.0   \n",
       "498                 1  android                  8.0                  5.0   \n",
       "500                 1  android                  8.0                  5.0   \n",
       "538                 1  android                  8.0                  5.0   \n",
       "\n",
       "     extended_memory_available  resolution_height  resolution_width  \n",
       "490                          1               1520               720  \n",
       "491                          1               1600               720  \n",
       "492                          1               1600               720  \n",
       "494                          1                720              1560  \n",
       "498                          1               1600               720  \n",
       "500                          1               1600               720  \n",
       "538                          1               1600               720  \n",
       "\n",
       "[7 rows x 22 columns]"
      ]
     },
     "execution_count": 590,
     "metadata": {},
     "output_type": "execute_result"
    }
   ],
   "source": [
    "realme_df[realme_df['ram_capacity']==2]"
   ]
  },
  {
   "cell_type": "code",
   "execution_count": 593,
   "id": "8de90044",
   "metadata": {},
   "outputs": [],
   "source": [
    "phones.loc[index,'avg_rating']=6.1"
   ]
  },
  {
   "cell_type": "code",
   "execution_count": 729,
   "id": "1fb2b0e0",
   "metadata": {},
   "outputs": [],
   "source": [
    "# WE HAVE DONE ALL THE MISSING VALUE PREDICTION."
   ]
  },
  {
   "cell_type": "code",
   "execution_count": 730,
   "id": "2e1d2e0e",
   "metadata": {},
   "outputs": [
    {
     "data": {
      "text/plain": [
       "brand_name                     0\n",
       "model                          0\n",
       "price                          0\n",
       "avg_rating                     0\n",
       "5G_or_not                      0\n",
       "processor_brand                0\n",
       "num_cores                      0\n",
       "processor_speed                0\n",
       "battery_capacity               0\n",
       "fast_charging_available        0\n",
       "fast_charging                209\n",
       "ram_capacity                   0\n",
       "internal_memory                0\n",
       "screen_size                    0\n",
       "refresh_rate                   0\n",
       "num_rear_cameras               0\n",
       "os                             0\n",
       "primary_camera_rear            0\n",
       "primary_camera_front           0\n",
       "extended_memory_available      0\n",
       "resolution_height              0\n",
       "resolution_width               0\n",
       "dtype: int64"
      ]
     },
     "execution_count": 730,
     "metadata": {},
     "output_type": "execute_result"
    }
   ],
   "source": [
    "phones.isnull().sum()"
   ]
  },
  {
   "cell_type": "code",
   "execution_count": 735,
   "id": "677afc70",
   "metadata": {
    "scrolled": false
   },
   "outputs": [
    {
     "data": {
      "text/html": [
       "<div>\n",
       "<style scoped>\n",
       "    .dataframe tbody tr th:only-of-type {\n",
       "        vertical-align: middle;\n",
       "    }\n",
       "\n",
       "    .dataframe tbody tr th {\n",
       "        vertical-align: top;\n",
       "    }\n",
       "\n",
       "    .dataframe thead th {\n",
       "        text-align: right;\n",
       "    }\n",
       "</style>\n",
       "<table border=\"1\" class=\"dataframe\">\n",
       "  <thead>\n",
       "    <tr style=\"text-align: right;\">\n",
       "      <th></th>\n",
       "      <th>brand_name</th>\n",
       "      <th>model</th>\n",
       "      <th>price</th>\n",
       "      <th>avg_rating</th>\n",
       "      <th>5G_or_not</th>\n",
       "      <th>processor_brand</th>\n",
       "      <th>num_cores</th>\n",
       "      <th>processor_speed</th>\n",
       "      <th>battery_capacity</th>\n",
       "      <th>fast_charging_available</th>\n",
       "      <th>...</th>\n",
       "      <th>internal_memory</th>\n",
       "      <th>screen_size</th>\n",
       "      <th>refresh_rate</th>\n",
       "      <th>num_rear_cameras</th>\n",
       "      <th>os</th>\n",
       "      <th>primary_camera_rear</th>\n",
       "      <th>primary_camera_front</th>\n",
       "      <th>extended_memory_available</th>\n",
       "      <th>resolution_height</th>\n",
       "      <th>resolution_width</th>\n",
       "    </tr>\n",
       "  </thead>\n",
       "  <tbody>\n",
       "    <tr>\n",
       "      <th>0</th>\n",
       "      <td>apple</td>\n",
       "      <td>Apple iPhone 11</td>\n",
       "      <td>38999</td>\n",
       "      <td>7.3</td>\n",
       "      <td>0</td>\n",
       "      <td>bionic</td>\n",
       "      <td>6.0</td>\n",
       "      <td>2.65</td>\n",
       "      <td>3110.0</td>\n",
       "      <td>0</td>\n",
       "      <td>...</td>\n",
       "      <td>64</td>\n",
       "      <td>6.1</td>\n",
       "      <td>60</td>\n",
       "      <td>2</td>\n",
       "      <td>ios</td>\n",
       "      <td>12.0</td>\n",
       "      <td>12.0</td>\n",
       "      <td>0</td>\n",
       "      <td>1792</td>\n",
       "      <td>828</td>\n",
       "    </tr>\n",
       "    <tr>\n",
       "      <th>1</th>\n",
       "      <td>apple</td>\n",
       "      <td>Apple iPhone 11 (128GB)</td>\n",
       "      <td>46999</td>\n",
       "      <td>7.5</td>\n",
       "      <td>0</td>\n",
       "      <td>bionic</td>\n",
       "      <td>6.0</td>\n",
       "      <td>2.65</td>\n",
       "      <td>3110.0</td>\n",
       "      <td>0</td>\n",
       "      <td>...</td>\n",
       "      <td>128</td>\n",
       "      <td>6.1</td>\n",
       "      <td>60</td>\n",
       "      <td>2</td>\n",
       "      <td>ios</td>\n",
       "      <td>12.0</td>\n",
       "      <td>12.0</td>\n",
       "      <td>0</td>\n",
       "      <td>1792</td>\n",
       "      <td>828</td>\n",
       "    </tr>\n",
       "    <tr>\n",
       "      <th>3</th>\n",
       "      <td>apple</td>\n",
       "      <td>Apple iPhone 12</td>\n",
       "      <td>51999</td>\n",
       "      <td>7.4</td>\n",
       "      <td>1</td>\n",
       "      <td>bionic</td>\n",
       "      <td>6.0</td>\n",
       "      <td>3.10</td>\n",
       "      <td>2815.0</td>\n",
       "      <td>0</td>\n",
       "      <td>...</td>\n",
       "      <td>64</td>\n",
       "      <td>6.1</td>\n",
       "      <td>60</td>\n",
       "      <td>2</td>\n",
       "      <td>ios</td>\n",
       "      <td>12.0</td>\n",
       "      <td>12.0</td>\n",
       "      <td>0</td>\n",
       "      <td>2532</td>\n",
       "      <td>1170</td>\n",
       "    </tr>\n",
       "    <tr>\n",
       "      <th>4</th>\n",
       "      <td>apple</td>\n",
       "      <td>Apple iPhone 12 (128GB)</td>\n",
       "      <td>55999</td>\n",
       "      <td>7.5</td>\n",
       "      <td>1</td>\n",
       "      <td>bionic</td>\n",
       "      <td>6.0</td>\n",
       "      <td>3.10</td>\n",
       "      <td>2815.0</td>\n",
       "      <td>0</td>\n",
       "      <td>...</td>\n",
       "      <td>128</td>\n",
       "      <td>6.1</td>\n",
       "      <td>60</td>\n",
       "      <td>2</td>\n",
       "      <td>ios</td>\n",
       "      <td>12.0</td>\n",
       "      <td>12.0</td>\n",
       "      <td>0</td>\n",
       "      <td>2532</td>\n",
       "      <td>1170</td>\n",
       "    </tr>\n",
       "    <tr>\n",
       "      <th>5</th>\n",
       "      <td>apple</td>\n",
       "      <td>Apple iPhone 12 (256GB)</td>\n",
       "      <td>67999</td>\n",
       "      <td>7.6</td>\n",
       "      <td>1</td>\n",
       "      <td>bionic</td>\n",
       "      <td>6.0</td>\n",
       "      <td>3.10</td>\n",
       "      <td>2815.0</td>\n",
       "      <td>0</td>\n",
       "      <td>...</td>\n",
       "      <td>256</td>\n",
       "      <td>6.1</td>\n",
       "      <td>60</td>\n",
       "      <td>2</td>\n",
       "      <td>ios</td>\n",
       "      <td>12.0</td>\n",
       "      <td>12.0</td>\n",
       "      <td>0</td>\n",
       "      <td>2532</td>\n",
       "      <td>1170</td>\n",
       "    </tr>\n",
       "  </tbody>\n",
       "</table>\n",
       "<p>5 rows × 22 columns</p>\n",
       "</div>"
      ],
      "text/plain": [
       "  brand_name                    model  price  avg_rating  5G_or_not   \n",
       "0      apple          Apple iPhone 11  38999         7.3          0  \\\n",
       "1      apple  Apple iPhone 11 (128GB)  46999         7.5          0   \n",
       "3      apple          Apple iPhone 12  51999         7.4          1   \n",
       "4      apple  Apple iPhone 12 (128GB)  55999         7.5          1   \n",
       "5      apple  Apple iPhone 12 (256GB)  67999         7.6          1   \n",
       "\n",
       "  processor_brand  num_cores  processor_speed  battery_capacity   \n",
       "0          bionic        6.0             2.65            3110.0  \\\n",
       "1          bionic        6.0             2.65            3110.0   \n",
       "3          bionic        6.0             3.10            2815.0   \n",
       "4          bionic        6.0             3.10            2815.0   \n",
       "5          bionic        6.0             3.10            2815.0   \n",
       "\n",
       "   fast_charging_available  ...  internal_memory  screen_size  refresh_rate   \n",
       "0                        0  ...               64          6.1            60  \\\n",
       "1                        0  ...              128          6.1            60   \n",
       "3                        0  ...               64          6.1            60   \n",
       "4                        0  ...              128          6.1            60   \n",
       "5                        0  ...              256          6.1            60   \n",
       "\n",
       "   num_rear_cameras   os  primary_camera_rear primary_camera_front   \n",
       "0                 2  ios                 12.0                 12.0  \\\n",
       "1                 2  ios                 12.0                 12.0   \n",
       "3                 2  ios                 12.0                 12.0   \n",
       "4                 2  ios                 12.0                 12.0   \n",
       "5                 2  ios                 12.0                 12.0   \n",
       "\n",
       "   extended_memory_available  resolution_height  resolution_width  \n",
       "0                          0               1792               828  \n",
       "1                          0               1792               828  \n",
       "3                          0               2532              1170  \n",
       "4                          0               2532              1170  \n",
       "5                          0               2532              1170  \n",
       "\n",
       "[5 rows x 22 columns]"
      ]
     },
     "execution_count": 735,
     "metadata": {},
     "output_type": "execute_result"
    }
   ],
   "source": [
    "phones[phones['fast_charging'].isnull()].head()"
   ]
  },
  {
   "cell_type": "code",
   "execution_count": 736,
   "id": "ab2d17f3",
   "metadata": {},
   "outputs": [],
   "source": [
    "# UNIVARIATE ANALYSIS"
   ]
  },
  {
   "cell_type": "code",
   "execution_count": 778,
   "id": "1d049ae4",
   "metadata": {
    "scrolled": true
   },
   "outputs": [
    {
     "data": {
      "text/html": [
       "<div>\n",
       "<style scoped>\n",
       "    .dataframe tbody tr th:only-of-type {\n",
       "        vertical-align: middle;\n",
       "    }\n",
       "\n",
       "    .dataframe tbody tr th {\n",
       "        vertical-align: top;\n",
       "    }\n",
       "\n",
       "    .dataframe thead th {\n",
       "        text-align: right;\n",
       "    }\n",
       "</style>\n",
       "<table border=\"1\" class=\"dataframe\">\n",
       "  <thead>\n",
       "    <tr style=\"text-align: right;\">\n",
       "      <th></th>\n",
       "      <th>brand_name</th>\n",
       "      <th>model</th>\n",
       "      <th>price</th>\n",
       "      <th>avg_rating</th>\n",
       "      <th>5G_or_not</th>\n",
       "      <th>processor_brand</th>\n",
       "      <th>num_cores</th>\n",
       "      <th>processor_speed</th>\n",
       "      <th>battery_capacity</th>\n",
       "      <th>fast_charging_available</th>\n",
       "      <th>...</th>\n",
       "      <th>internal_memory</th>\n",
       "      <th>screen_size</th>\n",
       "      <th>refresh_rate</th>\n",
       "      <th>num_rear_cameras</th>\n",
       "      <th>os</th>\n",
       "      <th>primary_camera_rear</th>\n",
       "      <th>primary_camera_front</th>\n",
       "      <th>extended_memory_available</th>\n",
       "      <th>resolution_height</th>\n",
       "      <th>resolution_width</th>\n",
       "    </tr>\n",
       "  </thead>\n",
       "  <tbody>\n",
       "    <tr>\n",
       "      <th>0</th>\n",
       "      <td>apple</td>\n",
       "      <td>Apple iPhone 11</td>\n",
       "      <td>38999</td>\n",
       "      <td>7.3</td>\n",
       "      <td>0</td>\n",
       "      <td>bionic</td>\n",
       "      <td>6.0</td>\n",
       "      <td>2.65</td>\n",
       "      <td>3110.0</td>\n",
       "      <td>0</td>\n",
       "      <td>...</td>\n",
       "      <td>64</td>\n",
       "      <td>6.1</td>\n",
       "      <td>60</td>\n",
       "      <td>2</td>\n",
       "      <td>ios</td>\n",
       "      <td>12.0</td>\n",
       "      <td>12.0</td>\n",
       "      <td>0</td>\n",
       "      <td>1792</td>\n",
       "      <td>828</td>\n",
       "    </tr>\n",
       "    <tr>\n",
       "      <th>1</th>\n",
       "      <td>apple</td>\n",
       "      <td>Apple iPhone 11 (128GB)</td>\n",
       "      <td>46999</td>\n",
       "      <td>7.5</td>\n",
       "      <td>0</td>\n",
       "      <td>bionic</td>\n",
       "      <td>6.0</td>\n",
       "      <td>2.65</td>\n",
       "      <td>3110.0</td>\n",
       "      <td>0</td>\n",
       "      <td>...</td>\n",
       "      <td>128</td>\n",
       "      <td>6.1</td>\n",
       "      <td>60</td>\n",
       "      <td>2</td>\n",
       "      <td>ios</td>\n",
       "      <td>12.0</td>\n",
       "      <td>12.0</td>\n",
       "      <td>0</td>\n",
       "      <td>1792</td>\n",
       "      <td>828</td>\n",
       "    </tr>\n",
       "    <tr>\n",
       "      <th>2</th>\n",
       "      <td>apple</td>\n",
       "      <td>Apple iPhone 11 Pro Max</td>\n",
       "      <td>109900</td>\n",
       "      <td>7.7</td>\n",
       "      <td>0</td>\n",
       "      <td>bionic</td>\n",
       "      <td>6.0</td>\n",
       "      <td>2.65</td>\n",
       "      <td>3500.0</td>\n",
       "      <td>1</td>\n",
       "      <td>...</td>\n",
       "      <td>64</td>\n",
       "      <td>6.5</td>\n",
       "      <td>60</td>\n",
       "      <td>3</td>\n",
       "      <td>ios</td>\n",
       "      <td>12.0</td>\n",
       "      <td>12.0</td>\n",
       "      <td>0</td>\n",
       "      <td>2688</td>\n",
       "      <td>1242</td>\n",
       "    </tr>\n",
       "    <tr>\n",
       "      <th>3</th>\n",
       "      <td>apple</td>\n",
       "      <td>Apple iPhone 12</td>\n",
       "      <td>51999</td>\n",
       "      <td>7.4</td>\n",
       "      <td>1</td>\n",
       "      <td>bionic</td>\n",
       "      <td>6.0</td>\n",
       "      <td>3.10</td>\n",
       "      <td>2815.0</td>\n",
       "      <td>0</td>\n",
       "      <td>...</td>\n",
       "      <td>64</td>\n",
       "      <td>6.1</td>\n",
       "      <td>60</td>\n",
       "      <td>2</td>\n",
       "      <td>ios</td>\n",
       "      <td>12.0</td>\n",
       "      <td>12.0</td>\n",
       "      <td>0</td>\n",
       "      <td>2532</td>\n",
       "      <td>1170</td>\n",
       "    </tr>\n",
       "    <tr>\n",
       "      <th>4</th>\n",
       "      <td>apple</td>\n",
       "      <td>Apple iPhone 12 (128GB)</td>\n",
       "      <td>55999</td>\n",
       "      <td>7.5</td>\n",
       "      <td>1</td>\n",
       "      <td>bionic</td>\n",
       "      <td>6.0</td>\n",
       "      <td>3.10</td>\n",
       "      <td>2815.0</td>\n",
       "      <td>0</td>\n",
       "      <td>...</td>\n",
       "      <td>128</td>\n",
       "      <td>6.1</td>\n",
       "      <td>60</td>\n",
       "      <td>2</td>\n",
       "      <td>ios</td>\n",
       "      <td>12.0</td>\n",
       "      <td>12.0</td>\n",
       "      <td>0</td>\n",
       "      <td>2532</td>\n",
       "      <td>1170</td>\n",
       "    </tr>\n",
       "  </tbody>\n",
       "</table>\n",
       "<p>5 rows × 22 columns</p>\n",
       "</div>"
      ],
      "text/plain": [
       "  brand_name                    model   price  avg_rating  5G_or_not   \n",
       "0      apple          Apple iPhone 11   38999         7.3          0  \\\n",
       "1      apple  Apple iPhone 11 (128GB)   46999         7.5          0   \n",
       "2      apple  Apple iPhone 11 Pro Max  109900         7.7          0   \n",
       "3      apple          Apple iPhone 12   51999         7.4          1   \n",
       "4      apple  Apple iPhone 12 (128GB)   55999         7.5          1   \n",
       "\n",
       "  processor_brand  num_cores  processor_speed  battery_capacity   \n",
       "0          bionic        6.0             2.65            3110.0  \\\n",
       "1          bionic        6.0             2.65            3110.0   \n",
       "2          bionic        6.0             2.65            3500.0   \n",
       "3          bionic        6.0             3.10            2815.0   \n",
       "4          bionic        6.0             3.10            2815.0   \n",
       "\n",
       "   fast_charging_available  ...  internal_memory  screen_size  refresh_rate   \n",
       "0                        0  ...               64          6.1            60  \\\n",
       "1                        0  ...              128          6.1            60   \n",
       "2                        1  ...               64          6.5            60   \n",
       "3                        0  ...               64          6.1            60   \n",
       "4                        0  ...              128          6.1            60   \n",
       "\n",
       "   num_rear_cameras   os  primary_camera_rear primary_camera_front   \n",
       "0                 2  ios                 12.0                 12.0  \\\n",
       "1                 2  ios                 12.0                 12.0   \n",
       "2                 3  ios                 12.0                 12.0   \n",
       "3                 2  ios                 12.0                 12.0   \n",
       "4                 2  ios                 12.0                 12.0   \n",
       "\n",
       "   extended_memory_available  resolution_height  resolution_width  \n",
       "0                          0               1792               828  \n",
       "1                          0               1792               828  \n",
       "2                          0               2688              1242  \n",
       "3                          0               2532              1170  \n",
       "4                          0               2532              1170  \n",
       "\n",
       "[5 rows x 22 columns]"
      ]
     },
     "execution_count": 778,
     "metadata": {},
     "output_type": "execute_result"
    }
   ],
   "source": [
    "phones.head()"
   ]
  },
  {
   "cell_type": "code",
   "execution_count": 792,
   "id": "7162e7ad",
   "metadata": {},
   "outputs": [],
   "source": [
    "phones_df=phones.copy()"
   ]
  },
  {
   "cell_type": "code",
   "execution_count": 793,
   "id": "e78a4405",
   "metadata": {},
   "outputs": [
    {
     "data": {
      "text/plain": [
       "array(['apple', 'asus', 'blackview', 'blu', 'cat', 'cola', 'doogee',\n",
       "       'duoqin', 'gionee', 'google', 'honor', 'huawei', 'ikall',\n",
       "       'infinix', 'iqoo', 'itel', 'jio', 'lava', 'leeco', 'leitz',\n",
       "       'lenovo', 'letv', 'lg', 'lyf', 'micromax', 'motorola', 'nokia',\n",
       "       'nothing', 'nubia', 'oneplus', 'oppo', 'oukitel', 'poco', 'realme',\n",
       "       'redmi', 'royole', 'samsung', 'sharp', 'sony', 'tcl', 'tecno',\n",
       "       'tesla', 'vertu', 'vivo', 'xiaomi', 'zte'], dtype=object)"
      ]
     },
     "execution_count": 793,
     "metadata": {},
     "output_type": "execute_result"
    }
   ],
   "source": [
    "phones_df['brand_name'].unique()"
   ]
  },
  {
   "cell_type": "code",
   "execution_count": 799,
   "id": "f6097ef9",
   "metadata": {},
   "outputs": [
    {
     "data": {
      "text/html": [
       "<div>\n",
       "<style scoped>\n",
       "    .dataframe tbody tr th:only-of-type {\n",
       "        vertical-align: middle;\n",
       "    }\n",
       "\n",
       "    .dataframe tbody tr th {\n",
       "        vertical-align: top;\n",
       "    }\n",
       "\n",
       "    .dataframe thead th {\n",
       "        text-align: right;\n",
       "    }\n",
       "</style>\n",
       "<table border=\"1\" class=\"dataframe\">\n",
       "  <thead>\n",
       "    <tr style=\"text-align: right;\">\n",
       "      <th></th>\n",
       "      <th>brand_name</th>\n",
       "      <th>count</th>\n",
       "    </tr>\n",
       "  </thead>\n",
       "  <tbody>\n",
       "    <tr>\n",
       "      <th>0</th>\n",
       "      <td>xiaomi</td>\n",
       "      <td>133</td>\n",
       "    </tr>\n",
       "    <tr>\n",
       "      <th>1</th>\n",
       "      <td>samsung</td>\n",
       "      <td>132</td>\n",
       "    </tr>\n",
       "    <tr>\n",
       "      <th>2</th>\n",
       "      <td>vivo</td>\n",
       "      <td>111</td>\n",
       "    </tr>\n",
       "    <tr>\n",
       "      <th>3</th>\n",
       "      <td>realme</td>\n",
       "      <td>97</td>\n",
       "    </tr>\n",
       "    <tr>\n",
       "      <th>4</th>\n",
       "      <td>oppo</td>\n",
       "      <td>87</td>\n",
       "    </tr>\n",
       "    <tr>\n",
       "      <th>5</th>\n",
       "      <td>motorola</td>\n",
       "      <td>52</td>\n",
       "    </tr>\n",
       "    <tr>\n",
       "      <th>6</th>\n",
       "      <td>apple</td>\n",
       "      <td>46</td>\n",
       "    </tr>\n",
       "    <tr>\n",
       "      <th>7</th>\n",
       "      <td>oneplus</td>\n",
       "      <td>42</td>\n",
       "    </tr>\n",
       "    <tr>\n",
       "      <th>8</th>\n",
       "      <td>poco</td>\n",
       "      <td>41</td>\n",
       "    </tr>\n",
       "    <tr>\n",
       "      <th>9</th>\n",
       "      <td>tecno</td>\n",
       "      <td>33</td>\n",
       "    </tr>\n",
       "    <tr>\n",
       "      <th>10</th>\n",
       "      <td>iqoo</td>\n",
       "      <td>32</td>\n",
       "    </tr>\n",
       "    <tr>\n",
       "      <th>11</th>\n",
       "      <td>infinix</td>\n",
       "      <td>29</td>\n",
       "    </tr>\n",
       "    <tr>\n",
       "      <th>12</th>\n",
       "      <td>huawei</td>\n",
       "      <td>15</td>\n",
       "    </tr>\n",
       "    <tr>\n",
       "      <th>13</th>\n",
       "      <td>google</td>\n",
       "      <td>14</td>\n",
       "    </tr>\n",
       "    <tr>\n",
       "      <th>14</th>\n",
       "      <td>honor</td>\n",
       "      <td>13</td>\n",
       "    </tr>\n",
       "  </tbody>\n",
       "</table>\n",
       "</div>"
      ],
      "text/plain": [
       "   brand_name  count\n",
       "0      xiaomi    133\n",
       "1     samsung    132\n",
       "2        vivo    111\n",
       "3      realme     97\n",
       "4        oppo     87\n",
       "5    motorola     52\n",
       "6       apple     46\n",
       "7     oneplus     42\n",
       "8        poco     41\n",
       "9       tecno     33\n",
       "10       iqoo     32\n",
       "11    infinix     29\n",
       "12     huawei     15\n",
       "13     google     14\n",
       "14      honor     13"
      ]
     },
     "execution_count": 799,
     "metadata": {},
     "output_type": "execute_result"
    }
   ],
   "source": [
    "top_brands=phones_df['brand_name'].value_counts().head(15).reset_index()\n",
    "top_brands"
   ]
  },
  {
   "cell_type": "code",
   "execution_count": 804,
   "id": "74a3b03d",
   "metadata": {},
   "outputs": [
    {
     "data": {
      "application/vnd.plotly.v1+json": {
       "config": {
        "plotlyServerURL": "https://plot.ly"
       },
       "data": [
        {
         "domain": {
          "x": [
           0,
           1
          ],
          "y": [
           0,
           1
          ]
         },
         "hole": 0.1,
         "hovertemplate": "brand_name=%{label}<br>count=%{value}<extra></extra>",
         "labels": [
          "xiaomi",
          "samsung",
          "vivo",
          "realme",
          "oppo",
          "motorola",
          "apple",
          "oneplus",
          "poco",
          "tecno",
          "iqoo",
          "infinix",
          "huawei",
          "google",
          "honor"
         ],
         "legendgroup": "",
         "name": "",
         "showlegend": true,
         "type": "pie",
         "values": [
          133,
          132,
          111,
          97,
          87,
          52,
          46,
          42,
          41,
          33,
          32,
          29,
          15,
          14,
          13
         ]
        }
       ],
       "layout": {
        "legend": {
         "tracegroupgap": 0
        },
        "template": {
         "data": {
          "bar": [
           {
            "error_x": {
             "color": "#2a3f5f"
            },
            "error_y": {
             "color": "#2a3f5f"
            },
            "marker": {
             "line": {
              "color": "#E5ECF6",
              "width": 0.5
             },
             "pattern": {
              "fillmode": "overlay",
              "size": 10,
              "solidity": 0.2
             }
            },
            "type": "bar"
           }
          ],
          "barpolar": [
           {
            "marker": {
             "line": {
              "color": "#E5ECF6",
              "width": 0.5
             },
             "pattern": {
              "fillmode": "overlay",
              "size": 10,
              "solidity": 0.2
             }
            },
            "type": "barpolar"
           }
          ],
          "carpet": [
           {
            "aaxis": {
             "endlinecolor": "#2a3f5f",
             "gridcolor": "white",
             "linecolor": "white",
             "minorgridcolor": "white",
             "startlinecolor": "#2a3f5f"
            },
            "baxis": {
             "endlinecolor": "#2a3f5f",
             "gridcolor": "white",
             "linecolor": "white",
             "minorgridcolor": "white",
             "startlinecolor": "#2a3f5f"
            },
            "type": "carpet"
           }
          ],
          "choropleth": [
           {
            "colorbar": {
             "outlinewidth": 0,
             "ticks": ""
            },
            "type": "choropleth"
           }
          ],
          "contour": [
           {
            "colorbar": {
             "outlinewidth": 0,
             "ticks": ""
            },
            "colorscale": [
             [
              0,
              "#0d0887"
             ],
             [
              0.1111111111111111,
              "#46039f"
             ],
             [
              0.2222222222222222,
              "#7201a8"
             ],
             [
              0.3333333333333333,
              "#9c179e"
             ],
             [
              0.4444444444444444,
              "#bd3786"
             ],
             [
              0.5555555555555556,
              "#d8576b"
             ],
             [
              0.6666666666666666,
              "#ed7953"
             ],
             [
              0.7777777777777778,
              "#fb9f3a"
             ],
             [
              0.8888888888888888,
              "#fdca26"
             ],
             [
              1,
              "#f0f921"
             ]
            ],
            "type": "contour"
           }
          ],
          "contourcarpet": [
           {
            "colorbar": {
             "outlinewidth": 0,
             "ticks": ""
            },
            "type": "contourcarpet"
           }
          ],
          "heatmap": [
           {
            "colorbar": {
             "outlinewidth": 0,
             "ticks": ""
            },
            "colorscale": [
             [
              0,
              "#0d0887"
             ],
             [
              0.1111111111111111,
              "#46039f"
             ],
             [
              0.2222222222222222,
              "#7201a8"
             ],
             [
              0.3333333333333333,
              "#9c179e"
             ],
             [
              0.4444444444444444,
              "#bd3786"
             ],
             [
              0.5555555555555556,
              "#d8576b"
             ],
             [
              0.6666666666666666,
              "#ed7953"
             ],
             [
              0.7777777777777778,
              "#fb9f3a"
             ],
             [
              0.8888888888888888,
              "#fdca26"
             ],
             [
              1,
              "#f0f921"
             ]
            ],
            "type": "heatmap"
           }
          ],
          "heatmapgl": [
           {
            "colorbar": {
             "outlinewidth": 0,
             "ticks": ""
            },
            "colorscale": [
             [
              0,
              "#0d0887"
             ],
             [
              0.1111111111111111,
              "#46039f"
             ],
             [
              0.2222222222222222,
              "#7201a8"
             ],
             [
              0.3333333333333333,
              "#9c179e"
             ],
             [
              0.4444444444444444,
              "#bd3786"
             ],
             [
              0.5555555555555556,
              "#d8576b"
             ],
             [
              0.6666666666666666,
              "#ed7953"
             ],
             [
              0.7777777777777778,
              "#fb9f3a"
             ],
             [
              0.8888888888888888,
              "#fdca26"
             ],
             [
              1,
              "#f0f921"
             ]
            ],
            "type": "heatmapgl"
           }
          ],
          "histogram": [
           {
            "marker": {
             "pattern": {
              "fillmode": "overlay",
              "size": 10,
              "solidity": 0.2
             }
            },
            "type": "histogram"
           }
          ],
          "histogram2d": [
           {
            "colorbar": {
             "outlinewidth": 0,
             "ticks": ""
            },
            "colorscale": [
             [
              0,
              "#0d0887"
             ],
             [
              0.1111111111111111,
              "#46039f"
             ],
             [
              0.2222222222222222,
              "#7201a8"
             ],
             [
              0.3333333333333333,
              "#9c179e"
             ],
             [
              0.4444444444444444,
              "#bd3786"
             ],
             [
              0.5555555555555556,
              "#d8576b"
             ],
             [
              0.6666666666666666,
              "#ed7953"
             ],
             [
              0.7777777777777778,
              "#fb9f3a"
             ],
             [
              0.8888888888888888,
              "#fdca26"
             ],
             [
              1,
              "#f0f921"
             ]
            ],
            "type": "histogram2d"
           }
          ],
          "histogram2dcontour": [
           {
            "colorbar": {
             "outlinewidth": 0,
             "ticks": ""
            },
            "colorscale": [
             [
              0,
              "#0d0887"
             ],
             [
              0.1111111111111111,
              "#46039f"
             ],
             [
              0.2222222222222222,
              "#7201a8"
             ],
             [
              0.3333333333333333,
              "#9c179e"
             ],
             [
              0.4444444444444444,
              "#bd3786"
             ],
             [
              0.5555555555555556,
              "#d8576b"
             ],
             [
              0.6666666666666666,
              "#ed7953"
             ],
             [
              0.7777777777777778,
              "#fb9f3a"
             ],
             [
              0.8888888888888888,
              "#fdca26"
             ],
             [
              1,
              "#f0f921"
             ]
            ],
            "type": "histogram2dcontour"
           }
          ],
          "mesh3d": [
           {
            "colorbar": {
             "outlinewidth": 0,
             "ticks": ""
            },
            "type": "mesh3d"
           }
          ],
          "parcoords": [
           {
            "line": {
             "colorbar": {
              "outlinewidth": 0,
              "ticks": ""
             }
            },
            "type": "parcoords"
           }
          ],
          "pie": [
           {
            "automargin": true,
            "type": "pie"
           }
          ],
          "scatter": [
           {
            "fillpattern": {
             "fillmode": "overlay",
             "size": 10,
             "solidity": 0.2
            },
            "type": "scatter"
           }
          ],
          "scatter3d": [
           {
            "line": {
             "colorbar": {
              "outlinewidth": 0,
              "ticks": ""
             }
            },
            "marker": {
             "colorbar": {
              "outlinewidth": 0,
              "ticks": ""
             }
            },
            "type": "scatter3d"
           }
          ],
          "scattercarpet": [
           {
            "marker": {
             "colorbar": {
              "outlinewidth": 0,
              "ticks": ""
             }
            },
            "type": "scattercarpet"
           }
          ],
          "scattergeo": [
           {
            "marker": {
             "colorbar": {
              "outlinewidth": 0,
              "ticks": ""
             }
            },
            "type": "scattergeo"
           }
          ],
          "scattergl": [
           {
            "marker": {
             "colorbar": {
              "outlinewidth": 0,
              "ticks": ""
             }
            },
            "type": "scattergl"
           }
          ],
          "scattermapbox": [
           {
            "marker": {
             "colorbar": {
              "outlinewidth": 0,
              "ticks": ""
             }
            },
            "type": "scattermapbox"
           }
          ],
          "scatterpolar": [
           {
            "marker": {
             "colorbar": {
              "outlinewidth": 0,
              "ticks": ""
             }
            },
            "type": "scatterpolar"
           }
          ],
          "scatterpolargl": [
           {
            "marker": {
             "colorbar": {
              "outlinewidth": 0,
              "ticks": ""
             }
            },
            "type": "scatterpolargl"
           }
          ],
          "scatterternary": [
           {
            "marker": {
             "colorbar": {
              "outlinewidth": 0,
              "ticks": ""
             }
            },
            "type": "scatterternary"
           }
          ],
          "surface": [
           {
            "colorbar": {
             "outlinewidth": 0,
             "ticks": ""
            },
            "colorscale": [
             [
              0,
              "#0d0887"
             ],
             [
              0.1111111111111111,
              "#46039f"
             ],
             [
              0.2222222222222222,
              "#7201a8"
             ],
             [
              0.3333333333333333,
              "#9c179e"
             ],
             [
              0.4444444444444444,
              "#bd3786"
             ],
             [
              0.5555555555555556,
              "#d8576b"
             ],
             [
              0.6666666666666666,
              "#ed7953"
             ],
             [
              0.7777777777777778,
              "#fb9f3a"
             ],
             [
              0.8888888888888888,
              "#fdca26"
             ],
             [
              1,
              "#f0f921"
             ]
            ],
            "type": "surface"
           }
          ],
          "table": [
           {
            "cells": {
             "fill": {
              "color": "#EBF0F8"
             },
             "line": {
              "color": "white"
             }
            },
            "header": {
             "fill": {
              "color": "#C8D4E3"
             },
             "line": {
              "color": "white"
             }
            },
            "type": "table"
           }
          ]
         },
         "layout": {
          "annotationdefaults": {
           "arrowcolor": "#2a3f5f",
           "arrowhead": 0,
           "arrowwidth": 1
          },
          "autotypenumbers": "strict",
          "coloraxis": {
           "colorbar": {
            "outlinewidth": 0,
            "ticks": ""
           }
          },
          "colorscale": {
           "diverging": [
            [
             0,
             "#8e0152"
            ],
            [
             0.1,
             "#c51b7d"
            ],
            [
             0.2,
             "#de77ae"
            ],
            [
             0.3,
             "#f1b6da"
            ],
            [
             0.4,
             "#fde0ef"
            ],
            [
             0.5,
             "#f7f7f7"
            ],
            [
             0.6,
             "#e6f5d0"
            ],
            [
             0.7,
             "#b8e186"
            ],
            [
             0.8,
             "#7fbc41"
            ],
            [
             0.9,
             "#4d9221"
            ],
            [
             1,
             "#276419"
            ]
           ],
           "sequential": [
            [
             0,
             "#0d0887"
            ],
            [
             0.1111111111111111,
             "#46039f"
            ],
            [
             0.2222222222222222,
             "#7201a8"
            ],
            [
             0.3333333333333333,
             "#9c179e"
            ],
            [
             0.4444444444444444,
             "#bd3786"
            ],
            [
             0.5555555555555556,
             "#d8576b"
            ],
            [
             0.6666666666666666,
             "#ed7953"
            ],
            [
             0.7777777777777778,
             "#fb9f3a"
            ],
            [
             0.8888888888888888,
             "#fdca26"
            ],
            [
             1,
             "#f0f921"
            ]
           ],
           "sequentialminus": [
            [
             0,
             "#0d0887"
            ],
            [
             0.1111111111111111,
             "#46039f"
            ],
            [
             0.2222222222222222,
             "#7201a8"
            ],
            [
             0.3333333333333333,
             "#9c179e"
            ],
            [
             0.4444444444444444,
             "#bd3786"
            ],
            [
             0.5555555555555556,
             "#d8576b"
            ],
            [
             0.6666666666666666,
             "#ed7953"
            ],
            [
             0.7777777777777778,
             "#fb9f3a"
            ],
            [
             0.8888888888888888,
             "#fdca26"
            ],
            [
             1,
             "#f0f921"
            ]
           ]
          },
          "colorway": [
           "#636efa",
           "#EF553B",
           "#00cc96",
           "#ab63fa",
           "#FFA15A",
           "#19d3f3",
           "#FF6692",
           "#B6E880",
           "#FF97FF",
           "#FECB52"
          ],
          "font": {
           "color": "#2a3f5f"
          },
          "geo": {
           "bgcolor": "white",
           "lakecolor": "white",
           "landcolor": "#E5ECF6",
           "showlakes": true,
           "showland": true,
           "subunitcolor": "white"
          },
          "hoverlabel": {
           "align": "left"
          },
          "hovermode": "closest",
          "mapbox": {
           "style": "light"
          },
          "paper_bgcolor": "white",
          "plot_bgcolor": "#E5ECF6",
          "polar": {
           "angularaxis": {
            "gridcolor": "white",
            "linecolor": "white",
            "ticks": ""
           },
           "bgcolor": "#E5ECF6",
           "radialaxis": {
            "gridcolor": "white",
            "linecolor": "white",
            "ticks": ""
           }
          },
          "scene": {
           "xaxis": {
            "backgroundcolor": "#E5ECF6",
            "gridcolor": "white",
            "gridwidth": 2,
            "linecolor": "white",
            "showbackground": true,
            "ticks": "",
            "zerolinecolor": "white"
           },
           "yaxis": {
            "backgroundcolor": "#E5ECF6",
            "gridcolor": "white",
            "gridwidth": 2,
            "linecolor": "white",
            "showbackground": true,
            "ticks": "",
            "zerolinecolor": "white"
           },
           "zaxis": {
            "backgroundcolor": "#E5ECF6",
            "gridcolor": "white",
            "gridwidth": 2,
            "linecolor": "white",
            "showbackground": true,
            "ticks": "",
            "zerolinecolor": "white"
           }
          },
          "shapedefaults": {
           "line": {
            "color": "#2a3f5f"
           }
          },
          "ternary": {
           "aaxis": {
            "gridcolor": "white",
            "linecolor": "white",
            "ticks": ""
           },
           "baxis": {
            "gridcolor": "white",
            "linecolor": "white",
            "ticks": ""
           },
           "bgcolor": "#E5ECF6",
           "caxis": {
            "gridcolor": "white",
            "linecolor": "white",
            "ticks": ""
           }
          },
          "title": {
           "x": 0.05
          },
          "xaxis": {
           "automargin": true,
           "gridcolor": "white",
           "linecolor": "white",
           "ticks": "",
           "title": {
            "standoff": 15
           },
           "zerolinecolor": "white",
           "zerolinewidth": 2
          },
          "yaxis": {
           "automargin": true,
           "gridcolor": "white",
           "linecolor": "white",
           "ticks": "",
           "title": {
            "standoff": 15
           },
           "zerolinecolor": "white",
           "zerolinewidth": 2
          }
         }
        },
        "title": {
         "text": "Top smartphone making brands"
        }
       }
      },
      "text/html": [
       "<div>                            <div id=\"21bb3afe-6b65-4803-8dd7-ba0571bdad4c\" class=\"plotly-graph-div\" style=\"height:525px; width:100%;\"></div>            <script type=\"text/javascript\">                require([\"plotly\"], function(Plotly) {                    window.PLOTLYENV=window.PLOTLYENV || {};                                    if (document.getElementById(\"21bb3afe-6b65-4803-8dd7-ba0571bdad4c\")) {                    Plotly.newPlot(                        \"21bb3afe-6b65-4803-8dd7-ba0571bdad4c\",                        [{\"domain\":{\"x\":[0.0,1.0],\"y\":[0.0,1.0]},\"hole\":0.1,\"hovertemplate\":\"brand_name=%{label}\\u003cbr\\u003ecount=%{value}\\u003cextra\\u003e\\u003c\\u002fextra\\u003e\",\"labels\":[\"xiaomi\",\"samsung\",\"vivo\",\"realme\",\"oppo\",\"motorola\",\"apple\",\"oneplus\",\"poco\",\"tecno\",\"iqoo\",\"infinix\",\"huawei\",\"google\",\"honor\"],\"legendgroup\":\"\",\"name\":\"\",\"showlegend\":true,\"values\":[133,132,111,97,87,52,46,42,41,33,32,29,15,14,13],\"type\":\"pie\"}],                        {\"template\":{\"data\":{\"histogram2dcontour\":[{\"type\":\"histogram2dcontour\",\"colorbar\":{\"outlinewidth\":0,\"ticks\":\"\"},\"colorscale\":[[0.0,\"#0d0887\"],[0.1111111111111111,\"#46039f\"],[0.2222222222222222,\"#7201a8\"],[0.3333333333333333,\"#9c179e\"],[0.4444444444444444,\"#bd3786\"],[0.5555555555555556,\"#d8576b\"],[0.6666666666666666,\"#ed7953\"],[0.7777777777777778,\"#fb9f3a\"],[0.8888888888888888,\"#fdca26\"],[1.0,\"#f0f921\"]]}],\"choropleth\":[{\"type\":\"choropleth\",\"colorbar\":{\"outlinewidth\":0,\"ticks\":\"\"}}],\"histogram2d\":[{\"type\":\"histogram2d\",\"colorbar\":{\"outlinewidth\":0,\"ticks\":\"\"},\"colorscale\":[[0.0,\"#0d0887\"],[0.1111111111111111,\"#46039f\"],[0.2222222222222222,\"#7201a8\"],[0.3333333333333333,\"#9c179e\"],[0.4444444444444444,\"#bd3786\"],[0.5555555555555556,\"#d8576b\"],[0.6666666666666666,\"#ed7953\"],[0.7777777777777778,\"#fb9f3a\"],[0.8888888888888888,\"#fdca26\"],[1.0,\"#f0f921\"]]}],\"heatmap\":[{\"type\":\"heatmap\",\"colorbar\":{\"outlinewidth\":0,\"ticks\":\"\"},\"colorscale\":[[0.0,\"#0d0887\"],[0.1111111111111111,\"#46039f\"],[0.2222222222222222,\"#7201a8\"],[0.3333333333333333,\"#9c179e\"],[0.4444444444444444,\"#bd3786\"],[0.5555555555555556,\"#d8576b\"],[0.6666666666666666,\"#ed7953\"],[0.7777777777777778,\"#fb9f3a\"],[0.8888888888888888,\"#fdca26\"],[1.0,\"#f0f921\"]]}],\"heatmapgl\":[{\"type\":\"heatmapgl\",\"colorbar\":{\"outlinewidth\":0,\"ticks\":\"\"},\"colorscale\":[[0.0,\"#0d0887\"],[0.1111111111111111,\"#46039f\"],[0.2222222222222222,\"#7201a8\"],[0.3333333333333333,\"#9c179e\"],[0.4444444444444444,\"#bd3786\"],[0.5555555555555556,\"#d8576b\"],[0.6666666666666666,\"#ed7953\"],[0.7777777777777778,\"#fb9f3a\"],[0.8888888888888888,\"#fdca26\"],[1.0,\"#f0f921\"]]}],\"contourcarpet\":[{\"type\":\"contourcarpet\",\"colorbar\":{\"outlinewidth\":0,\"ticks\":\"\"}}],\"contour\":[{\"type\":\"contour\",\"colorbar\":{\"outlinewidth\":0,\"ticks\":\"\"},\"colorscale\":[[0.0,\"#0d0887\"],[0.1111111111111111,\"#46039f\"],[0.2222222222222222,\"#7201a8\"],[0.3333333333333333,\"#9c179e\"],[0.4444444444444444,\"#bd3786\"],[0.5555555555555556,\"#d8576b\"],[0.6666666666666666,\"#ed7953\"],[0.7777777777777778,\"#fb9f3a\"],[0.8888888888888888,\"#fdca26\"],[1.0,\"#f0f921\"]]}],\"surface\":[{\"type\":\"surface\",\"colorbar\":{\"outlinewidth\":0,\"ticks\":\"\"},\"colorscale\":[[0.0,\"#0d0887\"],[0.1111111111111111,\"#46039f\"],[0.2222222222222222,\"#7201a8\"],[0.3333333333333333,\"#9c179e\"],[0.4444444444444444,\"#bd3786\"],[0.5555555555555556,\"#d8576b\"],[0.6666666666666666,\"#ed7953\"],[0.7777777777777778,\"#fb9f3a\"],[0.8888888888888888,\"#fdca26\"],[1.0,\"#f0f921\"]]}],\"mesh3d\":[{\"type\":\"mesh3d\",\"colorbar\":{\"outlinewidth\":0,\"ticks\":\"\"}}],\"scatter\":[{\"fillpattern\":{\"fillmode\":\"overlay\",\"size\":10,\"solidity\":0.2},\"type\":\"scatter\"}],\"parcoords\":[{\"type\":\"parcoords\",\"line\":{\"colorbar\":{\"outlinewidth\":0,\"ticks\":\"\"}}}],\"scatterpolargl\":[{\"type\":\"scatterpolargl\",\"marker\":{\"colorbar\":{\"outlinewidth\":0,\"ticks\":\"\"}}}],\"bar\":[{\"error_x\":{\"color\":\"#2a3f5f\"},\"error_y\":{\"color\":\"#2a3f5f\"},\"marker\":{\"line\":{\"color\":\"#E5ECF6\",\"width\":0.5},\"pattern\":{\"fillmode\":\"overlay\",\"size\":10,\"solidity\":0.2}},\"type\":\"bar\"}],\"scattergeo\":[{\"type\":\"scattergeo\",\"marker\":{\"colorbar\":{\"outlinewidth\":0,\"ticks\":\"\"}}}],\"scatterpolar\":[{\"type\":\"scatterpolar\",\"marker\":{\"colorbar\":{\"outlinewidth\":0,\"ticks\":\"\"}}}],\"histogram\":[{\"marker\":{\"pattern\":{\"fillmode\":\"overlay\",\"size\":10,\"solidity\":0.2}},\"type\":\"histogram\"}],\"scattergl\":[{\"type\":\"scattergl\",\"marker\":{\"colorbar\":{\"outlinewidth\":0,\"ticks\":\"\"}}}],\"scatter3d\":[{\"type\":\"scatter3d\",\"line\":{\"colorbar\":{\"outlinewidth\":0,\"ticks\":\"\"}},\"marker\":{\"colorbar\":{\"outlinewidth\":0,\"ticks\":\"\"}}}],\"scattermapbox\":[{\"type\":\"scattermapbox\",\"marker\":{\"colorbar\":{\"outlinewidth\":0,\"ticks\":\"\"}}}],\"scatterternary\":[{\"type\":\"scatterternary\",\"marker\":{\"colorbar\":{\"outlinewidth\":0,\"ticks\":\"\"}}}],\"scattercarpet\":[{\"type\":\"scattercarpet\",\"marker\":{\"colorbar\":{\"outlinewidth\":0,\"ticks\":\"\"}}}],\"carpet\":[{\"aaxis\":{\"endlinecolor\":\"#2a3f5f\",\"gridcolor\":\"white\",\"linecolor\":\"white\",\"minorgridcolor\":\"white\",\"startlinecolor\":\"#2a3f5f\"},\"baxis\":{\"endlinecolor\":\"#2a3f5f\",\"gridcolor\":\"white\",\"linecolor\":\"white\",\"minorgridcolor\":\"white\",\"startlinecolor\":\"#2a3f5f\"},\"type\":\"carpet\"}],\"table\":[{\"cells\":{\"fill\":{\"color\":\"#EBF0F8\"},\"line\":{\"color\":\"white\"}},\"header\":{\"fill\":{\"color\":\"#C8D4E3\"},\"line\":{\"color\":\"white\"}},\"type\":\"table\"}],\"barpolar\":[{\"marker\":{\"line\":{\"color\":\"#E5ECF6\",\"width\":0.5},\"pattern\":{\"fillmode\":\"overlay\",\"size\":10,\"solidity\":0.2}},\"type\":\"barpolar\"}],\"pie\":[{\"automargin\":true,\"type\":\"pie\"}]},\"layout\":{\"autotypenumbers\":\"strict\",\"colorway\":[\"#636efa\",\"#EF553B\",\"#00cc96\",\"#ab63fa\",\"#FFA15A\",\"#19d3f3\",\"#FF6692\",\"#B6E880\",\"#FF97FF\",\"#FECB52\"],\"font\":{\"color\":\"#2a3f5f\"},\"hovermode\":\"closest\",\"hoverlabel\":{\"align\":\"left\"},\"paper_bgcolor\":\"white\",\"plot_bgcolor\":\"#E5ECF6\",\"polar\":{\"bgcolor\":\"#E5ECF6\",\"angularaxis\":{\"gridcolor\":\"white\",\"linecolor\":\"white\",\"ticks\":\"\"},\"radialaxis\":{\"gridcolor\":\"white\",\"linecolor\":\"white\",\"ticks\":\"\"}},\"ternary\":{\"bgcolor\":\"#E5ECF6\",\"aaxis\":{\"gridcolor\":\"white\",\"linecolor\":\"white\",\"ticks\":\"\"},\"baxis\":{\"gridcolor\":\"white\",\"linecolor\":\"white\",\"ticks\":\"\"},\"caxis\":{\"gridcolor\":\"white\",\"linecolor\":\"white\",\"ticks\":\"\"}},\"coloraxis\":{\"colorbar\":{\"outlinewidth\":0,\"ticks\":\"\"}},\"colorscale\":{\"sequential\":[[0.0,\"#0d0887\"],[0.1111111111111111,\"#46039f\"],[0.2222222222222222,\"#7201a8\"],[0.3333333333333333,\"#9c179e\"],[0.4444444444444444,\"#bd3786\"],[0.5555555555555556,\"#d8576b\"],[0.6666666666666666,\"#ed7953\"],[0.7777777777777778,\"#fb9f3a\"],[0.8888888888888888,\"#fdca26\"],[1.0,\"#f0f921\"]],\"sequentialminus\":[[0.0,\"#0d0887\"],[0.1111111111111111,\"#46039f\"],[0.2222222222222222,\"#7201a8\"],[0.3333333333333333,\"#9c179e\"],[0.4444444444444444,\"#bd3786\"],[0.5555555555555556,\"#d8576b\"],[0.6666666666666666,\"#ed7953\"],[0.7777777777777778,\"#fb9f3a\"],[0.8888888888888888,\"#fdca26\"],[1.0,\"#f0f921\"]],\"diverging\":[[0,\"#8e0152\"],[0.1,\"#c51b7d\"],[0.2,\"#de77ae\"],[0.3,\"#f1b6da\"],[0.4,\"#fde0ef\"],[0.5,\"#f7f7f7\"],[0.6,\"#e6f5d0\"],[0.7,\"#b8e186\"],[0.8,\"#7fbc41\"],[0.9,\"#4d9221\"],[1,\"#276419\"]]},\"xaxis\":{\"gridcolor\":\"white\",\"linecolor\":\"white\",\"ticks\":\"\",\"title\":{\"standoff\":15},\"zerolinecolor\":\"white\",\"automargin\":true,\"zerolinewidth\":2},\"yaxis\":{\"gridcolor\":\"white\",\"linecolor\":\"white\",\"ticks\":\"\",\"title\":{\"standoff\":15},\"zerolinecolor\":\"white\",\"automargin\":true,\"zerolinewidth\":2},\"scene\":{\"xaxis\":{\"backgroundcolor\":\"#E5ECF6\",\"gridcolor\":\"white\",\"linecolor\":\"white\",\"showbackground\":true,\"ticks\":\"\",\"zerolinecolor\":\"white\",\"gridwidth\":2},\"yaxis\":{\"backgroundcolor\":\"#E5ECF6\",\"gridcolor\":\"white\",\"linecolor\":\"white\",\"showbackground\":true,\"ticks\":\"\",\"zerolinecolor\":\"white\",\"gridwidth\":2},\"zaxis\":{\"backgroundcolor\":\"#E5ECF6\",\"gridcolor\":\"white\",\"linecolor\":\"white\",\"showbackground\":true,\"ticks\":\"\",\"zerolinecolor\":\"white\",\"gridwidth\":2}},\"shapedefaults\":{\"line\":{\"color\":\"#2a3f5f\"}},\"annotationdefaults\":{\"arrowcolor\":\"#2a3f5f\",\"arrowhead\":0,\"arrowwidth\":1},\"geo\":{\"bgcolor\":\"white\",\"landcolor\":\"#E5ECF6\",\"subunitcolor\":\"white\",\"showland\":true,\"showlakes\":true,\"lakecolor\":\"white\"},\"title\":{\"x\":0.05},\"mapbox\":{\"style\":\"light\"}}},\"legend\":{\"tracegroupgap\":0},\"title\":{\"text\":\"Top smartphone making brands\"}},                        {\"responsive\": true}                    ).then(function(){\n",
       "                            \n",
       "var gd = document.getElementById('21bb3afe-6b65-4803-8dd7-ba0571bdad4c');\n",
       "var x = new MutationObserver(function (mutations, observer) {{\n",
       "        var display = window.getComputedStyle(gd).display;\n",
       "        if (!display || display === 'none') {{\n",
       "            console.log([gd, 'removed!']);\n",
       "            Plotly.purge(gd);\n",
       "            observer.disconnect();\n",
       "        }}\n",
       "}});\n",
       "\n",
       "// Listen for the removal of the full notebook cells\n",
       "var notebookContainer = gd.closest('#notebook-container');\n",
       "if (notebookContainer) {{\n",
       "    x.observe(notebookContainer, {childList: true});\n",
       "}}\n",
       "\n",
       "// Listen for the clearing of the current output cell\n",
       "var outputEl = gd.closest('.output');\n",
       "if (outputEl) {{\n",
       "    x.observe(outputEl, {childList: true});\n",
       "}}\n",
       "\n",
       "                        })                };                });            </script>        </div>"
      ]
     },
     "metadata": {},
     "output_type": "display_data"
    }
   ],
   "source": [
    "fig = px.pie(top_brands, values='count', names='brand_name', title='Top smartphone making brands',hole=.1)\n",
    "fig.show()"
   ]
  },
  {
   "cell_type": "code",
   "execution_count": null,
   "id": "62710edd",
   "metadata": {},
   "outputs": [],
   "source": []
  }
 ],
 "metadata": {
  "kernelspec": {
   "display_name": "Python 3 (ipykernel)",
   "language": "python",
   "name": "python3"
  },
  "language_info": {
   "codemirror_mode": {
    "name": "ipython",
    "version": 3
   },
   "file_extension": ".py",
   "mimetype": "text/x-python",
   "name": "python",
   "nbconvert_exporter": "python",
   "pygments_lexer": "ipython3",
   "version": "3.11.0"
  }
 },
 "nbformat": 4,
 "nbformat_minor": 5
}
